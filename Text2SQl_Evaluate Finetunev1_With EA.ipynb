{
 "cells": [
  {
   "cell_type": "markdown",
   "metadata": {},
   "source": [
    "# Text2sql  Evaluate Finetune v1 with Execution Accurrcy"
   ]
  },
  {
   "cell_type": "code",
   "execution_count": 1,
   "metadata": {
    "execution": {
     "iopub.execute_input": "2025-02-22T01:51:01.273735Z",
     "iopub.status.busy": "2025-02-22T01:51:01.273548Z",
     "iopub.status.idle": "2025-02-22T01:54:19.488799Z",
     "shell.execute_reply": "2025-02-22T01:54:19.487954Z",
     "shell.execute_reply.started": "2025-02-22T01:51:01.273716Z"
    }
   },
   "outputs": [
    {
     "name": "stdout",
     "output_type": "stream",
     "text": [
      "\u001b[2K   \u001b[90m━━━━━━━━━━━━━━━━━━━━━━━━━━━━━━━━━━━━━━━━\u001b[0m \u001b[32m485.4/485.4 kB\u001b[0m \u001b[31m8.9 MB/s\u001b[0m eta \u001b[36m0:00:00\u001b[0ma \u001b[36m0:00:01\u001b[0m\n",
      "\u001b[2K     \u001b[90m━━━━━━━━━━━━━━━━━━━━━━━━━━━━━━━━━━━━━━━━\u001b[0m \u001b[32m44.0/44.0 kB\u001b[0m \u001b[31m3.0 MB/s\u001b[0m eta \u001b[36m0:00:00\u001b[0m\n",
      "\u001b[2K   \u001b[90m━━━━━━━━━━━━━━━━━━━━━━━━━━━━━━━━━━━━━━━━\u001b[0m \u001b[32m766.7/766.7 MB\u001b[0m \u001b[31m2.0 MB/s\u001b[0m eta \u001b[36m0:00:00\u001b[0m0:00:01\u001b[0m00:01\u001b[0m\n",
      "\u001b[2K   \u001b[90m━━━━━━━━━━━━━━━━━━━━━━━━━━━━━━━━━━━━━━━━\u001b[0m \u001b[32m363.4/363.4 MB\u001b[0m \u001b[31m2.3 MB/s\u001b[0m eta \u001b[36m0:00:00\u001b[0m0:00:01\u001b[0m00:01\u001b[0m\n",
      "\u001b[2K   \u001b[90m━━━━━━━━━━━━━━━━━━━━━━━━━━━━━━━━━━━━━━━━\u001b[0m \u001b[32m13.8/13.8 MB\u001b[0m \u001b[31m87.5 MB/s\u001b[0m eta \u001b[36m0:00:00\u001b[0m:00:01\u001b[0m0:01\u001b[0m\n",
      "\u001b[2K   \u001b[90m━━━━━━━━━━━━━━━━━━━━━━━━━━━━━━━━━━━━━━━━\u001b[0m \u001b[32m24.6/24.6 MB\u001b[0m \u001b[31m64.0 MB/s\u001b[0m eta \u001b[36m0:00:00\u001b[0m:00:01\u001b[0m00:01\u001b[0m\n",
      "\u001b[2K   \u001b[90m━━━━━━━━━━━━━━━━━━━━━━━━━━━━━━━━━━━━━━━━\u001b[0m \u001b[32m883.7/883.7 kB\u001b[0m \u001b[31m45.2 MB/s\u001b[0m eta \u001b[36m0:00:00\u001b[0m\n",
      "\u001b[2K   \u001b[90m━━━━━━━━━━━━━━━━━━━━━━━━━━━━━━━━━━━━━━━━\u001b[0m \u001b[32m664.8/664.8 MB\u001b[0m \u001b[31m1.9 MB/s\u001b[0m eta \u001b[36m0:00:00\u001b[0m0:00:01\u001b[0m00:01\u001b[0m\n",
      "\u001b[2K   \u001b[90m━━━━━━━━━━━━━━━━━━━━━━━━━━━━━━━━━━━━━━━━\u001b[0m \u001b[32m211.5/211.5 MB\u001b[0m \u001b[31m2.1 MB/s\u001b[0m eta \u001b[36m0:00:00\u001b[0m0:00:01\u001b[0m00:01\u001b[0m\n",
      "\u001b[2K   \u001b[90m━━━━━━━━━━━━━━━━━━━━━━━━━━━━━━━━━━━━━━━━\u001b[0m \u001b[32m56.3/56.3 MB\u001b[0m \u001b[31m30.1 MB/s\u001b[0m eta \u001b[36m0:00:00\u001b[0m:00:01\u001b[0m00:01\u001b[0m\n",
      "\u001b[2K   \u001b[90m━━━━━━━━━━━━━━━━━━━━━━━━━━━━━━━━━━━━━━━━\u001b[0m \u001b[32m127.9/127.9 MB\u001b[0m \u001b[31m13.1 MB/s\u001b[0m eta \u001b[36m0:00:00\u001b[0m:00:01\u001b[0m00:01\u001b[0m\n",
      "\u001b[2K   \u001b[90m━━━━━━━━━━━━━━━━━━━━━━━━━━━━━━━━━━━━━━━━\u001b[0m \u001b[32m207.5/207.5 MB\u001b[0m \u001b[31m7.7 MB/s\u001b[0m eta \u001b[36m0:00:00\u001b[0m0:00:01\u001b[0m00:01\u001b[0m\n",
      "\u001b[2K   \u001b[90m━━━━━━━━━━━━━━━━━━━━━━━━━━━━━━━━━━━━━━━━\u001b[0m \u001b[32m150.1/150.1 MB\u001b[0m \u001b[31m11.2 MB/s\u001b[0m eta \u001b[36m0:00:00\u001b[0m:00:01\u001b[0m00:01\u001b[0m\n",
      "\u001b[2K   \u001b[90m━━━━━━━━━━━━━━━━━━━━━━━━━━━━━━━━━━━━━━━━\u001b[0m \u001b[32m188.7/188.7 MB\u001b[0m \u001b[31m8.9 MB/s\u001b[0m eta \u001b[36m0:00:00\u001b[0m0:00:01\u001b[0m00:01\u001b[0m\n",
      "\u001b[2K   \u001b[90m━━━━━━━━━━━━━━━━━━━━━━━━━━━━━━━━━━━━━━━━\u001b[0m \u001b[32m21.1/21.1 MB\u001b[0m \u001b[31m70.8 MB/s\u001b[0m eta \u001b[36m0:00:00\u001b[0m:00:01\u001b[0m00:01\u001b[0m\n",
      "\u001b[2K   \u001b[90m━━━━━━━━━━━━━━━━━━━━━━━━━━━━━━━━━━━━━━━━\u001b[0m \u001b[32m99.1/99.1 kB\u001b[0m \u001b[31m6.8 MB/s\u001b[0m eta \u001b[36m0:00:00\u001b[0m\n",
      "\u001b[2K   \u001b[90m━━━━━━━━━━━━━━━━━━━━━━━━━━━━━━━━━━━━━━━━\u001b[0m \u001b[32m253.1/253.1 MB\u001b[0m \u001b[31m6.6 MB/s\u001b[0m eta \u001b[36m0:00:00\u001b[0m0:00:01\u001b[0m00:01\u001b[0m\n",
      "\u001b[2K   \u001b[90m━━━━━━━━━━━━━━━━━━━━━━━━━━━━━━━━━━━━━━━━\u001b[0m \u001b[32m23.5/23.5 MB\u001b[0m \u001b[31m55.0 MB/s\u001b[0m eta \u001b[36m0:00:00\u001b[0m:00:01\u001b[0m00:01\u001b[0m\n",
      "\u001b[2K   \u001b[90m━━━━━━━━━━━━━━━━━━━━━━━━━━━━━━━━━━━━━━━━\u001b[0m \u001b[32m10.0/10.0 MB\u001b[0m \u001b[31m100.7 MB/s\u001b[0m eta \u001b[36m0:00:00\u001b[0m00:01\u001b[0m0:01\u001b[0m\n",
      "\u001b[2K   \u001b[90m━━━━━━━━━━━━━━━━━━━━━━━━━━━━━━━━━━━━━━━━\u001b[0m \u001b[32m433.6/433.6 kB\u001b[0m \u001b[31m28.8 MB/s\u001b[0m eta \u001b[36m0:00:00\u001b[0m\n",
      "\u001b[2K   \u001b[90m━━━━━━━━━━━━━━━━━━━━━━━━━━━━━━━━━━━━━━━━\u001b[0m \u001b[32m13.2/13.2 MB\u001b[0m \u001b[31m75.5 MB/s\u001b[0m eta \u001b[36m0:00:00\u001b[0m:00:01\u001b[0m0:01\u001b[0m\n",
      "\u001b[?25h\u001b[31mERROR: pip's dependency resolver does not currently take into account all the packages that are installed. This behaviour is the source of the following dependency conflicts.\n",
      "fastai 2.7.18 requires torch<2.6,>=1.10, but you have torch 2.6.0 which is incompatible.\n",
      "pylibcugraph-cu12 24.10.0 requires pylibraft-cu12==24.10.*, but you have pylibraft-cu12 25.2.0 which is incompatible.\n",
      "pylibcugraph-cu12 24.10.0 requires rmm-cu12==24.10.*, but you have rmm-cu12 25.2.0 which is incompatible.\n",
      "torchaudio 2.5.1+cu121 requires torch==2.5.1, but you have torch 2.6.0 which is incompatible.\n",
      "torchvision 0.20.1+cu121 requires torch==2.5.1, but you have torch 2.6.0 which is incompatible.\u001b[0m\u001b[31m\n",
      "\u001b[2K   \u001b[90m━━━━━━━━━━━━━━━━━━━━━━━━━━━━━━━━━━━━━━━━\u001b[0m \u001b[32m318.9/318.9 kB\u001b[0m \u001b[31m6.7 MB/s\u001b[0m eta \u001b[36m0:00:00\u001b[0m00:01\u001b[0m\n",
      "\u001b[2K   \u001b[90m━━━━━━━━━━━━━━━━━━━━━━━━━━━━━━━━━━━━━━━━\u001b[0m \u001b[32m64.4/64.4 kB\u001b[0m \u001b[31m4.7 MB/s\u001b[0m eta \u001b[36m0:00:00\u001b[0m\n",
      "\u001b[2K   \u001b[90m━━━━━━━━━━━━━━━━━━━━━━━━━━━━━━━━━━━━━━━━\u001b[0m \u001b[32m342.1/342.1 kB\u001b[0m \u001b[31m23.3 MB/s\u001b[0m eta \u001b[36m0:00:00\u001b[0m\n",
      "\u001b[2K   \u001b[90m━━━━━━━━━━━━━━━━━━━━━━━━━━━━━━━━━━━━━━━━\u001b[0m \u001b[32m43.3/43.3 MB\u001b[0m \u001b[31m38.3 MB/s\u001b[0m eta \u001b[36m0:00:00\u001b[0m:00:01\u001b[0m00:01\u001b[0m\n",
      "\u001b[2K   \u001b[90m━━━━━━━━━━━━━━━━━━━━━━━━━━━━━━━━━━━━━━━━\u001b[0m \u001b[32m69.7/69.7 MB\u001b[0m \u001b[31m23.5 MB/s\u001b[0m eta \u001b[36m0:00:00\u001b[0m:00:01\u001b[0m0:01\u001b[0mm\n",
      "\u001b[?25h"
     ]
    }
   ],
   "source": [
    "!pip install -q -U torch auto-gptq transformers optimum\n",
    "!pip install -q -U peft trl einops accelerate xformers bitsandbytes\n"
   ]
  },
  {
   "cell_type": "code",
   "execution_count": 2,
   "metadata": {
    "execution": {
     "iopub.execute_input": "2025-02-22T01:54:26.908890Z",
     "iopub.status.busy": "2025-02-22T01:54:26.908601Z",
     "iopub.status.idle": "2025-02-22T01:55:21.582347Z",
     "shell.execute_reply": "2025-02-22T01:55:21.581478Z",
     "shell.execute_reply.started": "2025-02-22T01:54:26.908867Z"
    }
   },
   "outputs": [
    {
     "name": "stdout",
     "output_type": "stream",
     "text": [
      "Requirement already satisfied: torchvision==0.20.1 in /usr/local/lib/python3.10/dist-packages (0.20.1+cu121)\n",
      "Collecting torch==2.5.1\n",
      "  Downloading torch-2.5.1-cp310-cp310-manylinux1_x86_64.whl.metadata (28 kB)\n",
      "Requirement already satisfied: torchaudio==2.5.1 in /usr/local/lib/python3.10/dist-packages (2.5.1+cu121)\n",
      "Requirement already satisfied: numpy in /usr/local/lib/python3.10/dist-packages (from torchvision==0.20.1) (1.26.4)\n",
      "Requirement already satisfied: pillow!=8.3.*,>=5.3.0 in /usr/local/lib/python3.10/dist-packages (from torchvision==0.20.1) (11.0.0)\n",
      "Requirement already satisfied: filelock in /usr/local/lib/python3.10/dist-packages (from torch==2.5.1) (3.17.0)\n",
      "Requirement already satisfied: typing-extensions>=4.8.0 in /usr/local/lib/python3.10/dist-packages (from torch==2.5.1) (4.12.2)\n",
      "Requirement already satisfied: networkx in /usr/local/lib/python3.10/dist-packages (from torch==2.5.1) (3.4.2)\n",
      "Requirement already satisfied: jinja2 in /usr/local/lib/python3.10/dist-packages (from torch==2.5.1) (3.1.4)\n",
      "Requirement already satisfied: fsspec in /usr/local/lib/python3.10/dist-packages (from torch==2.5.1) (2024.12.0)\n",
      "Requirement already satisfied: nvidia-cuda-nvrtc-cu12==12.4.127 in /usr/local/lib/python3.10/dist-packages (from torch==2.5.1) (12.4.127)\n",
      "Requirement already satisfied: nvidia-cuda-runtime-cu12==12.4.127 in /usr/local/lib/python3.10/dist-packages (from torch==2.5.1) (12.4.127)\n",
      "Requirement already satisfied: nvidia-cuda-cupti-cu12==12.4.127 in /usr/local/lib/python3.10/dist-packages (from torch==2.5.1) (12.4.127)\n",
      "Requirement already satisfied: nvidia-cudnn-cu12==9.1.0.70 in /usr/local/lib/python3.10/dist-packages (from torch==2.5.1) (9.1.0.70)\n",
      "Requirement already satisfied: nvidia-cublas-cu12==12.4.5.8 in /usr/local/lib/python3.10/dist-packages (from torch==2.5.1) (12.4.5.8)\n",
      "Requirement already satisfied: nvidia-cufft-cu12==11.2.1.3 in /usr/local/lib/python3.10/dist-packages (from torch==2.5.1) (11.2.1.3)\n",
      "Requirement already satisfied: nvidia-curand-cu12==10.3.5.147 in /usr/local/lib/python3.10/dist-packages (from torch==2.5.1) (10.3.5.147)\n",
      "Requirement already satisfied: nvidia-cusolver-cu12==11.6.1.9 in /usr/local/lib/python3.10/dist-packages (from torch==2.5.1) (11.6.1.9)\n",
      "Requirement already satisfied: nvidia-cusparse-cu12==12.3.1.170 in /usr/local/lib/python3.10/dist-packages (from torch==2.5.1) (12.3.1.170)\n",
      "Requirement already satisfied: nvidia-nccl-cu12==2.21.5 in /usr/local/lib/python3.10/dist-packages (from torch==2.5.1) (2.21.5)\n",
      "Requirement already satisfied: nvidia-nvtx-cu12==12.4.127 in /usr/local/lib/python3.10/dist-packages (from torch==2.5.1) (12.4.127)\n",
      "Requirement already satisfied: nvidia-nvjitlink-cu12==12.4.127 in /usr/local/lib/python3.10/dist-packages (from torch==2.5.1) (12.4.127)\n",
      "Collecting triton==3.1.0 (from torch==2.5.1)\n",
      "  Downloading triton-3.1.0-cp310-cp310-manylinux_2_17_x86_64.manylinux2014_x86_64.whl.metadata (1.3 kB)\n",
      "Requirement already satisfied: sympy==1.13.1 in /usr/local/lib/python3.10/dist-packages (from torch==2.5.1) (1.13.1)\n",
      "Requirement already satisfied: mpmath<1.4,>=1.1.0 in /usr/local/lib/python3.10/dist-packages (from sympy==1.13.1->torch==2.5.1) (1.3.0)\n",
      "Requirement already satisfied: MarkupSafe>=2.0 in /usr/local/lib/python3.10/dist-packages (from jinja2->torch==2.5.1) (3.0.2)\n",
      "Requirement already satisfied: mkl_fft in /usr/local/lib/python3.10/dist-packages (from numpy->torchvision==0.20.1) (1.3.8)\n",
      "Requirement already satisfied: mkl_random in /usr/local/lib/python3.10/dist-packages (from numpy->torchvision==0.20.1) (1.2.4)\n",
      "Requirement already satisfied: mkl_umath in /usr/local/lib/python3.10/dist-packages (from numpy->torchvision==0.20.1) (0.1.1)\n",
      "Requirement already satisfied: mkl in /usr/local/lib/python3.10/dist-packages (from numpy->torchvision==0.20.1) (2025.0.1)\n",
      "Requirement already satisfied: tbb4py in /usr/local/lib/python3.10/dist-packages (from numpy->torchvision==0.20.1) (2022.0.0)\n",
      "Requirement already satisfied: mkl-service in /usr/local/lib/python3.10/dist-packages (from numpy->torchvision==0.20.1) (2.4.1)\n",
      "Requirement already satisfied: intel-openmp>=2024 in /usr/local/lib/python3.10/dist-packages (from mkl->numpy->torchvision==0.20.1) (2024.2.0)\n",
      "Requirement already satisfied: tbb==2022.* in /usr/local/lib/python3.10/dist-packages (from mkl->numpy->torchvision==0.20.1) (2022.0.0)\n",
      "Requirement already satisfied: tcmlib==1.* in /usr/local/lib/python3.10/dist-packages (from tbb==2022.*->mkl->numpy->torchvision==0.20.1) (1.2.0)\n",
      "Requirement already satisfied: intel-cmplr-lib-rt in /usr/local/lib/python3.10/dist-packages (from mkl_umath->numpy->torchvision==0.20.1) (2024.2.0)\n",
      "Requirement already satisfied: intel-cmplr-lib-ur==2024.2.0 in /usr/local/lib/python3.10/dist-packages (from intel-openmp>=2024->mkl->numpy->torchvision==0.20.1) (2024.2.0)\n",
      "Downloading torch-2.5.1-cp310-cp310-manylinux1_x86_64.whl (906.4 MB)\n",
      "\u001b[2K   \u001b[90m━━━━━━━━━━━━━━━━━━━━━━━━━━━━━━━━━━━━━━━━\u001b[0m \u001b[32m906.4/906.4 MB\u001b[0m \u001b[31m1.3 MB/s\u001b[0m eta \u001b[36m0:00:00\u001b[0m0:00:01\u001b[0m00:01\u001b[0m\n",
      "\u001b[?25hDownloading triton-3.1.0-cp310-cp310-manylinux_2_17_x86_64.manylinux2014_x86_64.whl (209.5 MB)\n",
      "\u001b[2K   \u001b[90m━━━━━━━━━━━━━━━━━━━━━━━━━━━━━━━━━━━━━━━━\u001b[0m \u001b[32m209.5/209.5 MB\u001b[0m \u001b[31m2.1 MB/s\u001b[0m eta \u001b[36m0:00:00\u001b[0m0:00:01\u001b[0m00:01\u001b[0m\n",
      "\u001b[?25hInstalling collected packages: triton, torch\n",
      "  Attempting uninstall: triton\n",
      "    Found existing installation: triton 3.2.0\n",
      "    Uninstalling triton-3.2.0:\n",
      "      Successfully uninstalled triton-3.2.0\n",
      "  Attempting uninstall: torch\n",
      "    Found existing installation: torch 2.6.0\n",
      "    Uninstalling torch-2.6.0:\n",
      "      Successfully uninstalled torch-2.6.0\n",
      "\u001b[31mERROR: pip's dependency resolver does not currently take into account all the packages that are installed. This behaviour is the source of the following dependency conflicts.\n",
      "xformers 0.0.29.post3 requires torch==2.6.0, but you have torch 2.5.1 which is incompatible.\u001b[0m\u001b[31m\n",
      "\u001b[0mSuccessfully installed torch-2.5.1 triton-3.1.0\n"
     ]
    }
   ],
   "source": [
    "! pip install torchvision==0.20.1 torch==2.5.1 torchaudio==2.5.1"
   ]
  },
  {
   "cell_type": "code",
   "execution_count": 3,
   "metadata": {
    "execution": {
     "iopub.execute_input": "2025-02-22T01:55:37.797406Z",
     "iopub.status.busy": "2025-02-22T01:55:37.797067Z",
     "iopub.status.idle": "2025-02-22T01:56:01.722137Z",
     "shell.execute_reply": "2025-02-22T01:56:01.721430Z",
     "shell.execute_reply.started": "2025-02-22T01:55:37.797375Z"
    }
   },
   "outputs": [],
   "source": [
    "import torch\n",
    "from transformers import AutoTokenizer, AutoModelForCausalLM\n",
    "import re\n",
    "import json\n",
    "import sqlite3\n",
    "import sqlparse\n",
    "import os\n",
    "from peft import prepare_model_for_kbit_training, LoraConfig, get_peft_model, AutoPeftModelForCausalLM\n",
    "from transformers import GPTQConfig, Trainer, TrainingArguments, DataCollatorForLanguageModeling\n",
    "from trl import SFTTrainer\n",
    "from time import perf_counter\n",
    "from rich import print\n"
   ]
  },
  {
   "cell_type": "code",
   "execution_count": 4,
   "metadata": {
    "execution": {
     "iopub.execute_input": "2025-02-22T01:56:15.274197Z",
     "iopub.status.busy": "2025-02-22T01:56:15.273871Z",
     "iopub.status.idle": "2025-02-22T01:56:15.358301Z",
     "shell.execute_reply": "2025-02-22T01:56:15.357381Z",
     "shell.execute_reply.started": "2025-02-22T01:56:15.274146Z"
    }
   },
   "outputs": [
    {
     "data": {
      "text/plain": [
       "True"
      ]
     },
     "execution_count": 4,
     "metadata": {},
     "output_type": "execute_result"
    }
   ],
   "source": [
    "torch.cuda.is_available()"
   ]
  },
  {
   "cell_type": "code",
   "execution_count": 5,
   "metadata": {
    "execution": {
     "iopub.execute_input": "2025-02-22T01:56:20.408879Z",
     "iopub.status.busy": "2025-02-22T01:56:20.408595Z",
     "iopub.status.idle": "2025-02-22T01:56:20.451054Z",
     "shell.execute_reply": "2025-02-22T01:56:20.450371Z",
     "shell.execute_reply.started": "2025-02-22T01:56:20.408857Z"
    }
   },
   "outputs": [
    {
     "data": {
      "text/plain": [
       "15828320256"
      ]
     },
     "execution_count": 5,
     "metadata": {},
     "output_type": "execute_result"
    }
   ],
   "source": [
    "available_memory = torch.cuda.get_device_properties(0).total_memory\n",
    "available_memory"
   ]
  },
  {
   "cell_type": "markdown",
   "metadata": {},
   "source": [
    "# Load our model from Huggingface and it's Tokenizer "
   ]
  },
  {
   "cell_type": "code",
   "execution_count": null,
   "metadata": {
    "execution": {
     "iopub.execute_input": "2025-02-22T01:57:11.003858Z",
     "iopub.status.busy": "2025-02-22T01:57:11.003522Z",
     "iopub.status.idle": "2025-02-22T01:57:37.989862Z",
     "shell.execute_reply": "2025-02-22T01:57:37.989126Z",
     "shell.execute_reply.started": "2025-02-22T01:57:11.003835Z"
    }
   },
   "outputs": [],
   "source": [
    "model_name = \"khalifa1/Text2sql_LLama2_7b_Finetuned\"\n",
    "tokenizer = AutoTokenizer.from_pretrained(model_name)\n",
    "tokenizer.pad_token = tokenizer.eos_token\n",
    "tokenizer.padding_side = \"right\"\n",
    "if available_memory > 15e9:\n",
    "    # if you have atleast 15GB of GPU memory, run load the model in float16\n",
    "    model = AutoModelForCausalLM.from_pretrained(\n",
    "        model_name,\n",
    "        trust_remote_code=True,\n",
    "        torch_dtype=torch.float16,\n",
    "        device_map=\"auto\",\n",
    "        use_cache=True,\n",
    "    )\n",
    "else:\n",
    "    # else, load in 4 bits – this is slower and less accurate\n",
    "    model = AutoModelForCausalLM.from_pretrained(\n",
    "        model_name,\n",
    "        trust_remote_code=True,\n",
    "        # torch_dtype=torch.float16,\n",
    "        load_in_4bit=True,\n",
    "        device_map=\"auto\",\n",
    "        use_cache=True,\n",
    "    )"
   ]
  },
  {
   "cell_type": "markdown",
   "metadata": {},
   "source": [
    "## Load Spider dataset and it's database "
   ]
  },
  {
   "cell_type": "code",
   "execution_count": 8,
   "metadata": {
    "execution": {
     "iopub.execute_input": "2025-02-22T01:58:14.085016Z",
     "iopub.status.busy": "2025-02-22T01:58:14.084702Z",
     "iopub.status.idle": "2025-02-22T01:58:14.152016Z",
     "shell.execute_reply": "2025-02-22T01:58:14.151215Z",
     "shell.execute_reply.started": "2025-02-22T01:58:14.084991Z"
    }
   },
   "outputs": [
    {
     "data": {
      "text/plain": [
       "{'db_id': 'geo',\n",
       " 'query': 'SELECT city_name FROM city WHERE population  =  ( SELECT MAX ( population ) FROM city WHERE state_name  =  \"wyoming\" ) AND state_name  =  \"wyoming\";',\n",
       " 'query_toks': ['SELECT',\n",
       "  'city_name',\n",
       "  'FROM',\n",
       "  'city',\n",
       "  'WHERE',\n",
       "  'population',\n",
       "  '=',\n",
       "  '(',\n",
       "  'SELECT',\n",
       "  'MAX',\n",
       "  '(',\n",
       "  'population',\n",
       "  ')',\n",
       "  'FROM',\n",
       "  'city',\n",
       "  'WHERE',\n",
       "  'state_name',\n",
       "  '=',\n",
       "  '``',\n",
       "  'wyoming',\n",
       "  \"''\",\n",
       "  ')',\n",
       "  'AND',\n",
       "  'state_name',\n",
       "  '=',\n",
       "  '``',\n",
       "  'wyoming',\n",
       "  \"''\",\n",
       "  ';'],\n",
       " 'query_toks_no_value': ['select',\n",
       "  'city_name',\n",
       "  'from',\n",
       "  'city',\n",
       "  'where',\n",
       "  'population',\n",
       "  '=',\n",
       "  '(',\n",
       "  'select',\n",
       "  'max',\n",
       "  '(',\n",
       "  'population',\n",
       "  ')',\n",
       "  'from',\n",
       "  'city',\n",
       "  'where',\n",
       "  'state_name',\n",
       "  '=',\n",
       "  'value',\n",
       "  ')',\n",
       "  'and',\n",
       "  'state_name',\n",
       "  '=',\n",
       "  'value'],\n",
       " 'question': 'what is the biggest city in wyoming',\n",
       " 'question_toks': ['what', 'is', 'the', 'biggest', 'city', 'in', 'wyoming'],\n",
       " 'sql': {'except': None,\n",
       "  'from': {'conds': [], 'table_units': [['table_unit', 1]]},\n",
       "  'groupBy': [],\n",
       "  'having': [],\n",
       "  'intersect': None,\n",
       "  'limit': None,\n",
       "  'orderBy': [],\n",
       "  'select': [False, [[0, [0, [0, 7, False], None]]]],\n",
       "  'union': None,\n",
       "  'where': [[False,\n",
       "    2,\n",
       "    [0, [0, 8, False], None],\n",
       "    {'except': None,\n",
       "     'from': {'conds': [], 'table_units': [['table_unit', 1]]},\n",
       "     'groupBy': [],\n",
       "     'having': [],\n",
       "     'intersect': None,\n",
       "     'limit': None,\n",
       "     'orderBy': [],\n",
       "     'select': [False, [[1, [0, [0, 8, False], None]]]],\n",
       "     'union': None,\n",
       "     'where': [[False, 2, [0, [0, 10, False], None], '\"wyoming\"', None]]},\n",
       "    None],\n",
       "   'and',\n",
       "   [False, 2, [0, [0, 10, False], None], '\"wyoming\"', None]]}}"
      ]
     },
     "execution_count": 8,
     "metadata": {},
     "output_type": "execute_result"
    }
   ],
   "source": [
    "spider_db_path = \"/kaggle/input/yale-universitys-spider-10-nlp-dataset/spider/database\"\n",
    "spider_eval_path = \"/kaggle/input/yale-universitys-spider-10-nlp-dataset/spider/train_others.json\"\n",
    "\n",
    "with open(spider_eval_path, \"r\") as f:\n",
    "    data = json.load(f)\n",
    "data[0] "
   ]
  },
  {
   "cell_type": "markdown",
   "metadata": {},
   "source": [
    "##  Database connection setup"
   ]
  },
  {
   "cell_type": "code",
   "execution_count": 9,
   "metadata": {
    "execution": {
     "iopub.execute_input": "2025-02-22T01:58:20.030395Z",
     "iopub.status.busy": "2025-02-22T01:58:20.030036Z",
     "iopub.status.idle": "2025-02-22T01:58:20.035620Z",
     "shell.execute_reply": "2025-02-22T01:58:20.034595Z",
     "shell.execute_reply.started": "2025-02-22T01:58:20.030367Z"
    }
   },
   "outputs": [],
   "source": [
    "def get_conn(db_id: str):\n",
    "    db_file = f\"{db_id}.sqlite\"\n",
    "    db_path = os.path.join(spider_db_path, db_id, db_file)\n",
    "    conn = sqlite3.connect(db_path)\n",
    "    return conn\n",
    "\n",
    "def get_db_schema(conn) -> str:\n",
    "    res = conn.execute(\"SELECT * FROM sqlite_master\").fetchall()\n",
    "    schema = \"\"\n",
    "    for d in res:\n",
    "        if d[-1] is None:\n",
    "            continue    \n",
    "        schema += f\"{d[-1]}\\n\\n\"\n",
    "    return schema"
   ]
  },
  {
   "cell_type": "markdown",
   "metadata": {},
   "source": [
    "## inference function generate the Query from ques and Schema "
   ]
  },
  {
   "cell_type": "code",
   "execution_count": 15,
   "metadata": {
    "execution": {
     "iopub.execute_input": "2025-02-22T02:16:22.929476Z",
     "iopub.status.busy": "2025-02-22T02:16:22.929149Z",
     "iopub.status.idle": "2025-02-22T02:16:22.935630Z",
     "shell.execute_reply": "2025-02-22T02:16:22.934828Z",
     "shell.execute_reply.started": "2025-02-22T02:16:22.929454Z"
    }
   },
   "outputs": [],
   "source": [
    "def inference(question: str, schema: str) -> str:\n",
    "    prompt = \"\"\"### Instruction:\n",
    "    You are a powerful text-to-SQL model. \\\n",
    "    Your job is to answer questions about a sqlite database. \n",
    "    Adhere to these rules:\n",
    "    - **Deliberately analyze the question and schema**\n",
    "    - **Use Table Aliases** to prevent ambiguity\n",
    "    - **Cast numerators as float for ratios**\n",
    "    - **Use only one column per query**\n",
    "    You are given a question and context regarding one or more tables.\n",
    "\n",
    "    You must output the SQL query that bestanswers the question.\n",
    "\n",
    "    ### Input:\n",
    "    {question}\n",
    "    ### Context:\n",
    "    {schema}\n",
    "    ### Response:\n",
    "    ```sql \n",
    "    \"\"\".format(question=question, schema=schema)\n",
    "\n",
    "\n",
    "    inputs = tokenizer(prompt, return_tensors=\"pt\").to(\"cuda\")\n",
    "    generated_ids = model.generate(\n",
    "        **inputs,\n",
    "        num_return_sequences=1,\n",
    "        eos_token_id=tokenizer.eos_token_id,\n",
    "        pad_token_id=tokenizer.eos_token_id,\n",
    "        max_new_tokens=180,\n",
    "        do_sample=False,\n",
    "    )\n",
    "    outputs = tokenizer.batch_decode(generated_ids, skip_special_tokens=True)\n",
    "    \n",
    "    # Post-processing\n",
    "    postgres_query = outputs[0].split(\"```sql\")[-1].rstrip(\"```\")\n",
    "    return postgres_to_sqlite(postgres_query)\n",
    "\n",
    "def postgres_to_sqlite(query: str) -> str:\n",
    "    substitutions = [\n",
    "        (r'ilike', 'LIKE'),\n",
    "        (r'serial\\s*$', 'INTEGER PRIMARY KEY AUTOINCREMENT'),\n",
    "        (r'start\\s+with\\s+(\\d+)', 'CHECK (id >= \\\\1)'),\n",
    "    ]\n",
    "    for pattern, replacement in substitutions:\n",
    "        query = re.sub(pattern, replacement, query, flags=re.IGNORECASE)\n",
    "    return query"
   ]
  },
  {
   "cell_type": "markdown",
   "metadata": {},
   "source": [
    "## Evaluation script"
   ]
  },
  {
   "cell_type": "code",
   "execution_count": 11,
   "metadata": {
    "execution": {
     "iopub.execute_input": "2025-02-22T01:59:11.275531Z",
     "iopub.status.busy": "2025-02-22T01:59:11.275223Z",
     "iopub.status.idle": "2025-02-22T01:59:11.282147Z",
     "shell.execute_reply": "2025-02-22T01:59:11.281115Z",
     "shell.execute_reply.started": "2025-02-22T01:59:11.275510Z"
    }
   },
   "outputs": [],
   "source": [
    "def compare_sql(gold: str, gen: str, conn, is_ordered=False):\n",
    "    try:\n",
    "        gold_res = pd.read_sql(gold, conn)\n",
    "    except Exception as _:\n",
    "        return 1\n",
    "\n",
    "    try:\n",
    "        gen_res = pd.read_sql(gen, conn)\n",
    "    except Exception as _:\n",
    "        print(\"[Gen Fail]\", gen)\n",
    "        return 0\n",
    "\n",
    "    accuracy = 0\n",
    "    if (len(gold_res)) == 0:\n",
    "        return 1 if len(gen_res) == 0 else 0\n",
    "    \n",
    "    gold_len = len(gold_res)\n",
    "    gen_len = len(gen_res)\n",
    "    for i in range(min(gold_len, gen_len)):\n",
    "        gold_record = gold_res.values[i]\n",
    "        \n",
    "        if not is_ordered:\n",
    "            try:\n",
    "                is_match = gold_record in gen_res.values\n",
    "            except:\n",
    "                is_match = False\n",
    "        else:\n",
    "            is_match = gold_record == gen_res.values[i]\n",
    "            if (type(is_match) != bool):\n",
    "                is_match = is_match.all()\n",
    "                \n",
    "        if is_match:\n",
    "            accuracy += 1\n",
    "\n",
    "    return accuracy / len(gold_res)\n",
    " \n"
   ]
  },
  {
   "cell_type": "markdown",
   "metadata": {},
   "source": [
    "##  Main Evaluation loop"
   ]
  },
  {
   "cell_type": "code",
   "execution_count": null,
   "metadata": {
    "execution": {
     "iopub.execute_input": "2025-02-22T02:34:08.888573Z",
     "iopub.status.busy": "2025-02-22T02:34:08.888155Z",
     "iopub.status.idle": "2025-02-22T06:44:58.674831Z",
     "shell.execute_reply": "2025-02-22T06:44:58.673914Z",
     "shell.execute_reply.started": "2025-02-22T02:34:08.888533Z"
    }
   },
   "outputs": [
    {
     "data": {
      "text/html": [
       "<pre style=\"white-space:pre;overflow-x:auto;line-height:normal;font-family:Menlo,'DejaVu Sans Mono',consolas,'Courier New',monospace\"><span style=\"font-weight: bold\">[</span><span style=\"color: #008080; text-decoration-color: #008080; font-weight: bold\">0</span><span style=\"font-weight: bold\">]</span> \n",
       "</pre>\n"
      ],
      "text/plain": [
       "\u001b[1m[\u001b[0m\u001b[1;36m0\u001b[0m\u001b[1m]\u001b[0m \n"
      ]
     },
     "metadata": {},
     "output_type": "display_data"
    },
    {
     "data": {
      "text/html": [
       "<pre style=\"white-space:pre;overflow-x:auto;line-height:normal;font-family:Menlo,'DejaVu Sans Mono',consolas,'Courier New',monospace\">Question: where is the ohio river\n",
       "</pre>\n"
      ],
      "text/plain": [
       "Question: where is the ohio river\n"
      ]
     },
     "metadata": {},
     "output_type": "display_data"
    },
    {
     "data": {
      "text/html": [
       "<pre style=\"white-space:pre;overflow-x:auto;line-height:normal;font-family:Menlo,'DejaVu Sans Mono',consolas,'Courier New',monospace\">Gold SQL: SELECT traverse FROM river WHERE river_name  =  <span style=\"color: #008000; text-decoration-color: #008000\">\"ohio\"</span>;\n",
       "</pre>\n"
      ],
      "text/plain": [
       "Gold SQL: SELECT traverse FROM river WHERE river_name  =  \u001b[32m\"ohio\"\u001b[0m;\n"
      ]
     },
     "metadata": {},
     "output_type": "display_data"
    },
    {
     "data": {
      "text/html": [
       "<pre style=\"white-space:pre;overflow-x:auto;line-height:normal;font-family:Menlo,'DejaVu Sans Mono',consolas,'Courier New',monospace\"><span style=\"font-weight: bold\">[</span><span style=\"color: #008080; text-decoration-color: #008080; font-weight: bold\">1</span><span style=\"font-weight: bold\">]</span> \n",
       "</pre>\n"
      ],
      "text/plain": [
       "\u001b[1m[\u001b[0m\u001b[1;36m1\u001b[0m\u001b[1m]\u001b[0m \n"
      ]
     },
     "metadata": {},
     "output_type": "display_data"
    },
    {
     "data": {
      "text/html": [
       "<pre style=\"white-space:pre;overflow-x:auto;line-height:normal;font-family:Menlo,'DejaVu Sans Mono',consolas,'Courier New',monospace\">Question: which states does the ohio river run through\n",
       "</pre>\n"
      ],
      "text/plain": [
       "Question: which states does the ohio river run through\n"
      ]
     },
     "metadata": {},
     "output_type": "display_data"
    },
    {
     "data": {
      "text/html": [
       "<pre style=\"white-space:pre;overflow-x:auto;line-height:normal;font-family:Menlo,'DejaVu Sans Mono',consolas,'Courier New',monospace\">Gold SQL: SELECT traverse FROM river WHERE river_name  =  <span style=\"color: #008000; text-decoration-color: #008000\">\"ohio\"</span>;\n",
       "</pre>\n"
      ],
      "text/plain": [
       "Gold SQL: SELECT traverse FROM river WHERE river_name  =  \u001b[32m\"ohio\"\u001b[0m;\n"
      ]
     },
     "metadata": {},
     "output_type": "display_data"
    },
    {
     "data": {
      "text/html": [
       "<pre style=\"white-space:pre;overflow-x:auto;line-height:normal;font-family:Menlo,'DejaVu Sans Mono',consolas,'Courier New',monospace\"><span style=\"font-weight: bold\">[</span><span style=\"color: #008080; text-decoration-color: #008080; font-weight: bold\">2</span><span style=\"font-weight: bold\">]</span> \n",
       "</pre>\n"
      ],
      "text/plain": [
       "\u001b[1m[\u001b[0m\u001b[1;36m2\u001b[0m\u001b[1m]\u001b[0m \n"
      ]
     },
     "metadata": {},
     "output_type": "display_data"
    },
    {
     "data": {
      "text/html": [
       "<pre style=\"white-space:pre;overflow-x:auto;line-height:normal;font-family:Menlo,'DejaVu Sans Mono',consolas,'Courier New',monospace\">Question: which states does the ohio run through\n",
       "</pre>\n"
      ],
      "text/plain": [
       "Question: which states does the ohio run through\n"
      ]
     },
     "metadata": {},
     "output_type": "display_data"
    },
    {
     "data": {
      "text/html": [
       "<pre style=\"white-space:pre;overflow-x:auto;line-height:normal;font-family:Menlo,'DejaVu Sans Mono',consolas,'Courier New',monospace\">Gold SQL: SELECT traverse FROM river WHERE river_name  =  <span style=\"color: #008000; text-decoration-color: #008000\">\"ohio\"</span>;\n",
       "</pre>\n"
      ],
      "text/plain": [
       "Gold SQL: SELECT traverse FROM river WHERE river_name  =  \u001b[32m\"ohio\"\u001b[0m;\n"
      ]
     },
     "metadata": {},
     "output_type": "display_data"
    },
    {
     "data": {
      "text/html": [
       "<pre style=\"white-space:pre;overflow-x:auto;line-height:normal;font-family:Menlo,'DejaVu Sans Mono',consolas,'Courier New',monospace\"><span style=\"font-weight: bold\">[</span><span style=\"color: #008080; text-decoration-color: #008080; font-weight: bold\">3</span><span style=\"font-weight: bold\">]</span> \n",
       "</pre>\n"
      ],
      "text/plain": [
       "\u001b[1m[\u001b[0m\u001b[1;36m3\u001b[0m\u001b[1m]\u001b[0m \n"
      ]
     },
     "metadata": {},
     "output_type": "display_data"
    },
    {
     "data": {
      "text/html": [
       "<pre style=\"white-space:pre;overflow-x:auto;line-height:normal;font-family:Menlo,'DejaVu Sans Mono',consolas,'Courier New',monospace\">Question: which states does the ohio river pass through\n",
       "</pre>\n"
      ],
      "text/plain": [
       "Question: which states does the ohio river pass through\n"
      ]
     },
     "metadata": {},
     "output_type": "display_data"
    },
    {
     "data": {
      "text/html": [
       "<pre style=\"white-space:pre;overflow-x:auto;line-height:normal;font-family:Menlo,'DejaVu Sans Mono',consolas,'Courier New',monospace\">Gold SQL: SELECT traverse FROM river WHERE river_name  =  <span style=\"color: #008000; text-decoration-color: #008000\">\"ohio\"</span>;\n",
       "</pre>\n"
      ],
      "text/plain": [
       "Gold SQL: SELECT traverse FROM river WHERE river_name  =  \u001b[32m\"ohio\"\u001b[0m;\n"
      ]
     },
     "metadata": {},
     "output_type": "display_data"
    },
    {
     "data": {
      "text/html": [
       "<pre style=\"white-space:pre;overflow-x:auto;line-height:normal;font-family:Menlo,'DejaVu Sans Mono',consolas,'Courier New',monospace\"><span style=\"font-weight: bold\">[</span><span style=\"color: #008080; text-decoration-color: #008080; font-weight: bold\">4</span><span style=\"font-weight: bold\">]</span> \n",
       "</pre>\n"
      ],
      "text/plain": [
       "\u001b[1m[\u001b[0m\u001b[1;36m4\u001b[0m\u001b[1m]\u001b[0m \n"
      ]
     },
     "metadata": {},
     "output_type": "display_data"
    },
    {
     "data": {
      "text/html": [
       "<pre style=\"white-space:pre;overflow-x:auto;line-height:normal;font-family:Menlo,'DejaVu Sans Mono',consolas,'Courier New',monospace\">Question: what are the states that the ohio run through\n",
       "</pre>\n"
      ],
      "text/plain": [
       "Question: what are the states that the ohio run through\n"
      ]
     },
     "metadata": {},
     "output_type": "display_data"
    },
    {
     "data": {
      "text/html": [
       "<pre style=\"white-space:pre;overflow-x:auto;line-height:normal;font-family:Menlo,'DejaVu Sans Mono',consolas,'Courier New',monospace\">Gold SQL: SELECT traverse FROM river WHERE river_name  =  <span style=\"color: #008000; text-decoration-color: #008000\">\"ohio\"</span>;\n",
       "</pre>\n"
      ],
      "text/plain": [
       "Gold SQL: SELECT traverse FROM river WHERE river_name  =  \u001b[32m\"ohio\"\u001b[0m;\n"
      ]
     },
     "metadata": {},
     "output_type": "display_data"
    },
    {
     "data": {
      "text/html": [
       "<pre style=\"white-space:pre;overflow-x:auto;line-height:normal;font-family:Menlo,'DejaVu Sans Mono',consolas,'Courier New',monospace\"><span style=\"font-weight: bold\">[</span><span style=\"color: #008080; text-decoration-color: #008080; font-weight: bold\">5</span><span style=\"font-weight: bold\">]</span> \n",
       "</pre>\n"
      ],
      "text/plain": [
       "\u001b[1m[\u001b[0m\u001b[1;36m5\u001b[0m\u001b[1m]\u001b[0m \n"
      ]
     },
     "metadata": {},
     "output_type": "display_data"
    },
    {
     "data": {
      "text/html": [
       "<pre style=\"white-space:pre;overflow-x:auto;line-height:normal;font-family:Menlo,'DejaVu Sans Mono',consolas,'Courier New',monospace\">Question: which state has the ohio river\n",
       "</pre>\n"
      ],
      "text/plain": [
       "Question: which state has the ohio river\n"
      ]
     },
     "metadata": {},
     "output_type": "display_data"
    },
    {
     "data": {
      "text/html": [
       "<pre style=\"white-space:pre;overflow-x:auto;line-height:normal;font-family:Menlo,'DejaVu Sans Mono',consolas,'Courier New',monospace\">Gold SQL: SELECT traverse FROM river WHERE river_name  =  <span style=\"color: #008000; text-decoration-color: #008000\">\"ohio\"</span>;\n",
       "</pre>\n"
      ],
      "text/plain": [
       "Gold SQL: SELECT traverse FROM river WHERE river_name  =  \u001b[32m\"ohio\"\u001b[0m;\n"
      ]
     },
     "metadata": {},
     "output_type": "display_data"
    },
    {
     "data": {
      "text/html": [
       "<pre style=\"white-space:pre;overflow-x:auto;line-height:normal;font-family:Menlo,'DejaVu Sans Mono',consolas,'Courier New',monospace\"><span style=\"font-weight: bold\">[</span><span style=\"color: #008080; text-decoration-color: #008080; font-weight: bold\">6</span><span style=\"font-weight: bold\">]</span> \n",
       "</pre>\n"
      ],
      "text/plain": [
       "\u001b[1m[\u001b[0m\u001b[1;36m6\u001b[0m\u001b[1m]\u001b[0m \n"
      ]
     },
     "metadata": {},
     "output_type": "display_data"
    },
    {
     "data": {
      "text/html": [
       "<pre style=\"white-space:pre;overflow-x:auto;line-height:normal;font-family:Menlo,'DejaVu Sans Mono',consolas,'Courier New',monospace\">Question: what states have rivers named ohio\n",
       "</pre>\n"
      ],
      "text/plain": [
       "Question: what states have rivers named ohio\n"
      ]
     },
     "metadata": {},
     "output_type": "display_data"
    },
    {
     "data": {
      "text/html": [
       "<pre style=\"white-space:pre;overflow-x:auto;line-height:normal;font-family:Menlo,'DejaVu Sans Mono',consolas,'Courier New',monospace\">Gold SQL: SELECT traverse FROM river WHERE river_name  =  <span style=\"color: #008000; text-decoration-color: #008000\">\"ohio\"</span>;\n",
       "</pre>\n"
      ],
      "text/plain": [
       "Gold SQL: SELECT traverse FROM river WHERE river_name  =  \u001b[32m\"ohio\"\u001b[0m;\n"
      ]
     },
     "metadata": {},
     "output_type": "display_data"
    },
    {
     "data": {
      "text/html": [
       "<pre style=\"white-space:pre;overflow-x:auto;line-height:normal;font-family:Menlo,'DejaVu Sans Mono',consolas,'Courier New',monospace\"><span style=\"font-weight: bold\">[</span><span style=\"color: #008080; text-decoration-color: #008080; font-weight: bold\">7</span><span style=\"font-weight: bold\">]</span> \n",
       "</pre>\n"
      ],
      "text/plain": [
       "\u001b[1m[\u001b[0m\u001b[1;36m7\u001b[0m\u001b[1m]\u001b[0m \n"
      ]
     },
     "metadata": {},
     "output_type": "display_data"
    },
    {
     "data": {
      "text/html": [
       "<pre style=\"white-space:pre;overflow-x:auto;line-height:normal;font-family:Menlo,'DejaVu Sans Mono',consolas,'Courier New',monospace\">Question: through which states does the ohio flow\n",
       "</pre>\n"
      ],
      "text/plain": [
       "Question: through which states does the ohio flow\n"
      ]
     },
     "metadata": {},
     "output_type": "display_data"
    },
    {
     "data": {
      "text/html": [
       "<pre style=\"white-space:pre;overflow-x:auto;line-height:normal;font-family:Menlo,'DejaVu Sans Mono',consolas,'Courier New',monospace\">Gold SQL: SELECT traverse FROM river WHERE river_name  =  <span style=\"color: #008000; text-decoration-color: #008000\">\"ohio\"</span>;\n",
       "</pre>\n"
      ],
      "text/plain": [
       "Gold SQL: SELECT traverse FROM river WHERE river_name  =  \u001b[32m\"ohio\"\u001b[0m;\n"
      ]
     },
     "metadata": {},
     "output_type": "display_data"
    },
    {
     "data": {
      "text/html": [
       "<pre style=\"white-space:pre;overflow-x:auto;line-height:normal;font-family:Menlo,'DejaVu Sans Mono',consolas,'Courier New',monospace\"><span style=\"font-weight: bold\">[</span><span style=\"color: #008080; text-decoration-color: #008080; font-weight: bold\">8</span><span style=\"font-weight: bold\">]</span> \n",
       "</pre>\n"
      ],
      "text/plain": [
       "\u001b[1m[\u001b[0m\u001b[1;36m8\u001b[0m\u001b[1m]\u001b[0m \n"
      ]
     },
     "metadata": {},
     "output_type": "display_data"
    },
    {
     "data": {
      "text/html": [
       "<pre style=\"white-space:pre;overflow-x:auto;line-height:normal;font-family:Menlo,'DejaVu Sans Mono',consolas,'Courier New',monospace\">Question: what states are next to the ohio\n",
       "</pre>\n"
      ],
      "text/plain": [
       "Question: what states are next to the ohio\n"
      ]
     },
     "metadata": {},
     "output_type": "display_data"
    },
    {
     "data": {
      "text/html": [
       "<pre style=\"white-space:pre;overflow-x:auto;line-height:normal;font-family:Menlo,'DejaVu Sans Mono',consolas,'Courier New',monospace\">Gold SQL: SELECT traverse FROM river WHERE river_name  =  <span style=\"color: #008000; text-decoration-color: #008000\">\"ohio\"</span>;\n",
       "</pre>\n"
      ],
      "text/plain": [
       "Gold SQL: SELECT traverse FROM river WHERE river_name  =  \u001b[32m\"ohio\"\u001b[0m;\n"
      ]
     },
     "metadata": {},
     "output_type": "display_data"
    },
    {
     "data": {
      "text/html": [
       "<pre style=\"white-space:pre;overflow-x:auto;line-height:normal;font-family:Menlo,'DejaVu Sans Mono',consolas,'Courier New',monospace\"><span style=\"font-weight: bold\">[</span><span style=\"color: #008080; text-decoration-color: #008080; font-weight: bold\">9</span><span style=\"font-weight: bold\">]</span> \n",
       "</pre>\n"
      ],
      "text/plain": [
       "\u001b[1m[\u001b[0m\u001b[1;36m9\u001b[0m\u001b[1m]\u001b[0m \n"
      ]
     },
     "metadata": {},
     "output_type": "display_data"
    },
    {
     "data": {
      "text/html": [
       "<pre style=\"white-space:pre;overflow-x:auto;line-height:normal;font-family:Menlo,'DejaVu Sans Mono',consolas,'Courier New',monospace\">Question: through which states does the ohio run\n",
       "</pre>\n"
      ],
      "text/plain": [
       "Question: through which states does the ohio run\n"
      ]
     },
     "metadata": {},
     "output_type": "display_data"
    },
    {
     "data": {
      "text/html": [
       "<pre style=\"white-space:pre;overflow-x:auto;line-height:normal;font-family:Menlo,'DejaVu Sans Mono',consolas,'Courier New',monospace\">Gold SQL: SELECT traverse FROM river WHERE river_name  =  <span style=\"color: #008000; text-decoration-color: #008000\">\"ohio\"</span>;\n",
       "</pre>\n"
      ],
      "text/plain": [
       "Gold SQL: SELECT traverse FROM river WHERE river_name  =  \u001b[32m\"ohio\"\u001b[0m;\n"
      ]
     },
     "metadata": {},
     "output_type": "display_data"
    },
    {
     "data": {
      "text/html": [
       "<pre style=\"white-space:pre;overflow-x:auto;line-height:normal;font-family:Menlo,'DejaVu Sans Mono',consolas,'Courier New',monospace\"><span style=\"font-weight: bold\">[</span><span style=\"color: #008080; text-decoration-color: #008080; font-weight: bold\">10</span><span style=\"font-weight: bold\">]</span> \n",
       "</pre>\n"
      ],
      "text/plain": [
       "\u001b[1m[\u001b[0m\u001b[1;36m10\u001b[0m\u001b[1m]\u001b[0m \n"
      ]
     },
     "metadata": {},
     "output_type": "display_data"
    },
    {
     "data": {
      "text/html": [
       "<pre style=\"white-space:pre;overflow-x:auto;line-height:normal;font-family:Menlo,'DejaVu Sans Mono',consolas,'Courier New',monospace\">Question: what states does the ohio river go through\n",
       "</pre>\n"
      ],
      "text/plain": [
       "Question: what states does the ohio river go through\n"
      ]
     },
     "metadata": {},
     "output_type": "display_data"
    },
    {
     "data": {
      "text/html": [
       "<pre style=\"white-space:pre;overflow-x:auto;line-height:normal;font-family:Menlo,'DejaVu Sans Mono',consolas,'Courier New',monospace\">Gold SQL: SELECT traverse FROM river WHERE river_name  =  <span style=\"color: #008000; text-decoration-color: #008000\">\"ohio\"</span>;\n",
       "</pre>\n"
      ],
      "text/plain": [
       "Gold SQL: SELECT traverse FROM river WHERE river_name  =  \u001b[32m\"ohio\"\u001b[0m;\n"
      ]
     },
     "metadata": {},
     "output_type": "display_data"
    },
    {
     "data": {
      "text/html": [
       "<pre style=\"white-space:pre;overflow-x:auto;line-height:normal;font-family:Menlo,'DejaVu Sans Mono',consolas,'Courier New',monospace\"><span style=\"font-weight: bold\">[</span><span style=\"color: #008080; text-decoration-color: #008080; font-weight: bold\">11</span><span style=\"font-weight: bold\">]</span> \n",
       "</pre>\n"
      ],
      "text/plain": [
       "\u001b[1m[\u001b[0m\u001b[1;36m11\u001b[0m\u001b[1m]\u001b[0m \n"
      ]
     },
     "metadata": {},
     "output_type": "display_data"
    },
    {
     "data": {
      "text/html": [
       "<pre style=\"white-space:pre;overflow-x:auto;line-height:normal;font-family:Menlo,'DejaVu Sans Mono',consolas,'Courier New',monospace\">Question: what state has the largest population\n",
       "</pre>\n"
      ],
      "text/plain": [
       "Question: what state has the largest population\n"
      ]
     },
     "metadata": {},
     "output_type": "display_data"
    },
    {
     "data": {
      "text/html": [
       "<pre style=\"white-space:pre;overflow-x:auto;line-height:normal;font-family:Menlo,'DejaVu Sans Mono',consolas,'Courier New',monospace\">Gold SQL: SELECT state_name FROM state WHERE population  =  <span style=\"font-weight: bold\">(</span> SELECT MAX <span style=\"font-weight: bold\">(</span> population <span style=\"font-weight: bold\">)</span> FROM state <span style=\"font-weight: bold\">)</span>;\n",
       "</pre>\n"
      ],
      "text/plain": [
       "Gold SQL: SELECT state_name FROM state WHERE population  =  \u001b[1m(\u001b[0m SELECT MAX \u001b[1m(\u001b[0m population \u001b[1m)\u001b[0m FROM state \u001b[1m)\u001b[0m;\n"
      ]
     },
     "metadata": {},
     "output_type": "display_data"
    },
    {
     "data": {
      "text/html": [
       "<pre style=\"white-space:pre;overflow-x:auto;line-height:normal;font-family:Menlo,'DejaVu Sans Mono',consolas,'Courier New',monospace\"><span style=\"font-weight: bold\">[</span><span style=\"color: #008080; text-decoration-color: #008080; font-weight: bold\">12</span><span style=\"font-weight: bold\">]</span> \n",
       "</pre>\n"
      ],
      "text/plain": [
       "\u001b[1m[\u001b[0m\u001b[1;36m12\u001b[0m\u001b[1m]\u001b[0m \n"
      ]
     },
     "metadata": {},
     "output_type": "display_data"
    },
    {
     "data": {
      "text/html": [
       "<pre style=\"white-space:pre;overflow-x:auto;line-height:normal;font-family:Menlo,'DejaVu Sans Mono',consolas,'Courier New',monospace\">Question: what is the most populous state\n",
       "</pre>\n"
      ],
      "text/plain": [
       "Question: what is the most populous state\n"
      ]
     },
     "metadata": {},
     "output_type": "display_data"
    },
    {
     "data": {
      "text/html": [
       "<pre style=\"white-space:pre;overflow-x:auto;line-height:normal;font-family:Menlo,'DejaVu Sans Mono',consolas,'Courier New',monospace\">Gold SQL: SELECT state_name FROM state WHERE population  =  <span style=\"font-weight: bold\">(</span> SELECT MAX <span style=\"font-weight: bold\">(</span> population <span style=\"font-weight: bold\">)</span> FROM state <span style=\"font-weight: bold\">)</span>;\n",
       "</pre>\n"
      ],
      "text/plain": [
       "Gold SQL: SELECT state_name FROM state WHERE population  =  \u001b[1m(\u001b[0m SELECT MAX \u001b[1m(\u001b[0m population \u001b[1m)\u001b[0m FROM state \u001b[1m)\u001b[0m;\n"
      ]
     },
     "metadata": {},
     "output_type": "display_data"
    },
    {
     "data": {
      "text/html": [
       "<pre style=\"white-space:pre;overflow-x:auto;line-height:normal;font-family:Menlo,'DejaVu Sans Mono',consolas,'Courier New',monospace\"><span style=\"font-weight: bold\">[</span><span style=\"color: #008080; text-decoration-color: #008080; font-weight: bold\">13</span><span style=\"font-weight: bold\">]</span> \n",
       "</pre>\n"
      ],
      "text/plain": [
       "\u001b[1m[\u001b[0m\u001b[1;36m13\u001b[0m\u001b[1m]\u001b[0m \n"
      ]
     },
     "metadata": {},
     "output_type": "display_data"
    },
    {
     "data": {
      "text/html": [
       "<pre style=\"white-space:pre;overflow-x:auto;line-height:normal;font-family:Menlo,'DejaVu Sans Mono',consolas,'Courier New',monospace\">Question: what state is the largest in population\n",
       "</pre>\n"
      ],
      "text/plain": [
       "Question: what state is the largest in population\n"
      ]
     },
     "metadata": {},
     "output_type": "display_data"
    },
    {
     "data": {
      "text/html": [
       "<pre style=\"white-space:pre;overflow-x:auto;line-height:normal;font-family:Menlo,'DejaVu Sans Mono',consolas,'Courier New',monospace\">Gold SQL: SELECT state_name FROM state WHERE population  =  <span style=\"font-weight: bold\">(</span> SELECT MAX <span style=\"font-weight: bold\">(</span> population <span style=\"font-weight: bold\">)</span> FROM state <span style=\"font-weight: bold\">)</span>;\n",
       "</pre>\n"
      ],
      "text/plain": [
       "Gold SQL: SELECT state_name FROM state WHERE population  =  \u001b[1m(\u001b[0m SELECT MAX \u001b[1m(\u001b[0m population \u001b[1m)\u001b[0m FROM state \u001b[1m)\u001b[0m;\n"
      ]
     },
     "metadata": {},
     "output_type": "display_data"
    },
    {
     "data": {
      "text/html": [
       "<pre style=\"white-space:pre;overflow-x:auto;line-height:normal;font-family:Menlo,'DejaVu Sans Mono',consolas,'Courier New',monospace\"><span style=\"font-weight: bold\">[</span><span style=\"color: #008080; text-decoration-color: #008080; font-weight: bold\">14</span><span style=\"font-weight: bold\">]</span> \n",
       "</pre>\n"
      ],
      "text/plain": [
       "\u001b[1m[\u001b[0m\u001b[1;36m14\u001b[0m\u001b[1m]\u001b[0m \n"
      ]
     },
     "metadata": {},
     "output_type": "display_data"
    },
    {
     "data": {
      "text/html": [
       "<pre style=\"white-space:pre;overflow-x:auto;line-height:normal;font-family:Menlo,'DejaVu Sans Mono',consolas,'Courier New',monospace\">Question: which state has the biggest population\n",
       "</pre>\n"
      ],
      "text/plain": [
       "Question: which state has the biggest population\n"
      ]
     },
     "metadata": {},
     "output_type": "display_data"
    },
    {
     "data": {
      "text/html": [
       "<pre style=\"white-space:pre;overflow-x:auto;line-height:normal;font-family:Menlo,'DejaVu Sans Mono',consolas,'Courier New',monospace\">Gold SQL: SELECT state_name FROM state WHERE population  =  <span style=\"font-weight: bold\">(</span> SELECT MAX <span style=\"font-weight: bold\">(</span> population <span style=\"font-weight: bold\">)</span> FROM state <span style=\"font-weight: bold\">)</span>;\n",
       "</pre>\n"
      ],
      "text/plain": [
       "Gold SQL: SELECT state_name FROM state WHERE population  =  \u001b[1m(\u001b[0m SELECT MAX \u001b[1m(\u001b[0m population \u001b[1m)\u001b[0m FROM state \u001b[1m)\u001b[0m;\n"
      ]
     },
     "metadata": {},
     "output_type": "display_data"
    },
    {
     "data": {
      "text/html": [
       "<pre style=\"white-space:pre;overflow-x:auto;line-height:normal;font-family:Menlo,'DejaVu Sans Mono',consolas,'Courier New',monospace\"><span style=\"font-weight: bold\">[</span><span style=\"color: #008080; text-decoration-color: #008080; font-weight: bold\">15</span><span style=\"font-weight: bold\">]</span> \n",
       "</pre>\n"
      ],
      "text/plain": [
       "\u001b[1m[\u001b[0m\u001b[1;36m15\u001b[0m\u001b[1m]\u001b[0m \n"
      ]
     },
     "metadata": {},
     "output_type": "display_data"
    },
    {
     "data": {
      "text/html": [
       "<pre style=\"white-space:pre;overflow-x:auto;line-height:normal;font-family:Menlo,'DejaVu Sans Mono',consolas,'Courier New',monospace\">Question: which state has the greatest population\n",
       "</pre>\n"
      ],
      "text/plain": [
       "Question: which state has the greatest population\n"
      ]
     },
     "metadata": {},
     "output_type": "display_data"
    },
    {
     "data": {
      "text/html": [
       "<pre style=\"white-space:pre;overflow-x:auto;line-height:normal;font-family:Menlo,'DejaVu Sans Mono',consolas,'Courier New',monospace\">Gold SQL: SELECT state_name FROM state WHERE population  =  <span style=\"font-weight: bold\">(</span> SELECT MAX <span style=\"font-weight: bold\">(</span> population <span style=\"font-weight: bold\">)</span> FROM state <span style=\"font-weight: bold\">)</span>;\n",
       "</pre>\n"
      ],
      "text/plain": [
       "Gold SQL: SELECT state_name FROM state WHERE population  =  \u001b[1m(\u001b[0m SELECT MAX \u001b[1m(\u001b[0m population \u001b[1m)\u001b[0m FROM state \u001b[1m)\u001b[0m;\n"
      ]
     },
     "metadata": {},
     "output_type": "display_data"
    },
    {
     "data": {
      "text/html": [
       "<pre style=\"white-space:pre;overflow-x:auto;line-height:normal;font-family:Menlo,'DejaVu Sans Mono',consolas,'Courier New',monospace\"><span style=\"font-weight: bold\">[</span><span style=\"color: #008080; text-decoration-color: #008080; font-weight: bold\">16</span><span style=\"font-weight: bold\">]</span> \n",
       "</pre>\n"
      ],
      "text/plain": [
       "\u001b[1m[\u001b[0m\u001b[1;36m16\u001b[0m\u001b[1m]\u001b[0m \n"
      ]
     },
     "metadata": {},
     "output_type": "display_data"
    },
    {
     "data": {
      "text/html": [
       "<pre style=\"white-space:pre;overflow-x:auto;line-height:normal;font-family:Menlo,'DejaVu Sans Mono',consolas,'Courier New',monospace\">Question: which state has the most population\n",
       "</pre>\n"
      ],
      "text/plain": [
       "Question: which state has the most population\n"
      ]
     },
     "metadata": {},
     "output_type": "display_data"
    },
    {
     "data": {
      "text/html": [
       "<pre style=\"white-space:pre;overflow-x:auto;line-height:normal;font-family:Menlo,'DejaVu Sans Mono',consolas,'Courier New',monospace\">Gold SQL: SELECT state_name FROM state WHERE population  =  <span style=\"font-weight: bold\">(</span> SELECT MAX <span style=\"font-weight: bold\">(</span> population <span style=\"font-weight: bold\">)</span> FROM state <span style=\"font-weight: bold\">)</span>;\n",
       "</pre>\n"
      ],
      "text/plain": [
       "Gold SQL: SELECT state_name FROM state WHERE population  =  \u001b[1m(\u001b[0m SELECT MAX \u001b[1m(\u001b[0m population \u001b[1m)\u001b[0m FROM state \u001b[1m)\u001b[0m;\n"
      ]
     },
     "metadata": {},
     "output_type": "display_data"
    },
    {
     "data": {
      "text/html": [
       "<pre style=\"white-space:pre;overflow-x:auto;line-height:normal;font-family:Menlo,'DejaVu Sans Mono',consolas,'Courier New',monospace\"><span style=\"font-weight: bold\">[</span><span style=\"color: #008080; text-decoration-color: #008080; font-weight: bold\">17</span><span style=\"font-weight: bold\">]</span> \n",
       "</pre>\n"
      ],
      "text/plain": [
       "\u001b[1m[\u001b[0m\u001b[1;36m17\u001b[0m\u001b[1m]\u001b[0m \n"
      ]
     },
     "metadata": {},
     "output_type": "display_data"
    },
    {
     "data": {
      "text/html": [
       "<pre style=\"white-space:pre;overflow-x:auto;line-height:normal;font-family:Menlo,'DejaVu Sans Mono',consolas,'Courier New',monospace\">Question: what state has the most people\n",
       "</pre>\n"
      ],
      "text/plain": [
       "Question: what state has the most people\n"
      ]
     },
     "metadata": {},
     "output_type": "display_data"
    },
    {
     "data": {
      "text/html": [
       "<pre style=\"white-space:pre;overflow-x:auto;line-height:normal;font-family:Menlo,'DejaVu Sans Mono',consolas,'Courier New',monospace\">Gold SQL: SELECT state_name FROM state WHERE population  =  <span style=\"font-weight: bold\">(</span> SELECT MAX <span style=\"font-weight: bold\">(</span> population <span style=\"font-weight: bold\">)</span> FROM state <span style=\"font-weight: bold\">)</span>;\n",
       "</pre>\n"
      ],
      "text/plain": [
       "Gold SQL: SELECT state_name FROM state WHERE population  =  \u001b[1m(\u001b[0m SELECT MAX \u001b[1m(\u001b[0m population \u001b[1m)\u001b[0m FROM state \u001b[1m)\u001b[0m;\n"
      ]
     },
     "metadata": {},
     "output_type": "display_data"
    },
    {
     "data": {
      "text/html": [
       "<pre style=\"white-space:pre;overflow-x:auto;line-height:normal;font-family:Menlo,'DejaVu Sans Mono',consolas,'Courier New',monospace\"><span style=\"font-weight: bold\">[</span><span style=\"color: #008080; text-decoration-color: #008080; font-weight: bold\">18</span><span style=\"font-weight: bold\">]</span> \n",
       "</pre>\n"
      ],
      "text/plain": [
       "\u001b[1m[\u001b[0m\u001b[1;36m18\u001b[0m\u001b[1m]\u001b[0m \n"
      ]
     },
     "metadata": {},
     "output_type": "display_data"
    },
    {
     "data": {
      "text/html": [
       "<pre style=\"white-space:pre;overflow-x:auto;line-height:normal;font-family:Menlo,'DejaVu Sans Mono',consolas,'Courier New',monospace\">Question: which state has the most people\n",
       "</pre>\n"
      ],
      "text/plain": [
       "Question: which state has the most people\n"
      ]
     },
     "metadata": {},
     "output_type": "display_data"
    },
    {
     "data": {
      "text/html": [
       "<pre style=\"white-space:pre;overflow-x:auto;line-height:normal;font-family:Menlo,'DejaVu Sans Mono',consolas,'Courier New',monospace\">Gold SQL: SELECT state_name FROM state WHERE population  =  <span style=\"font-weight: bold\">(</span> SELECT MAX <span style=\"font-weight: bold\">(</span> population <span style=\"font-weight: bold\">)</span> FROM state <span style=\"font-weight: bold\">)</span>;\n",
       "</pre>\n"
      ],
      "text/plain": [
       "Gold SQL: SELECT state_name FROM state WHERE population  =  \u001b[1m(\u001b[0m SELECT MAX \u001b[1m(\u001b[0m population \u001b[1m)\u001b[0m FROM state \u001b[1m)\u001b[0m;\n"
      ]
     },
     "metadata": {},
     "output_type": "display_data"
    },
    {
     "data": {
      "text/html": [
       "<pre style=\"white-space:pre;overflow-x:auto;line-height:normal;font-family:Menlo,'DejaVu Sans Mono',consolas,'Courier New',monospace\"><span style=\"font-weight: bold\">[</span><span style=\"color: #008080; text-decoration-color: #008080; font-weight: bold\">19</span><span style=\"font-weight: bold\">]</span> \n",
       "</pre>\n"
      ],
      "text/plain": [
       "\u001b[1m[\u001b[0m\u001b[1;36m19\u001b[0m\u001b[1m]\u001b[0m \n"
      ]
     },
     "metadata": {},
     "output_type": "display_data"
    },
    {
     "data": {
      "text/html": [
       "<pre style=\"white-space:pre;overflow-x:auto;line-height:normal;font-family:Menlo,'DejaVu Sans Mono',consolas,'Courier New',monospace\">Question: what is the most populous state in the us\n",
       "</pre>\n"
      ],
      "text/plain": [
       "Question: what is the most populous state in the us\n"
      ]
     },
     "metadata": {},
     "output_type": "display_data"
    },
    {
     "data": {
      "text/html": [
       "<pre style=\"white-space:pre;overflow-x:auto;line-height:normal;font-family:Menlo,'DejaVu Sans Mono',consolas,'Courier New',monospace\">Gold SQL: SELECT state_name FROM state WHERE population  =  <span style=\"font-weight: bold\">(</span> SELECT MAX <span style=\"font-weight: bold\">(</span> population <span style=\"font-weight: bold\">)</span> FROM state <span style=\"font-weight: bold\">)</span>;\n",
       "</pre>\n"
      ],
      "text/plain": [
       "Gold SQL: SELECT state_name FROM state WHERE population  =  \u001b[1m(\u001b[0m SELECT MAX \u001b[1m(\u001b[0m population \u001b[1m)\u001b[0m FROM state \u001b[1m)\u001b[0m;\n"
      ]
     },
     "metadata": {},
     "output_type": "display_data"
    },
    {
     "data": {
      "text/html": [
       "<pre style=\"white-space:pre;overflow-x:auto;line-height:normal;font-family:Menlo,'DejaVu Sans Mono',consolas,'Courier New',monospace\"><span style=\"font-weight: bold\">[</span><span style=\"color: #008080; text-decoration-color: #008080; font-weight: bold\">20</span><span style=\"font-weight: bold\">]</span> \n",
       "</pre>\n"
      ],
      "text/plain": [
       "\u001b[1m[\u001b[0m\u001b[1;36m20\u001b[0m\u001b[1m]\u001b[0m \n"
      ]
     },
     "metadata": {},
     "output_type": "display_data"
    },
    {
     "data": {
      "text/html": [
       "<pre style=\"white-space:pre;overflow-x:auto;line-height:normal;font-family:Menlo,'DejaVu Sans Mono',consolas,'Courier New',monospace\">Question: what state has the highest population\n",
       "</pre>\n"
      ],
      "text/plain": [
       "Question: what state has the highest population\n"
      ]
     },
     "metadata": {},
     "output_type": "display_data"
    },
    {
     "data": {
      "text/html": [
       "<pre style=\"white-space:pre;overflow-x:auto;line-height:normal;font-family:Menlo,'DejaVu Sans Mono',consolas,'Courier New',monospace\">Gold SQL: SELECT state_name FROM state WHERE population  =  <span style=\"font-weight: bold\">(</span> SELECT MAX <span style=\"font-weight: bold\">(</span> population <span style=\"font-weight: bold\">)</span> FROM state <span style=\"font-weight: bold\">)</span>;\n",
       "</pre>\n"
      ],
      "text/plain": [
       "Gold SQL: SELECT state_name FROM state WHERE population  =  \u001b[1m(\u001b[0m SELECT MAX \u001b[1m(\u001b[0m population \u001b[1m)\u001b[0m FROM state \u001b[1m)\u001b[0m;\n"
      ]
     },
     "metadata": {},
     "output_type": "display_data"
    },
    {
     "data": {
      "text/html": [
       "<pre style=\"white-space:pre;overflow-x:auto;line-height:normal;font-family:Menlo,'DejaVu Sans Mono',consolas,'Courier New',monospace\"><span style=\"font-weight: bold\">[</span><span style=\"color: #008080; text-decoration-color: #008080; font-weight: bold\">21</span><span style=\"font-weight: bold\">]</span> \n",
       "</pre>\n"
      ],
      "text/plain": [
       "\u001b[1m[\u001b[0m\u001b[1;36m21\u001b[0m\u001b[1m]\u001b[0m \n"
      ]
     },
     "metadata": {},
     "output_type": "display_data"
    },
    {
     "data": {
      "text/html": [
       "<pre style=\"white-space:pre;overflow-x:auto;line-height:normal;font-family:Menlo,'DejaVu Sans Mono',consolas,'Courier New',monospace\">Question: what is the lowest elevation in pennsylvania\n",
       "</pre>\n"
      ],
      "text/plain": [
       "Question: what is the lowest elevation in pennsylvania\n"
      ]
     },
     "metadata": {},
     "output_type": "display_data"
    },
    {
     "data": {
      "text/html": [
       "<pre style=\"white-space:pre;overflow-x:auto;line-height:normal;font-family:Menlo,'DejaVu Sans Mono',consolas,'Courier New',monospace\">Gold SQL: SELECT lowest_elevation FROM highlow WHERE state_name  =  <span style=\"color: #008000; text-decoration-color: #008000\">\"pennsylvania\"</span>;\n",
       "</pre>\n"
      ],
      "text/plain": [
       "Gold SQL: SELECT lowest_elevation FROM highlow WHERE state_name  =  \u001b[32m\"pennsylvania\"\u001b[0m;\n"
      ]
     },
     "metadata": {},
     "output_type": "display_data"
    },
    {
     "data": {
      "text/html": [
       "<pre style=\"white-space:pre;overflow-x:auto;line-height:normal;font-family:Menlo,'DejaVu Sans Mono',consolas,'Courier New',monospace\"><span style=\"font-weight: bold\">[</span><span style=\"color: #008080; text-decoration-color: #008080; font-weight: bold\">22</span><span style=\"font-weight: bold\">]</span> \n",
       "</pre>\n"
      ],
      "text/plain": [
       "\u001b[1m[\u001b[0m\u001b[1;36m22\u001b[0m\u001b[1m]\u001b[0m \n"
      ]
     },
     "metadata": {},
     "output_type": "display_data"
    },
    {
     "data": {
      "text/html": [
       "<pre style=\"white-space:pre;overflow-x:auto;line-height:normal;font-family:Menlo,'DejaVu Sans Mono',consolas,'Courier New',monospace\">Question: what is the highest point in each state whose lowest point is sea level\n",
       "</pre>\n"
      ],
      "text/plain": [
       "Question: what is the highest point in each state whose lowest point is sea level\n"
      ]
     },
     "metadata": {},
     "output_type": "display_data"
    },
    {
     "data": {
      "text/html": [
       "<pre style=\"white-space:pre;overflow-x:auto;line-height:normal;font-family:Menlo,'DejaVu Sans Mono',consolas,'Courier New',monospace\">Gold SQL: SELECT highest_point  ,  state_name FROM highlow WHERE lowest_elevation  =  <span style=\"color: #008080; text-decoration-color: #008080; font-weight: bold\">0</span>;\n",
       "</pre>\n"
      ],
      "text/plain": [
       "Gold SQL: SELECT highest_point  ,  state_name FROM highlow WHERE lowest_elevation  =  \u001b[1;36m0\u001b[0m;\n"
      ]
     },
     "metadata": {},
     "output_type": "display_data"
    },
    {
     "data": {
      "text/html": [
       "<pre style=\"white-space:pre;overflow-x:auto;line-height:normal;font-family:Menlo,'DejaVu Sans Mono',consolas,'Courier New',monospace\"><span style=\"font-weight: bold\">[</span><span style=\"color: #008080; text-decoration-color: #008080; font-weight: bold\">23</span><span style=\"font-weight: bold\">]</span> \n",
       "</pre>\n"
      ],
      "text/plain": [
       "\u001b[1m[\u001b[0m\u001b[1;36m23\u001b[0m\u001b[1m]\u001b[0m \n"
      ]
     },
     "metadata": {},
     "output_type": "display_data"
    },
    {
     "data": {
      "text/html": [
       "<pre style=\"white-space:pre;overflow-x:auto;line-height:normal;font-family:Menlo,'DejaVu Sans Mono',consolas,'Courier New',monospace\">Question: what is the length of the longest river in the usa\n",
       "</pre>\n"
      ],
      "text/plain": [
       "Question: what is the length of the longest river in the usa\n"
      ]
     },
     "metadata": {},
     "output_type": "display_data"
    },
    {
     "data": {
      "text/html": [
       "<pre style=\"white-space:pre;overflow-x:auto;line-height:normal;font-family:Menlo,'DejaVu Sans Mono',consolas,'Courier New',monospace\">Gold SQL: SELECT LENGTH FROM river WHERE LENGTH  =  <span style=\"font-weight: bold\">(</span> SELECT MAX <span style=\"font-weight: bold\">(</span> LENGTH <span style=\"font-weight: bold\">)</span> FROM river <span style=\"font-weight: bold\">)</span>;\n",
       "</pre>\n"
      ],
      "text/plain": [
       "Gold SQL: SELECT LENGTH FROM river WHERE LENGTH  =  \u001b[1m(\u001b[0m SELECT MAX \u001b[1m(\u001b[0m LENGTH \u001b[1m)\u001b[0m FROM river \u001b[1m)\u001b[0m;\n"
      ]
     },
     "metadata": {},
     "output_type": "display_data"
    },
    {
     "data": {
      "text/html": [
       "<pre style=\"white-space:pre;overflow-x:auto;line-height:normal;font-family:Menlo,'DejaVu Sans Mono',consolas,'Courier New',monospace\"><span style=\"font-weight: bold\">[</span><span style=\"color: #008080; text-decoration-color: #008080; font-weight: bold\">24</span><span style=\"font-weight: bold\">]</span> \n",
       "</pre>\n"
      ],
      "text/plain": [
       "\u001b[1m[\u001b[0m\u001b[1;36m24\u001b[0m\u001b[1m]\u001b[0m \n"
      ]
     },
     "metadata": {},
     "output_type": "display_data"
    },
    {
     "data": {
      "text/html": [
       "<pre style=\"white-space:pre;overflow-x:auto;line-height:normal;font-family:Menlo,'DejaVu Sans Mono',consolas,'Courier New',monospace\">Question: how long is the longest river in the usa\n",
       "</pre>\n"
      ],
      "text/plain": [
       "Question: how long is the longest river in the usa\n"
      ]
     },
     "metadata": {},
     "output_type": "display_data"
    },
    {
     "data": {
      "text/html": [
       "<pre style=\"white-space:pre;overflow-x:auto;line-height:normal;font-family:Menlo,'DejaVu Sans Mono',consolas,'Courier New',monospace\">Gold SQL: SELECT LENGTH FROM river WHERE LENGTH  =  <span style=\"font-weight: bold\">(</span> SELECT MAX <span style=\"font-weight: bold\">(</span> LENGTH <span style=\"font-weight: bold\">)</span> FROM river <span style=\"font-weight: bold\">)</span>;\n",
       "</pre>\n"
      ],
      "text/plain": [
       "Gold SQL: SELECT LENGTH FROM river WHERE LENGTH  =  \u001b[1m(\u001b[0m SELECT MAX \u001b[1m(\u001b[0m LENGTH \u001b[1m)\u001b[0m FROM river \u001b[1m)\u001b[0m;\n"
      ]
     },
     "metadata": {},
     "output_type": "display_data"
    },
    {
     "data": {
      "text/html": [
       "<pre style=\"white-space:pre;overflow-x:auto;line-height:normal;font-family:Menlo,'DejaVu Sans Mono',consolas,'Courier New',monospace\"><span style=\"font-weight: bold\">[</span><span style=\"color: #008080; text-decoration-color: #008080; font-weight: bold\">25</span><span style=\"font-weight: bold\">]</span> \n",
       "</pre>\n"
      ],
      "text/plain": [
       "\u001b[1m[\u001b[0m\u001b[1;36m25\u001b[0m\u001b[1m]\u001b[0m \n"
      ]
     },
     "metadata": {},
     "output_type": "display_data"
    },
    {
     "data": {
      "text/html": [
       "<pre style=\"white-space:pre;overflow-x:auto;line-height:normal;font-family:Menlo,'DejaVu Sans Mono',consolas,'Courier New',monospace\">Question: what is the longest river flowing through texas\n",
       "</pre>\n"
      ],
      "text/plain": [
       "Question: what is the longest river flowing through texas\n"
      ]
     },
     "metadata": {},
     "output_type": "display_data"
    },
    {
     "data": {
      "text/html": [
       "<pre style=\"white-space:pre;overflow-x:auto;line-height:normal;font-family:Menlo,'DejaVu Sans Mono',consolas,'Courier New',monospace\">Gold SQL: SELECT river_name FROM river WHERE LENGTH  =  <span style=\"font-weight: bold\">(</span> SELECT MAX <span style=\"font-weight: bold\">(</span> LENGTH <span style=\"font-weight: bold\">)</span> FROM river WHERE traverse  =  \n",
       "<span style=\"color: #008000; text-decoration-color: #008000\">\"texas\"</span> <span style=\"font-weight: bold\">)</span> AND traverse  =  <span style=\"color: #008000; text-decoration-color: #008000\">\"texas\"</span>;\n",
       "</pre>\n"
      ],
      "text/plain": [
       "Gold SQL: SELECT river_name FROM river WHERE LENGTH  =  \u001b[1m(\u001b[0m SELECT MAX \u001b[1m(\u001b[0m LENGTH \u001b[1m)\u001b[0m FROM river WHERE traverse  =  \n",
       "\u001b[32m\"texas\"\u001b[0m \u001b[1m)\u001b[0m AND traverse  =  \u001b[32m\"texas\"\u001b[0m;\n"
      ]
     },
     "metadata": {},
     "output_type": "display_data"
    },
    {
     "data": {
      "text/html": [
       "<pre style=\"white-space:pre;overflow-x:auto;line-height:normal;font-family:Menlo,'DejaVu Sans Mono',consolas,'Courier New',monospace\"><span style=\"font-weight: bold\">[</span><span style=\"color: #008080; text-decoration-color: #008080; font-weight: bold\">26</span><span style=\"font-weight: bold\">]</span> \n",
       "</pre>\n"
      ],
      "text/plain": [
       "\u001b[1m[\u001b[0m\u001b[1;36m26\u001b[0m\u001b[1m]\u001b[0m \n"
      ]
     },
     "metadata": {},
     "output_type": "display_data"
    },
    {
     "data": {
      "text/html": [
       "<pre style=\"white-space:pre;overflow-x:auto;line-height:normal;font-family:Menlo,'DejaVu Sans Mono',consolas,'Courier New',monospace\">Question: what is the largest river in texas state\n",
       "</pre>\n"
      ],
      "text/plain": [
       "Question: what is the largest river in texas state\n"
      ]
     },
     "metadata": {},
     "output_type": "display_data"
    },
    {
     "data": {
      "text/html": [
       "<pre style=\"white-space:pre;overflow-x:auto;line-height:normal;font-family:Menlo,'DejaVu Sans Mono',consolas,'Courier New',monospace\">Gold SQL: SELECT river_name FROM river WHERE LENGTH  =  <span style=\"font-weight: bold\">(</span> SELECT MAX <span style=\"font-weight: bold\">(</span> LENGTH <span style=\"font-weight: bold\">)</span> FROM river WHERE traverse  =  \n",
       "<span style=\"color: #008000; text-decoration-color: #008000\">\"texas\"</span> <span style=\"font-weight: bold\">)</span> AND traverse  =  <span style=\"color: #008000; text-decoration-color: #008000\">\"texas\"</span>;\n",
       "</pre>\n"
      ],
      "text/plain": [
       "Gold SQL: SELECT river_name FROM river WHERE LENGTH  =  \u001b[1m(\u001b[0m SELECT MAX \u001b[1m(\u001b[0m LENGTH \u001b[1m)\u001b[0m FROM river WHERE traverse  =  \n",
       "\u001b[32m\"texas\"\u001b[0m \u001b[1m)\u001b[0m AND traverse  =  \u001b[32m\"texas\"\u001b[0m;\n"
      ]
     },
     "metadata": {},
     "output_type": "display_data"
    },
    {
     "data": {
      "text/html": [
       "<pre style=\"white-space:pre;overflow-x:auto;line-height:normal;font-family:Menlo,'DejaVu Sans Mono',consolas,'Courier New',monospace\"><span style=\"font-weight: bold\">[</span><span style=\"color: #008080; text-decoration-color: #008080; font-weight: bold\">27</span><span style=\"font-weight: bold\">]</span> \n",
       "</pre>\n"
      ],
      "text/plain": [
       "\u001b[1m[\u001b[0m\u001b[1;36m27\u001b[0m\u001b[1m]\u001b[0m \n"
      ]
     },
     "metadata": {},
     "output_type": "display_data"
    },
    {
     "data": {
      "text/html": [
       "<pre style=\"white-space:pre;overflow-x:auto;line-height:normal;font-family:Menlo,'DejaVu Sans Mono',consolas,'Courier New',monospace\">Question: what is the longest river in texas\n",
       "</pre>\n"
      ],
      "text/plain": [
       "Question: what is the longest river in texas\n"
      ]
     },
     "metadata": {},
     "output_type": "display_data"
    },
    {
     "data": {
      "text/html": [
       "<pre style=\"white-space:pre;overflow-x:auto;line-height:normal;font-family:Menlo,'DejaVu Sans Mono',consolas,'Courier New',monospace\">Gold SQL: SELECT river_name FROM river WHERE LENGTH  =  <span style=\"font-weight: bold\">(</span> SELECT MAX <span style=\"font-weight: bold\">(</span> LENGTH <span style=\"font-weight: bold\">)</span> FROM river WHERE traverse  =  \n",
       "<span style=\"color: #008000; text-decoration-color: #008000\">\"texas\"</span> <span style=\"font-weight: bold\">)</span> AND traverse  =  <span style=\"color: #008000; text-decoration-color: #008000\">\"texas\"</span>;\n",
       "</pre>\n"
      ],
      "text/plain": [
       "Gold SQL: SELECT river_name FROM river WHERE LENGTH  =  \u001b[1m(\u001b[0m SELECT MAX \u001b[1m(\u001b[0m LENGTH \u001b[1m)\u001b[0m FROM river WHERE traverse  =  \n",
       "\u001b[32m\"texas\"\u001b[0m \u001b[1m)\u001b[0m AND traverse  =  \u001b[32m\"texas\"\u001b[0m;\n"
      ]
     },
     "metadata": {},
     "output_type": "display_data"
    },
    {
     "data": {
      "text/html": [
       "<pre style=\"white-space:pre;overflow-x:auto;line-height:normal;font-family:Menlo,'DejaVu Sans Mono',consolas,'Courier New',monospace\"><span style=\"font-weight: bold\">[</span><span style=\"color: #008080; text-decoration-color: #008080; font-weight: bold\">28</span><span style=\"font-weight: bold\">]</span> \n",
       "</pre>\n"
      ],
      "text/plain": [
       "\u001b[1m[\u001b[0m\u001b[1;36m28\u001b[0m\u001b[1m]\u001b[0m \n"
      ]
     },
     "metadata": {},
     "output_type": "display_data"
    },
    {
     "data": {
      "text/html": [
       "<pre style=\"white-space:pre;overflow-x:auto;line-height:normal;font-family:Menlo,'DejaVu Sans Mono',consolas,'Courier New',monospace\">Question: what is the biggest river in texas\n",
       "</pre>\n"
      ],
      "text/plain": [
       "Question: what is the biggest river in texas\n"
      ]
     },
     "metadata": {},
     "output_type": "display_data"
    },
    {
     "data": {
      "text/html": [
       "<pre style=\"white-space:pre;overflow-x:auto;line-height:normal;font-family:Menlo,'DejaVu Sans Mono',consolas,'Courier New',monospace\">Gold SQL: SELECT river_name FROM river WHERE LENGTH  =  <span style=\"font-weight: bold\">(</span> SELECT MAX <span style=\"font-weight: bold\">(</span> LENGTH <span style=\"font-weight: bold\">)</span> FROM river WHERE traverse  =  \n",
       "<span style=\"color: #008000; text-decoration-color: #008000\">\"texas\"</span> <span style=\"font-weight: bold\">)</span> AND traverse  =  <span style=\"color: #008000; text-decoration-color: #008000\">\"texas\"</span>;\n",
       "</pre>\n"
      ],
      "text/plain": [
       "Gold SQL: SELECT river_name FROM river WHERE LENGTH  =  \u001b[1m(\u001b[0m SELECT MAX \u001b[1m(\u001b[0m LENGTH \u001b[1m)\u001b[0m FROM river WHERE traverse  =  \n",
       "\u001b[32m\"texas\"\u001b[0m \u001b[1m)\u001b[0m AND traverse  =  \u001b[32m\"texas\"\u001b[0m;\n"
      ]
     },
     "metadata": {},
     "output_type": "display_data"
    },
    {
     "data": {
      "text/html": [
       "<pre style=\"white-space:pre;overflow-x:auto;line-height:normal;font-family:Menlo,'DejaVu Sans Mono',consolas,'Courier New',monospace\"><span style=\"font-weight: bold\">[</span><span style=\"color: #008080; text-decoration-color: #008080; font-weight: bold\">29</span><span style=\"font-weight: bold\">]</span> \n",
       "</pre>\n"
      ],
      "text/plain": [
       "\u001b[1m[\u001b[0m\u001b[1;36m29\u001b[0m\u001b[1m]\u001b[0m \n"
      ]
     },
     "metadata": {},
     "output_type": "display_data"
    },
    {
     "data": {
      "text/html": [
       "<pre style=\"white-space:pre;overflow-x:auto;line-height:normal;font-family:Menlo,'DejaVu Sans Mono',consolas,'Courier New',monospace\">Question: what is the longest river that flows through texas\n",
       "</pre>\n"
      ],
      "text/plain": [
       "Question: what is the longest river that flows through texas\n"
      ]
     },
     "metadata": {},
     "output_type": "display_data"
    },
    {
     "data": {
      "text/html": [
       "<pre style=\"white-space:pre;overflow-x:auto;line-height:normal;font-family:Menlo,'DejaVu Sans Mono',consolas,'Courier New',monospace\">Gold SQL: SELECT river_name FROM river WHERE LENGTH  =  <span style=\"font-weight: bold\">(</span> SELECT MAX <span style=\"font-weight: bold\">(</span> LENGTH <span style=\"font-weight: bold\">)</span> FROM river WHERE traverse  =  \n",
       "<span style=\"color: #008000; text-decoration-color: #008000\">\"texas\"</span> <span style=\"font-weight: bold\">)</span> AND traverse  =  <span style=\"color: #008000; text-decoration-color: #008000\">\"texas\"</span>;\n",
       "</pre>\n"
      ],
      "text/plain": [
       "Gold SQL: SELECT river_name FROM river WHERE LENGTH  =  \u001b[1m(\u001b[0m SELECT MAX \u001b[1m(\u001b[0m LENGTH \u001b[1m)\u001b[0m FROM river WHERE traverse  =  \n",
       "\u001b[32m\"texas\"\u001b[0m \u001b[1m)\u001b[0m AND traverse  =  \u001b[32m\"texas\"\u001b[0m;\n"
      ]
     },
     "metadata": {},
     "output_type": "display_data"
    },
    {
     "data": {
      "text/html": [
       "<pre style=\"white-space:pre;overflow-x:auto;line-height:normal;font-family:Menlo,'DejaVu Sans Mono',consolas,'Courier New',monospace\"><span style=\"font-weight: bold\">[</span><span style=\"color: #008080; text-decoration-color: #008080; font-weight: bold\">30</span><span style=\"font-weight: bold\">]</span> \n",
       "</pre>\n"
      ],
      "text/plain": [
       "\u001b[1m[\u001b[0m\u001b[1;36m30\u001b[0m\u001b[1m]\u001b[0m \n"
      ]
     },
     "metadata": {},
     "output_type": "display_data"
    },
    {
     "data": {
      "text/html": [
       "<pre style=\"white-space:pre;overflow-x:auto;line-height:normal;font-family:Menlo,'DejaVu Sans Mono',consolas,'Courier New',monospace\">Question: what are the biggest rivers in texas\n",
       "</pre>\n"
      ],
      "text/plain": [
       "Question: what are the biggest rivers in texas\n"
      ]
     },
     "metadata": {},
     "output_type": "display_data"
    },
    {
     "data": {
      "text/html": [
       "<pre style=\"white-space:pre;overflow-x:auto;line-height:normal;font-family:Menlo,'DejaVu Sans Mono',consolas,'Courier New',monospace\">Gold SQL: SELECT river_name FROM river WHERE LENGTH  =  <span style=\"font-weight: bold\">(</span> SELECT MAX <span style=\"font-weight: bold\">(</span> LENGTH <span style=\"font-weight: bold\">)</span> FROM river WHERE traverse  =  \n",
       "<span style=\"color: #008000; text-decoration-color: #008000\">\"texas\"</span> <span style=\"font-weight: bold\">)</span> AND traverse  =  <span style=\"color: #008000; text-decoration-color: #008000\">\"texas\"</span>;\n",
       "</pre>\n"
      ],
      "text/plain": [
       "Gold SQL: SELECT river_name FROM river WHERE LENGTH  =  \u001b[1m(\u001b[0m SELECT MAX \u001b[1m(\u001b[0m LENGTH \u001b[1m)\u001b[0m FROM river WHERE traverse  =  \n",
       "\u001b[32m\"texas\"\u001b[0m \u001b[1m)\u001b[0m AND traverse  =  \u001b[32m\"texas\"\u001b[0m;\n"
      ]
     },
     "metadata": {},
     "output_type": "display_data"
    },
    {
     "data": {
      "text/html": [
       "<pre style=\"white-space:pre;overflow-x:auto;line-height:normal;font-family:Menlo,'DejaVu Sans Mono',consolas,'Courier New',monospace\"><span style=\"font-weight: bold\">[</span><span style=\"color: #008080; text-decoration-color: #008080; font-weight: bold\">31</span><span style=\"font-weight: bold\">]</span> \n",
       "</pre>\n"
      ],
      "text/plain": [
       "\u001b[1m[\u001b[0m\u001b[1;36m31\u001b[0m\u001b[1m]\u001b[0m \n"
      ]
     },
     "metadata": {},
     "output_type": "display_data"
    },
    {
     "data": {
      "text/html": [
       "<pre style=\"white-space:pre;overflow-x:auto;line-height:normal;font-family:Menlo,'DejaVu Sans Mono',consolas,'Courier New',monospace\">Question: how many rivers are in idaho\n",
       "</pre>\n"
      ],
      "text/plain": [
       "Question: how many rivers are in idaho\n"
      ]
     },
     "metadata": {},
     "output_type": "display_data"
    },
    {
     "data": {
      "text/html": [
       "<pre style=\"white-space:pre;overflow-x:auto;line-height:normal;font-family:Menlo,'DejaVu Sans Mono',consolas,'Courier New',monospace\">Gold SQL: SELECT COUNT <span style=\"font-weight: bold\">(</span> river_name <span style=\"font-weight: bold\">)</span> FROM river WHERE traverse  =  <span style=\"color: #008000; text-decoration-color: #008000\">\"idaho\"</span>;\n",
       "</pre>\n"
      ],
      "text/plain": [
       "Gold SQL: SELECT COUNT \u001b[1m(\u001b[0m river_name \u001b[1m)\u001b[0m FROM river WHERE traverse  =  \u001b[32m\"idaho\"\u001b[0m;\n"
      ]
     },
     "metadata": {},
     "output_type": "display_data"
    },
    {
     "data": {
      "text/html": [
       "<pre style=\"white-space:pre;overflow-x:auto;line-height:normal;font-family:Menlo,'DejaVu Sans Mono',consolas,'Courier New',monospace\"><span style=\"font-weight: bold\">[</span><span style=\"color: #008080; text-decoration-color: #008080; font-weight: bold\">32</span><span style=\"font-weight: bold\">]</span> \n",
       "</pre>\n"
      ],
      "text/plain": [
       "\u001b[1m[\u001b[0m\u001b[1;36m32\u001b[0m\u001b[1m]\u001b[0m \n"
      ]
     },
     "metadata": {},
     "output_type": "display_data"
    },
    {
     "data": {
      "text/html": [
       "<pre style=\"white-space:pre;overflow-x:auto;line-height:normal;font-family:Menlo,'DejaVu Sans Mono',consolas,'Courier New',monospace\">Question: give me the number of rivers in idaho\n",
       "</pre>\n"
      ],
      "text/plain": [
       "Question: give me the number of rivers in idaho\n"
      ]
     },
     "metadata": {},
     "output_type": "display_data"
    },
    {
     "data": {
      "text/html": [
       "<pre style=\"white-space:pre;overflow-x:auto;line-height:normal;font-family:Menlo,'DejaVu Sans Mono',consolas,'Courier New',monospace\">Gold SQL: SELECT COUNT <span style=\"font-weight: bold\">(</span> river_name <span style=\"font-weight: bold\">)</span> FROM river WHERE traverse  =  <span style=\"color: #008000; text-decoration-color: #008000\">\"idaho\"</span>;\n",
       "</pre>\n"
      ],
      "text/plain": [
       "Gold SQL: SELECT COUNT \u001b[1m(\u001b[0m river_name \u001b[1m)\u001b[0m FROM river WHERE traverse  =  \u001b[32m\"idaho\"\u001b[0m;\n"
      ]
     },
     "metadata": {},
     "output_type": "display_data"
    },
    {
     "data": {
      "text/html": [
       "<pre style=\"white-space:pre;overflow-x:auto;line-height:normal;font-family:Menlo,'DejaVu Sans Mono',consolas,'Courier New',monospace\"><span style=\"font-weight: bold\">[</span><span style=\"color: #008080; text-decoration-color: #008080; font-weight: bold\">33</span><span style=\"font-weight: bold\">]</span> \n",
       "</pre>\n"
      ],
      "text/plain": [
       "\u001b[1m[\u001b[0m\u001b[1;36m33\u001b[0m\u001b[1m]\u001b[0m \n"
      ]
     },
     "metadata": {},
     "output_type": "display_data"
    },
    {
     "data": {
      "text/html": [
       "<pre style=\"white-space:pre;overflow-x:auto;line-height:normal;font-family:Menlo,'DejaVu Sans Mono',consolas,'Courier New',monospace\">Question: how many rivers does idaho have\n",
       "</pre>\n"
      ],
      "text/plain": [
       "Question: how many rivers does idaho have\n"
      ]
     },
     "metadata": {},
     "output_type": "display_data"
    },
    {
     "data": {
      "text/html": [
       "<pre style=\"white-space:pre;overflow-x:auto;line-height:normal;font-family:Menlo,'DejaVu Sans Mono',consolas,'Courier New',monospace\">Gold SQL: SELECT COUNT <span style=\"font-weight: bold\">(</span> river_name <span style=\"font-weight: bold\">)</span> FROM river WHERE traverse  =  <span style=\"color: #008000; text-decoration-color: #008000\">\"idaho\"</span>;\n",
       "</pre>\n"
      ],
      "text/plain": [
       "Gold SQL: SELECT COUNT \u001b[1m(\u001b[0m river_name \u001b[1m)\u001b[0m FROM river WHERE traverse  =  \u001b[32m\"idaho\"\u001b[0m;\n"
      ]
     },
     "metadata": {},
     "output_type": "display_data"
    },
    {
     "data": {
      "text/html": [
       "<pre style=\"white-space:pre;overflow-x:auto;line-height:normal;font-family:Menlo,'DejaVu Sans Mono',consolas,'Courier New',monospace\"><span style=\"font-weight: bold\">[</span><span style=\"color: #008080; text-decoration-color: #008080; font-weight: bold\">34</span><span style=\"font-weight: bold\">]</span> \n",
       "</pre>\n"
      ],
      "text/plain": [
       "\u001b[1m[\u001b[0m\u001b[1;36m34\u001b[0m\u001b[1m]\u001b[0m \n"
      ]
     },
     "metadata": {},
     "output_type": "display_data"
    },
    {
     "data": {
      "text/html": [
       "<pre style=\"white-space:pre;overflow-x:auto;line-height:normal;font-family:Menlo,'DejaVu Sans Mono',consolas,'Courier New',monospace\">Question: how many rivers are there in idaho\n",
       "</pre>\n"
      ],
      "text/plain": [
       "Question: how many rivers are there in idaho\n"
      ]
     },
     "metadata": {},
     "output_type": "display_data"
    },
    {
     "data": {
      "text/html": [
       "<pre style=\"white-space:pre;overflow-x:auto;line-height:normal;font-family:Menlo,'DejaVu Sans Mono',consolas,'Courier New',monospace\">Gold SQL: SELECT COUNT <span style=\"font-weight: bold\">(</span> river_name <span style=\"font-weight: bold\">)</span> FROM river WHERE traverse  =  <span style=\"color: #008000; text-decoration-color: #008000\">\"idaho\"</span>;\n",
       "</pre>\n"
      ],
      "text/plain": [
       "Gold SQL: SELECT COUNT \u001b[1m(\u001b[0m river_name \u001b[1m)\u001b[0m FROM river WHERE traverse  =  \u001b[32m\"idaho\"\u001b[0m;\n"
      ]
     },
     "metadata": {},
     "output_type": "display_data"
    },
    {
     "data": {
      "text/html": [
       "<pre style=\"white-space:pre;overflow-x:auto;line-height:normal;font-family:Menlo,'DejaVu Sans Mono',consolas,'Courier New',monospace\"><span style=\"font-weight: bold\">[</span><span style=\"color: #008080; text-decoration-color: #008080; font-weight: bold\">35</span><span style=\"font-weight: bold\">]</span> \n",
       "</pre>\n"
      ],
      "text/plain": [
       "\u001b[1m[\u001b[0m\u001b[1;36m35\u001b[0m\u001b[1m]\u001b[0m \n"
      ]
     },
     "metadata": {},
     "output_type": "display_data"
    },
    {
     "data": {
      "text/html": [
       "<pre style=\"white-space:pre;overflow-x:auto;line-height:normal;font-family:Menlo,'DejaVu Sans Mono',consolas,'Courier New',monospace\">Question: how many rivers run through idaho\n",
       "</pre>\n"
      ],
      "text/plain": [
       "Question: how many rivers run through idaho\n"
      ]
     },
     "metadata": {},
     "output_type": "display_data"
    },
    {
     "data": {
      "text/html": [
       "<pre style=\"white-space:pre;overflow-x:auto;line-height:normal;font-family:Menlo,'DejaVu Sans Mono',consolas,'Courier New',monospace\">Gold SQL: SELECT COUNT <span style=\"font-weight: bold\">(</span> river_name <span style=\"font-weight: bold\">)</span> FROM river WHERE traverse  =  <span style=\"color: #008000; text-decoration-color: #008000\">\"idaho\"</span>;\n",
       "</pre>\n"
      ],
      "text/plain": [
       "Gold SQL: SELECT COUNT \u001b[1m(\u001b[0m river_name \u001b[1m)\u001b[0m FROM river WHERE traverse  =  \u001b[32m\"idaho\"\u001b[0m;\n"
      ]
     },
     "metadata": {},
     "output_type": "display_data"
    },
    {
     "data": {
      "text/html": [
       "<pre style=\"white-space:pre;overflow-x:auto;line-height:normal;font-family:Menlo,'DejaVu Sans Mono',consolas,'Courier New',monospace\"><span style=\"font-weight: bold\">[</span><span style=\"color: #008080; text-decoration-color: #008080; font-weight: bold\">36</span><span style=\"font-weight: bold\">]</span> \n",
       "</pre>\n"
      ],
      "text/plain": [
       "\u001b[1m[\u001b[0m\u001b[1;36m36\u001b[0m\u001b[1m]\u001b[0m \n"
      ]
     },
     "metadata": {},
     "output_type": "display_data"
    },
    {
     "data": {
      "text/html": [
       "<pre style=\"white-space:pre;overflow-x:auto;line-height:normal;font-family:Menlo,'DejaVu Sans Mono',consolas,'Courier New',monospace\">Question: how many rivers are found in idaho\n",
       "</pre>\n"
      ],
      "text/plain": [
       "Question: how many rivers are found in idaho\n"
      ]
     },
     "metadata": {},
     "output_type": "display_data"
    },
    {
     "data": {
      "text/html": [
       "<pre style=\"white-space:pre;overflow-x:auto;line-height:normal;font-family:Menlo,'DejaVu Sans Mono',consolas,'Courier New',monospace\">Gold SQL: SELECT COUNT <span style=\"font-weight: bold\">(</span> river_name <span style=\"font-weight: bold\">)</span> FROM river WHERE traverse  =  <span style=\"color: #008000; text-decoration-color: #008000\">\"idaho\"</span>;\n",
       "</pre>\n"
      ],
      "text/plain": [
       "Gold SQL: SELECT COUNT \u001b[1m(\u001b[0m river_name \u001b[1m)\u001b[0m FROM river WHERE traverse  =  \u001b[32m\"idaho\"\u001b[0m;\n"
      ]
     },
     "metadata": {},
     "output_type": "display_data"
    },
    {
     "data": {
      "text/html": [
       "<pre style=\"white-space:pre;overflow-x:auto;line-height:normal;font-family:Menlo,'DejaVu Sans Mono',consolas,'Courier New',monospace\"><span style=\"font-weight: bold\">[</span><span style=\"color: #008080; text-decoration-color: #008080; font-weight: bold\">37</span><span style=\"font-weight: bold\">]</span> \n",
       "</pre>\n"
      ],
      "text/plain": [
       "\u001b[1m[\u001b[0m\u001b[1;36m37\u001b[0m\u001b[1m]\u001b[0m \n"
      ]
     },
     "metadata": {},
     "output_type": "display_data"
    },
    {
     "data": {
      "text/html": [
       "<pre style=\"white-space:pre;overflow-x:auto;line-height:normal;font-family:Menlo,'DejaVu Sans Mono',consolas,'Courier New',monospace\">Question: how many rivers in idaho\n",
       "</pre>\n"
      ],
      "text/plain": [
       "Question: how many rivers in idaho\n"
      ]
     },
     "metadata": {},
     "output_type": "display_data"
    },
    {
     "data": {
      "text/html": [
       "<pre style=\"white-space:pre;overflow-x:auto;line-height:normal;font-family:Menlo,'DejaVu Sans Mono',consolas,'Courier New',monospace\">Gold SQL: SELECT COUNT <span style=\"font-weight: bold\">(</span> river_name <span style=\"font-weight: bold\">)</span> FROM river WHERE traverse  =  <span style=\"color: #008000; text-decoration-color: #008000\">\"idaho\"</span>;\n",
       "</pre>\n"
      ],
      "text/plain": [
       "Gold SQL: SELECT COUNT \u001b[1m(\u001b[0m river_name \u001b[1m)\u001b[0m FROM river WHERE traverse  =  \u001b[32m\"idaho\"\u001b[0m;\n"
      ]
     },
     "metadata": {},
     "output_type": "display_data"
    },
    {
     "data": {
      "text/html": [
       "<pre style=\"white-space:pre;overflow-x:auto;line-height:normal;font-family:Menlo,'DejaVu Sans Mono',consolas,'Courier New',monospace\"><span style=\"font-weight: bold\">[</span><span style=\"color: #008080; text-decoration-color: #008080; font-weight: bold\">38</span><span style=\"font-weight: bold\">]</span> \n",
       "</pre>\n"
      ],
      "text/plain": [
       "\u001b[1m[\u001b[0m\u001b[1;36m38\u001b[0m\u001b[1m]\u001b[0m \n"
      ]
     },
     "metadata": {},
     "output_type": "display_data"
    },
    {
     "data": {
      "text/html": [
       "<pre style=\"white-space:pre;overflow-x:auto;line-height:normal;font-family:Menlo,'DejaVu Sans Mono',consolas,'Courier New',monospace\">Question: what states neighbor kentucky\n",
       "</pre>\n"
      ],
      "text/plain": [
       "Question: what states neighbor kentucky\n"
      ]
     },
     "metadata": {},
     "output_type": "display_data"
    },
    {
     "data": {
      "text/html": [
       "<pre style=\"white-space:pre;overflow-x:auto;line-height:normal;font-family:Menlo,'DejaVu Sans Mono',consolas,'Courier New',monospace\">Gold SQL: SELECT border FROM border_info WHERE state_name  =  <span style=\"color: #008000; text-decoration-color: #008000\">\"kentucky\"</span>;\n",
       "</pre>\n"
      ],
      "text/plain": [
       "Gold SQL: SELECT border FROM border_info WHERE state_name  =  \u001b[32m\"kentucky\"\u001b[0m;\n"
      ]
     },
     "metadata": {},
     "output_type": "display_data"
    },
    {
     "data": {
      "text/html": [
       "<pre style=\"white-space:pre;overflow-x:auto;line-height:normal;font-family:Menlo,'DejaVu Sans Mono',consolas,'Courier New',monospace\"><span style=\"font-weight: bold\">[</span><span style=\"color: #008080; text-decoration-color: #008080; font-weight: bold\">39</span><span style=\"font-weight: bold\">]</span> \n",
       "</pre>\n"
      ],
      "text/plain": [
       "\u001b[1m[\u001b[0m\u001b[1;36m39\u001b[0m\u001b[1m]\u001b[0m \n"
      ]
     },
     "metadata": {},
     "output_type": "display_data"
    },
    {
     "data": {
      "text/html": [
       "<pre style=\"white-space:pre;overflow-x:auto;line-height:normal;font-family:Menlo,'DejaVu Sans Mono',consolas,'Courier New',monospace\">Question: which states border kentucky\n",
       "</pre>\n"
      ],
      "text/plain": [
       "Question: which states border kentucky\n"
      ]
     },
     "metadata": {},
     "output_type": "display_data"
    },
    {
     "data": {
      "text/html": [
       "<pre style=\"white-space:pre;overflow-x:auto;line-height:normal;font-family:Menlo,'DejaVu Sans Mono',consolas,'Courier New',monospace\">Gold SQL: SELECT border FROM border_info WHERE state_name  =  <span style=\"color: #008000; text-decoration-color: #008000\">\"kentucky\"</span>;\n",
       "</pre>\n"
      ],
      "text/plain": [
       "Gold SQL: SELECT border FROM border_info WHERE state_name  =  \u001b[32m\"kentucky\"\u001b[0m;\n"
      ]
     },
     "metadata": {},
     "output_type": "display_data"
    },
    {
     "data": {
      "text/html": [
       "<pre style=\"white-space:pre;overflow-x:auto;line-height:normal;font-family:Menlo,'DejaVu Sans Mono',consolas,'Courier New',monospace\"><span style=\"font-weight: bold\">[</span><span style=\"color: #008080; text-decoration-color: #008080; font-weight: bold\">40</span><span style=\"font-weight: bold\">]</span> \n",
       "</pre>\n"
      ],
      "text/plain": [
       "\u001b[1m[\u001b[0m\u001b[1;36m40\u001b[0m\u001b[1m]\u001b[0m \n"
      ]
     },
     "metadata": {},
     "output_type": "display_data"
    },
    {
     "data": {
      "text/html": [
       "<pre style=\"white-space:pre;overflow-x:auto;line-height:normal;font-family:Menlo,'DejaVu Sans Mono',consolas,'Courier New',monospace\">Question: what states border kentucky\n",
       "</pre>\n"
      ],
      "text/plain": [
       "Question: what states border kentucky\n"
      ]
     },
     "metadata": {},
     "output_type": "display_data"
    },
    {
     "data": {
      "text/html": [
       "<pre style=\"white-space:pre;overflow-x:auto;line-height:normal;font-family:Menlo,'DejaVu Sans Mono',consolas,'Courier New',monospace\">Gold SQL: SELECT border FROM border_info WHERE state_name  =  <span style=\"color: #008000; text-decoration-color: #008000\">\"kentucky\"</span>;\n",
       "</pre>\n"
      ],
      "text/plain": [
       "Gold SQL: SELECT border FROM border_info WHERE state_name  =  \u001b[32m\"kentucky\"\u001b[0m;\n"
      ]
     },
     "metadata": {},
     "output_type": "display_data"
    },
    {
     "data": {
      "text/html": [
       "<pre style=\"white-space:pre;overflow-x:auto;line-height:normal;font-family:Menlo,'DejaVu Sans Mono',consolas,'Courier New',monospace\"><span style=\"font-weight: bold\">[</span><span style=\"color: #008080; text-decoration-color: #008080; font-weight: bold\">41</span><span style=\"font-weight: bold\">]</span> \n",
       "</pre>\n"
      ],
      "text/plain": [
       "\u001b[1m[\u001b[0m\u001b[1;36m41\u001b[0m\u001b[1m]\u001b[0m \n"
      ]
     },
     "metadata": {},
     "output_type": "display_data"
    },
    {
     "data": {
      "text/html": [
       "<pre style=\"white-space:pre;overflow-x:auto;line-height:normal;font-family:Menlo,'DejaVu Sans Mono',consolas,'Courier New',monospace\">Question: give me the states that border kentucky\n",
       "</pre>\n"
      ],
      "text/plain": [
       "Question: give me the states that border kentucky\n"
      ]
     },
     "metadata": {},
     "output_type": "display_data"
    },
    {
     "data": {
      "text/html": [
       "<pre style=\"white-space:pre;overflow-x:auto;line-height:normal;font-family:Menlo,'DejaVu Sans Mono',consolas,'Courier New',monospace\">Gold SQL: SELECT border FROM border_info WHERE state_name  =  <span style=\"color: #008000; text-decoration-color: #008000\">\"kentucky\"</span>;\n",
       "</pre>\n"
      ],
      "text/plain": [
       "Gold SQL: SELECT border FROM border_info WHERE state_name  =  \u001b[32m\"kentucky\"\u001b[0m;\n"
      ]
     },
     "metadata": {},
     "output_type": "display_data"
    },
    {
     "data": {
      "text/html": [
       "<pre style=\"white-space:pre;overflow-x:auto;line-height:normal;font-family:Menlo,'DejaVu Sans Mono',consolas,'Courier New',monospace\"><span style=\"font-weight: bold\">[</span><span style=\"color: #008080; text-decoration-color: #008080; font-weight: bold\">42</span><span style=\"font-weight: bold\">]</span> \n",
       "</pre>\n"
      ],
      "text/plain": [
       "\u001b[1m[\u001b[0m\u001b[1;36m42\u001b[0m\u001b[1m]\u001b[0m \n"
      ]
     },
     "metadata": {},
     "output_type": "display_data"
    },
    {
     "data": {
      "text/html": [
       "<pre style=\"white-space:pre;overflow-x:auto;line-height:normal;font-family:Menlo,'DejaVu Sans Mono',consolas,'Courier New',monospace\">Question: what state borders kentucky\n",
       "</pre>\n"
      ],
      "text/plain": [
       "Question: what state borders kentucky\n"
      ]
     },
     "metadata": {},
     "output_type": "display_data"
    },
    {
     "data": {
      "text/html": [
       "<pre style=\"white-space:pre;overflow-x:auto;line-height:normal;font-family:Menlo,'DejaVu Sans Mono',consolas,'Courier New',monospace\">Gold SQL: SELECT border FROM border_info WHERE state_name  =  <span style=\"color: #008000; text-decoration-color: #008000\">\"kentucky\"</span>;\n",
       "</pre>\n"
      ],
      "text/plain": [
       "Gold SQL: SELECT border FROM border_info WHERE state_name  =  \u001b[32m\"kentucky\"\u001b[0m;\n"
      ]
     },
     "metadata": {},
     "output_type": "display_data"
    },
    {
     "data": {
      "text/html": [
       "<pre style=\"white-space:pre;overflow-x:auto;line-height:normal;font-family:Menlo,'DejaVu Sans Mono',consolas,'Courier New',monospace\"><span style=\"font-weight: bold\">[</span><span style=\"color: #008080; text-decoration-color: #008080; font-weight: bold\">43</span><span style=\"font-weight: bold\">]</span> \n",
       "</pre>\n"
      ],
      "text/plain": [
       "\u001b[1m[\u001b[0m\u001b[1;36m43\u001b[0m\u001b[1m]\u001b[0m \n"
      ]
     },
     "metadata": {},
     "output_type": "display_data"
    },
    {
     "data": {
      "text/html": [
       "<pre style=\"white-space:pre;overflow-x:auto;line-height:normal;font-family:Menlo,'DejaVu Sans Mono',consolas,'Courier New',monospace\">Question: what states are next to kentucky\n",
       "</pre>\n"
      ],
      "text/plain": [
       "Question: what states are next to kentucky\n"
      ]
     },
     "metadata": {},
     "output_type": "display_data"
    },
    {
     "data": {
      "text/html": [
       "<pre style=\"white-space:pre;overflow-x:auto;line-height:normal;font-family:Menlo,'DejaVu Sans Mono',consolas,'Courier New',monospace\">Gold SQL: SELECT border FROM border_info WHERE state_name  =  <span style=\"color: #008000; text-decoration-color: #008000\">\"kentucky\"</span>;\n",
       "</pre>\n"
      ],
      "text/plain": [
       "Gold SQL: SELECT border FROM border_info WHERE state_name  =  \u001b[32m\"kentucky\"\u001b[0m;\n"
      ]
     },
     "metadata": {},
     "output_type": "display_data"
    },
    {
     "data": {
      "text/html": [
       "<pre style=\"white-space:pre;overflow-x:auto;line-height:normal;font-family:Menlo,'DejaVu Sans Mono',consolas,'Courier New',monospace\"><span style=\"font-weight: bold\">[</span><span style=\"color: #008080; text-decoration-color: #008080; font-weight: bold\">44</span><span style=\"font-weight: bold\">]</span> \n",
       "</pre>\n"
      ],
      "text/plain": [
       "\u001b[1m[\u001b[0m\u001b[1;36m44\u001b[0m\u001b[1m]\u001b[0m \n"
      ]
     },
     "metadata": {},
     "output_type": "display_data"
    },
    {
     "data": {
      "text/html": [
       "<pre style=\"white-space:pre;overflow-x:auto;line-height:normal;font-family:Menlo,'DejaVu Sans Mono',consolas,'Courier New',monospace\">Question: what states surround kentucky\n",
       "</pre>\n"
      ],
      "text/plain": [
       "Question: what states surround kentucky\n"
      ]
     },
     "metadata": {},
     "output_type": "display_data"
    },
    {
     "data": {
      "text/html": [
       "<pre style=\"white-space:pre;overflow-x:auto;line-height:normal;font-family:Menlo,'DejaVu Sans Mono',consolas,'Courier New',monospace\">Gold SQL: SELECT border FROM border_info WHERE state_name  =  <span style=\"color: #008000; text-decoration-color: #008000\">\"kentucky\"</span>;\n",
       "</pre>\n"
      ],
      "text/plain": [
       "Gold SQL: SELECT border FROM border_info WHERE state_name  =  \u001b[32m\"kentucky\"\u001b[0m;\n"
      ]
     },
     "metadata": {},
     "output_type": "display_data"
    },
    {
     "data": {
      "text/html": [
       "<pre style=\"white-space:pre;overflow-x:auto;line-height:normal;font-family:Menlo,'DejaVu Sans Mono',consolas,'Courier New',monospace\"><span style=\"font-weight: bold\">[</span><span style=\"color: #008080; text-decoration-color: #008080; font-weight: bold\">45</span><span style=\"font-weight: bold\">]</span> \n",
       "</pre>\n"
      ],
      "text/plain": [
       "\u001b[1m[\u001b[0m\u001b[1;36m45\u001b[0m\u001b[1m]\u001b[0m \n"
      ]
     },
     "metadata": {},
     "output_type": "display_data"
    },
    {
     "data": {
      "text/html": [
       "<pre style=\"white-space:pre;overflow-x:auto;line-height:normal;font-family:Menlo,'DejaVu Sans Mono',consolas,'Courier New',monospace\">Question: which state borders kentucky\n",
       "</pre>\n"
      ],
      "text/plain": [
       "Question: which state borders kentucky\n"
      ]
     },
     "metadata": {},
     "output_type": "display_data"
    },
    {
     "data": {
      "text/html": [
       "<pre style=\"white-space:pre;overflow-x:auto;line-height:normal;font-family:Menlo,'DejaVu Sans Mono',consolas,'Courier New',monospace\">Gold SQL: SELECT border FROM border_info WHERE state_name  =  <span style=\"color: #008000; text-decoration-color: #008000\">\"kentucky\"</span>;\n",
       "</pre>\n"
      ],
      "text/plain": [
       "Gold SQL: SELECT border FROM border_info WHERE state_name  =  \u001b[32m\"kentucky\"\u001b[0m;\n"
      ]
     },
     "metadata": {},
     "output_type": "display_data"
    },
    {
     "data": {
      "text/html": [
       "<pre style=\"white-space:pre;overflow-x:auto;line-height:normal;font-family:Menlo,'DejaVu Sans Mono',consolas,'Courier New',monospace\"><span style=\"font-weight: bold\">[</span><span style=\"color: #008080; text-decoration-color: #008080; font-weight: bold\">46</span><span style=\"font-weight: bold\">]</span> \n",
       "</pre>\n"
      ],
      "text/plain": [
       "\u001b[1m[\u001b[0m\u001b[1;36m46\u001b[0m\u001b[1m]\u001b[0m \n"
      ]
     },
     "metadata": {},
     "output_type": "display_data"
    },
    {
     "data": {
      "text/html": [
       "<pre style=\"white-space:pre;overflow-x:auto;line-height:normal;font-family:Menlo,'DejaVu Sans Mono',consolas,'Courier New',monospace\">Question: what are the neighboring states for kentucky\n",
       "</pre>\n"
      ],
      "text/plain": [
       "Question: what are the neighboring states for kentucky\n"
      ]
     },
     "metadata": {},
     "output_type": "display_data"
    },
    {
     "data": {
      "text/html": [
       "<pre style=\"white-space:pre;overflow-x:auto;line-height:normal;font-family:Menlo,'DejaVu Sans Mono',consolas,'Courier New',monospace\">Gold SQL: SELECT border FROM border_info WHERE state_name  =  <span style=\"color: #008000; text-decoration-color: #008000\">\"kentucky\"</span>;\n",
       "</pre>\n"
      ],
      "text/plain": [
       "Gold SQL: SELECT border FROM border_info WHERE state_name  =  \u001b[32m\"kentucky\"\u001b[0m;\n"
      ]
     },
     "metadata": {},
     "output_type": "display_data"
    },
    {
     "data": {
      "text/html": [
       "<pre style=\"white-space:pre;overflow-x:auto;line-height:normal;font-family:Menlo,'DejaVu Sans Mono',consolas,'Courier New',monospace\"><span style=\"font-weight: bold\">[</span><span style=\"color: #008080; text-decoration-color: #008080; font-weight: bold\">47</span><span style=\"font-weight: bold\">]</span> \n",
       "</pre>\n"
      ],
      "text/plain": [
       "\u001b[1m[\u001b[0m\u001b[1;36m47\u001b[0m\u001b[1m]\u001b[0m \n"
      ]
     },
     "metadata": {},
     "output_type": "display_data"
    },
    {
     "data": {
      "text/html": [
       "<pre style=\"white-space:pre;overflow-x:auto;line-height:normal;font-family:Menlo,'DejaVu Sans Mono',consolas,'Courier New',monospace\">Question: which states adjoin kentucky\n",
       "</pre>\n"
      ],
      "text/plain": [
       "Question: which states adjoin kentucky\n"
      ]
     },
     "metadata": {},
     "output_type": "display_data"
    },
    {
     "data": {
      "text/html": [
       "<pre style=\"white-space:pre;overflow-x:auto;line-height:normal;font-family:Menlo,'DejaVu Sans Mono',consolas,'Courier New',monospace\">Gold SQL: SELECT border FROM border_info WHERE state_name  =  <span style=\"color: #008000; text-decoration-color: #008000\">\"kentucky\"</span>;\n",
       "</pre>\n"
      ],
      "text/plain": [
       "Gold SQL: SELECT border FROM border_info WHERE state_name  =  \u001b[32m\"kentucky\"\u001b[0m;\n"
      ]
     },
     "metadata": {},
     "output_type": "display_data"
    },
    {
     "data": {
      "text/html": [
       "<pre style=\"white-space:pre;overflow-x:auto;line-height:normal;font-family:Menlo,'DejaVu Sans Mono',consolas,'Courier New',monospace\"><span style=\"font-weight: bold\">[</span><span style=\"color: #008080; text-decoration-color: #008080; font-weight: bold\">48</span><span style=\"font-weight: bold\">]</span> \n",
       "</pre>\n"
      ],
      "text/plain": [
       "\u001b[1m[\u001b[0m\u001b[1;36m48\u001b[0m\u001b[1m]\u001b[0m \n"
      ]
     },
     "metadata": {},
     "output_type": "display_data"
    },
    {
     "data": {
      "text/html": [
       "<pre style=\"white-space:pre;overflow-x:auto;line-height:normal;font-family:Menlo,'DejaVu Sans Mono',consolas,'Courier New',monospace\">Question: states bordering kentucky\n",
       "</pre>\n"
      ],
      "text/plain": [
       "Question: states bordering kentucky\n"
      ]
     },
     "metadata": {},
     "output_type": "display_data"
    },
    {
     "data": {
      "text/html": [
       "<pre style=\"white-space:pre;overflow-x:auto;line-height:normal;font-family:Menlo,'DejaVu Sans Mono',consolas,'Courier New',monospace\">Gold SQL: SELECT border FROM border_info WHERE state_name  =  <span style=\"color: #008000; text-decoration-color: #008000\">\"kentucky\"</span>;\n",
       "</pre>\n"
      ],
      "text/plain": [
       "Gold SQL: SELECT border FROM border_info WHERE state_name  =  \u001b[32m\"kentucky\"\u001b[0m;\n"
      ]
     },
     "metadata": {},
     "output_type": "display_data"
    },
    {
     "data": {
      "text/html": [
       "<pre style=\"white-space:pre;overflow-x:auto;line-height:normal;font-family:Menlo,'DejaVu Sans Mono',consolas,'Courier New',monospace\"><span style=\"font-weight: bold\">[</span><span style=\"color: #008080; text-decoration-color: #008080; font-weight: bold\">49</span><span style=\"font-weight: bold\">]</span> \n",
       "</pre>\n"
      ],
      "text/plain": [
       "\u001b[1m[\u001b[0m\u001b[1;36m49\u001b[0m\u001b[1m]\u001b[0m \n"
      ]
     },
     "metadata": {},
     "output_type": "display_data"
    },
    {
     "data": {
      "text/html": [
       "<pre style=\"white-space:pre;overflow-x:auto;line-height:normal;font-family:Menlo,'DejaVu Sans Mono',consolas,'Courier New',monospace\">Question: which state border kentucky\n",
       "</pre>\n"
      ],
      "text/plain": [
       "Question: which state border kentucky\n"
      ]
     },
     "metadata": {},
     "output_type": "display_data"
    },
    {
     "data": {
      "text/html": [
       "<pre style=\"white-space:pre;overflow-x:auto;line-height:normal;font-family:Menlo,'DejaVu Sans Mono',consolas,'Courier New',monospace\">Gold SQL: SELECT border FROM border_info WHERE state_name  =  <span style=\"color: #008000; text-decoration-color: #008000\">\"kentucky\"</span>;\n",
       "</pre>\n"
      ],
      "text/plain": [
       "Gold SQL: SELECT border FROM border_info WHERE state_name  =  \u001b[32m\"kentucky\"\u001b[0m;\n"
      ]
     },
     "metadata": {},
     "output_type": "display_data"
    },
    {
     "data": {
      "text/html": [
       "<pre style=\"white-space:pre;overflow-x:auto;line-height:normal;font-family:Menlo,'DejaVu Sans Mono',consolas,'Courier New',monospace\"><span style=\"font-weight: bold\">[</span><span style=\"color: #008080; text-decoration-color: #008080; font-weight: bold\">50</span><span style=\"font-weight: bold\">]</span> \n",
       "</pre>\n"
      ],
      "text/plain": [
       "\u001b[1m[\u001b[0m\u001b[1;36m50\u001b[0m\u001b[1m]\u001b[0m \n"
      ]
     },
     "metadata": {},
     "output_type": "display_data"
    },
    {
     "data": {
      "text/html": [
       "<pre style=\"white-space:pre;overflow-x:auto;line-height:normal;font-family:Menlo,'DejaVu Sans Mono',consolas,'Courier New',monospace\">Question: what is the adjacent state of kentucky\n",
       "</pre>\n"
      ],
      "text/plain": [
       "Question: what is the adjacent state of kentucky\n"
      ]
     },
     "metadata": {},
     "output_type": "display_data"
    },
    {
     "data": {
      "text/html": [
       "<pre style=\"white-space:pre;overflow-x:auto;line-height:normal;font-family:Menlo,'DejaVu Sans Mono',consolas,'Courier New',monospace\">Gold SQL: SELECT border FROM border_info WHERE state_name  =  <span style=\"color: #008000; text-decoration-color: #008000\">\"kentucky\"</span>;\n",
       "</pre>\n"
      ],
      "text/plain": [
       "Gold SQL: SELECT border FROM border_info WHERE state_name  =  \u001b[32m\"kentucky\"\u001b[0m;\n"
      ]
     },
     "metadata": {},
     "output_type": "display_data"
    },
    {
     "data": {
      "text/html": [
       "<pre style=\"white-space:pre;overflow-x:auto;line-height:normal;font-family:Menlo,'DejaVu Sans Mono',consolas,'Courier New',monospace\"><span style=\"font-weight: bold\">[</span><span style=\"color: #008080; text-decoration-color: #008080; font-weight: bold\">51</span><span style=\"font-weight: bold\">]</span> \n",
       "</pre>\n"
      ],
      "text/plain": [
       "\u001b[1m[\u001b[0m\u001b[1;36m51\u001b[0m\u001b[1m]\u001b[0m \n"
      ]
     },
     "metadata": {},
     "output_type": "display_data"
    },
    {
     "data": {
      "text/html": [
       "<pre style=\"white-space:pre;overflow-x:auto;line-height:normal;font-family:Menlo,'DejaVu Sans Mono',consolas,'Courier New',monospace\">Question: name all the rivers in illinois\n",
       "</pre>\n"
      ],
      "text/plain": [
       "Question: name all the rivers in illinois\n"
      ]
     },
     "metadata": {},
     "output_type": "display_data"
    },
    {
     "data": {
      "text/html": [
       "<pre style=\"white-space:pre;overflow-x:auto;line-height:normal;font-family:Menlo,'DejaVu Sans Mono',consolas,'Courier New',monospace\">Gold SQL: SELECT river_name FROM river WHERE traverse  =  <span style=\"color: #008000; text-decoration-color: #008000\">\"illinois\"</span>;\n",
       "</pre>\n"
      ],
      "text/plain": [
       "Gold SQL: SELECT river_name FROM river WHERE traverse  =  \u001b[32m\"illinois\"\u001b[0m;\n"
      ]
     },
     "metadata": {},
     "output_type": "display_data"
    },
    {
     "data": {
      "text/html": [
       "<pre style=\"white-space:pre;overflow-x:auto;line-height:normal;font-family:Menlo,'DejaVu Sans Mono',consolas,'Courier New',monospace\"><span style=\"font-weight: bold\">[</span><span style=\"color: #008080; text-decoration-color: #008080; font-weight: bold\">52</span><span style=\"font-weight: bold\">]</span> \n",
       "</pre>\n"
      ],
      "text/plain": [
       "\u001b[1m[\u001b[0m\u001b[1;36m52\u001b[0m\u001b[1m]\u001b[0m \n"
      ]
     },
     "metadata": {},
     "output_type": "display_data"
    },
    {
     "data": {
      "text/html": [
       "<pre style=\"white-space:pre;overflow-x:auto;line-height:normal;font-family:Menlo,'DejaVu Sans Mono',consolas,'Courier New',monospace\">Question: rivers in illinois\n",
       "</pre>\n"
      ],
      "text/plain": [
       "Question: rivers in illinois\n"
      ]
     },
     "metadata": {},
     "output_type": "display_data"
    },
    {
     "data": {
      "text/html": [
       "<pre style=\"white-space:pre;overflow-x:auto;line-height:normal;font-family:Menlo,'DejaVu Sans Mono',consolas,'Courier New',monospace\">Gold SQL: SELECT river_name FROM river WHERE traverse  =  <span style=\"color: #008000; text-decoration-color: #008000\">\"illinois\"</span>;\n",
       "</pre>\n"
      ],
      "text/plain": [
       "Gold SQL: SELECT river_name FROM river WHERE traverse  =  \u001b[32m\"illinois\"\u001b[0m;\n"
      ]
     },
     "metadata": {},
     "output_type": "display_data"
    },
    {
     "data": {
      "text/html": [
       "<pre style=\"white-space:pre;overflow-x:auto;line-height:normal;font-family:Menlo,'DejaVu Sans Mono',consolas,'Courier New',monospace\"><span style=\"font-weight: bold\">[</span><span style=\"color: #008080; text-decoration-color: #008080; font-weight: bold\">53</span><span style=\"font-weight: bold\">]</span> \n",
       "</pre>\n"
      ],
      "text/plain": [
       "\u001b[1m[\u001b[0m\u001b[1;36m53\u001b[0m\u001b[1m]\u001b[0m \n"
      ]
     },
     "metadata": {},
     "output_type": "display_data"
    },
    {
     "data": {
      "text/html": [
       "<pre style=\"white-space:pre;overflow-x:auto;line-height:normal;font-family:Menlo,'DejaVu Sans Mono',consolas,'Courier New',monospace\">Question: what are all the rivers in illinois\n",
       "</pre>\n"
      ],
      "text/plain": [
       "Question: what are all the rivers in illinois\n"
      ]
     },
     "metadata": {},
     "output_type": "display_data"
    },
    {
     "data": {
      "text/html": [
       "<pre style=\"white-space:pre;overflow-x:auto;line-height:normal;font-family:Menlo,'DejaVu Sans Mono',consolas,'Courier New',monospace\">Gold SQL: SELECT river_name FROM river WHERE traverse  =  <span style=\"color: #008000; text-decoration-color: #008000\">\"illinois\"</span>;\n",
       "</pre>\n"
      ],
      "text/plain": [
       "Gold SQL: SELECT river_name FROM river WHERE traverse  =  \u001b[32m\"illinois\"\u001b[0m;\n"
      ]
     },
     "metadata": {},
     "output_type": "display_data"
    },
    {
     "data": {
      "text/html": [
       "<pre style=\"white-space:pre;overflow-x:auto;line-height:normal;font-family:Menlo,'DejaVu Sans Mono',consolas,'Courier New',monospace\"><span style=\"font-weight: bold\">[</span><span style=\"color: #008080; text-decoration-color: #008080; font-weight: bold\">54</span><span style=\"font-weight: bold\">]</span> \n",
       "</pre>\n"
      ],
      "text/plain": [
       "\u001b[1m[\u001b[0m\u001b[1;36m54\u001b[0m\u001b[1m]\u001b[0m \n"
      ]
     },
     "metadata": {},
     "output_type": "display_data"
    },
    {
     "data": {
      "text/html": [
       "<pre style=\"white-space:pre;overflow-x:auto;line-height:normal;font-family:Menlo,'DejaVu Sans Mono',consolas,'Courier New',monospace\">Question: what are the rivers in illinois\n",
       "</pre>\n"
      ],
      "text/plain": [
       "Question: what are the rivers in illinois\n"
      ]
     },
     "metadata": {},
     "output_type": "display_data"
    },
    {
     "data": {
      "text/html": [
       "<pre style=\"white-space:pre;overflow-x:auto;line-height:normal;font-family:Menlo,'DejaVu Sans Mono',consolas,'Courier New',monospace\">Gold SQL: SELECT river_name FROM river WHERE traverse  =  <span style=\"color: #008000; text-decoration-color: #008000\">\"illinois\"</span>;\n",
       "</pre>\n"
      ],
      "text/plain": [
       "Gold SQL: SELECT river_name FROM river WHERE traverse  =  \u001b[32m\"illinois\"\u001b[0m;\n"
      ]
     },
     "metadata": {},
     "output_type": "display_data"
    },
    {
     "data": {
      "text/html": [
       "<pre style=\"white-space:pre;overflow-x:auto;line-height:normal;font-family:Menlo,'DejaVu Sans Mono',consolas,'Courier New',monospace\"><span style=\"font-weight: bold\">[</span><span style=\"color: #008080; text-decoration-color: #008080; font-weight: bold\">55</span><span style=\"font-weight: bold\">]</span> \n",
       "</pre>\n"
      ],
      "text/plain": [
       "\u001b[1m[\u001b[0m\u001b[1;36m55\u001b[0m\u001b[1m]\u001b[0m \n"
      ]
     },
     "metadata": {},
     "output_type": "display_data"
    },
    {
     "data": {
      "text/html": [
       "<pre style=\"white-space:pre;overflow-x:auto;line-height:normal;font-family:Menlo,'DejaVu Sans Mono',consolas,'Courier New',monospace\">Question: what rivers are in illinois\n",
       "</pre>\n"
      ],
      "text/plain": [
       "Question: what rivers are in illinois\n"
      ]
     },
     "metadata": {},
     "output_type": "display_data"
    },
    {
     "data": {
      "text/html": [
       "<pre style=\"white-space:pre;overflow-x:auto;line-height:normal;font-family:Menlo,'DejaVu Sans Mono',consolas,'Courier New',monospace\">Gold SQL: SELECT river_name FROM river WHERE traverse  =  <span style=\"color: #008000; text-decoration-color: #008000\">\"illinois\"</span>;\n",
       "</pre>\n"
      ],
      "text/plain": [
       "Gold SQL: SELECT river_name FROM river WHERE traverse  =  \u001b[32m\"illinois\"\u001b[0m;\n"
      ]
     },
     "metadata": {},
     "output_type": "display_data"
    },
    {
     "data": {
      "text/html": [
       "<pre style=\"white-space:pre;overflow-x:auto;line-height:normal;font-family:Menlo,'DejaVu Sans Mono',consolas,'Courier New',monospace\"><span style=\"font-weight: bold\">[</span><span style=\"color: #008080; text-decoration-color: #008080; font-weight: bold\">56</span><span style=\"font-weight: bold\">]</span> \n",
       "</pre>\n"
      ],
      "text/plain": [
       "\u001b[1m[\u001b[0m\u001b[1;36m56\u001b[0m\u001b[1m]\u001b[0m \n"
      ]
     },
     "metadata": {},
     "output_type": "display_data"
    },
    {
     "data": {
      "text/html": [
       "<pre style=\"white-space:pre;overflow-x:auto;line-height:normal;font-family:Menlo,'DejaVu Sans Mono',consolas,'Courier New',monospace\">Question: what rivers are there in illinois\n",
       "</pre>\n"
      ],
      "text/plain": [
       "Question: what rivers are there in illinois\n"
      ]
     },
     "metadata": {},
     "output_type": "display_data"
    },
    {
     "data": {
      "text/html": [
       "<pre style=\"white-space:pre;overflow-x:auto;line-height:normal;font-family:Menlo,'DejaVu Sans Mono',consolas,'Courier New',monospace\">Gold SQL: SELECT river_name FROM river WHERE traverse  =  <span style=\"color: #008000; text-decoration-color: #008000\">\"illinois\"</span>;\n",
       "</pre>\n"
      ],
      "text/plain": [
       "Gold SQL: SELECT river_name FROM river WHERE traverse  =  \u001b[32m\"illinois\"\u001b[0m;\n"
      ]
     },
     "metadata": {},
     "output_type": "display_data"
    },
    {
     "data": {
      "text/html": [
       "<pre style=\"white-space:pre;overflow-x:auto;line-height:normal;font-family:Menlo,'DejaVu Sans Mono',consolas,'Courier New',monospace\"><span style=\"font-weight: bold\">[</span><span style=\"color: #008080; text-decoration-color: #008080; font-weight: bold\">57</span><span style=\"font-weight: bold\">]</span> \n",
       "</pre>\n"
      ],
      "text/plain": [
       "\u001b[1m[\u001b[0m\u001b[1;36m57\u001b[0m\u001b[1m]\u001b[0m \n"
      ]
     },
     "metadata": {},
     "output_type": "display_data"
    },
    {
     "data": {
      "text/html": [
       "<pre style=\"white-space:pre;overflow-x:auto;line-height:normal;font-family:Menlo,'DejaVu Sans Mono',consolas,'Courier New',monospace\">Question: what rivers run through illinois\n",
       "</pre>\n"
      ],
      "text/plain": [
       "Question: what rivers run through illinois\n"
      ]
     },
     "metadata": {},
     "output_type": "display_data"
    },
    {
     "data": {
      "text/html": [
       "<pre style=\"white-space:pre;overflow-x:auto;line-height:normal;font-family:Menlo,'DejaVu Sans Mono',consolas,'Courier New',monospace\">Gold SQL: SELECT river_name FROM river WHERE traverse  =  <span style=\"color: #008000; text-decoration-color: #008000\">\"illinois\"</span>;\n",
       "</pre>\n"
      ],
      "text/plain": [
       "Gold SQL: SELECT river_name FROM river WHERE traverse  =  \u001b[32m\"illinois\"\u001b[0m;\n"
      ]
     },
     "metadata": {},
     "output_type": "display_data"
    },
    {
     "data": {
      "text/html": [
       "<pre style=\"white-space:pre;overflow-x:auto;line-height:normal;font-family:Menlo,'DejaVu Sans Mono',consolas,'Courier New',monospace\"><span style=\"font-weight: bold\">[</span><span style=\"color: #008080; text-decoration-color: #008080; font-weight: bold\">58</span><span style=\"font-weight: bold\">]</span> \n",
       "</pre>\n"
      ],
      "text/plain": [
       "\u001b[1m[\u001b[0m\u001b[1;36m58\u001b[0m\u001b[1m]\u001b[0m \n"
      ]
     },
     "metadata": {},
     "output_type": "display_data"
    },
    {
     "data": {
      "text/html": [
       "<pre style=\"white-space:pre;overflow-x:auto;line-height:normal;font-family:Menlo,'DejaVu Sans Mono',consolas,'Courier New',monospace\">Question: what rivers flow through illinois\n",
       "</pre>\n"
      ],
      "text/plain": [
       "Question: what rivers flow through illinois\n"
      ]
     },
     "metadata": {},
     "output_type": "display_data"
    },
    {
     "data": {
      "text/html": [
       "<pre style=\"white-space:pre;overflow-x:auto;line-height:normal;font-family:Menlo,'DejaVu Sans Mono',consolas,'Courier New',monospace\">Gold SQL: SELECT river_name FROM river WHERE traverse  =  <span style=\"color: #008000; text-decoration-color: #008000\">\"illinois\"</span>;\n",
       "</pre>\n"
      ],
      "text/plain": [
       "Gold SQL: SELECT river_name FROM river WHERE traverse  =  \u001b[32m\"illinois\"\u001b[0m;\n"
      ]
     },
     "metadata": {},
     "output_type": "display_data"
    },
    {
     "data": {
      "text/html": [
       "<pre style=\"white-space:pre;overflow-x:auto;line-height:normal;font-family:Menlo,'DejaVu Sans Mono',consolas,'Courier New',monospace\"><span style=\"font-weight: bold\">[</span><span style=\"color: #008080; text-decoration-color: #008080; font-weight: bold\">59</span><span style=\"font-weight: bold\">]</span> \n",
       "</pre>\n"
      ],
      "text/plain": [
       "\u001b[1m[\u001b[0m\u001b[1;36m59\u001b[0m\u001b[1m]\u001b[0m \n"
      ]
     },
     "metadata": {},
     "output_type": "display_data"
    },
    {
     "data": {
      "text/html": [
       "<pre style=\"white-space:pre;overflow-x:auto;line-height:normal;font-family:Menlo,'DejaVu Sans Mono',consolas,'Courier New',monospace\">Question: what river flows through illinois\n",
       "</pre>\n"
      ],
      "text/plain": [
       "Question: what river flows through illinois\n"
      ]
     },
     "metadata": {},
     "output_type": "display_data"
    },
    {
     "data": {
      "text/html": [
       "<pre style=\"white-space:pre;overflow-x:auto;line-height:normal;font-family:Menlo,'DejaVu Sans Mono',consolas,'Courier New',monospace\">Gold SQL: SELECT river_name FROM river WHERE traverse  =  <span style=\"color: #008000; text-decoration-color: #008000\">\"illinois\"</span>;\n",
       "</pre>\n"
      ],
      "text/plain": [
       "Gold SQL: SELECT river_name FROM river WHERE traverse  =  \u001b[32m\"illinois\"\u001b[0m;\n"
      ]
     },
     "metadata": {},
     "output_type": "display_data"
    },
    {
     "data": {
      "text/html": [
       "<pre style=\"white-space:pre;overflow-x:auto;line-height:normal;font-family:Menlo,'DejaVu Sans Mono',consolas,'Courier New',monospace\"><span style=\"font-weight: bold\">[</span><span style=\"color: #008080; text-decoration-color: #008080; font-weight: bold\">60</span><span style=\"font-weight: bold\">]</span> \n",
       "</pre>\n"
      ],
      "text/plain": [
       "\u001b[1m[\u001b[0m\u001b[1;36m60\u001b[0m\u001b[1m]\u001b[0m \n"
      ]
     },
     "metadata": {},
     "output_type": "display_data"
    },
    {
     "data": {
      "text/html": [
       "<pre style=\"white-space:pre;overflow-x:auto;line-height:normal;font-family:Menlo,'DejaVu Sans Mono',consolas,'Courier New',monospace\">Question: what are the rivers in the state of illinois\n",
       "</pre>\n"
      ],
      "text/plain": [
       "Question: what are the rivers in the state of illinois\n"
      ]
     },
     "metadata": {},
     "output_type": "display_data"
    },
    {
     "data": {
      "text/html": [
       "<pre style=\"white-space:pre;overflow-x:auto;line-height:normal;font-family:Menlo,'DejaVu Sans Mono',consolas,'Courier New',monospace\">Gold SQL: SELECT river_name FROM river WHERE traverse  =  <span style=\"color: #008000; text-decoration-color: #008000\">\"illinois\"</span>;\n",
       "</pre>\n"
      ],
      "text/plain": [
       "Gold SQL: SELECT river_name FROM river WHERE traverse  =  \u001b[32m\"illinois\"\u001b[0m;\n"
      ]
     },
     "metadata": {},
     "output_type": "display_data"
    },
    {
     "data": {
      "text/html": [
       "<pre style=\"white-space:pre;overflow-x:auto;line-height:normal;font-family:Menlo,'DejaVu Sans Mono',consolas,'Courier New',monospace\"><span style=\"font-weight: bold\">[</span><span style=\"color: #008080; text-decoration-color: #008080; font-weight: bold\">61</span><span style=\"font-weight: bold\">]</span> \n",
       "</pre>\n"
      ],
      "text/plain": [
       "\u001b[1m[\u001b[0m\u001b[1;36m61\u001b[0m\u001b[1m]\u001b[0m \n"
      ]
     },
     "metadata": {},
     "output_type": "display_data"
    },
    {
     "data": {
      "text/html": [
       "<pre style=\"white-space:pre;overflow-x:auto;line-height:normal;font-family:Menlo,'DejaVu Sans Mono',consolas,'Courier New',monospace\">Question: name the rivers in illinois\n",
       "</pre>\n"
      ],
      "text/plain": [
       "Question: name the rivers in illinois\n"
      ]
     },
     "metadata": {},
     "output_type": "display_data"
    },
    {
     "data": {
      "text/html": [
       "<pre style=\"white-space:pre;overflow-x:auto;line-height:normal;font-family:Menlo,'DejaVu Sans Mono',consolas,'Courier New',monospace\">Gold SQL: SELECT river_name FROM river WHERE traverse  =  <span style=\"color: #008000; text-decoration-color: #008000\">\"illinois\"</span>;\n",
       "</pre>\n"
      ],
      "text/plain": [
       "Gold SQL: SELECT river_name FROM river WHERE traverse  =  \u001b[32m\"illinois\"\u001b[0m;\n"
      ]
     },
     "metadata": {},
     "output_type": "display_data"
    },
    {
     "data": {
      "text/html": [
       "<pre style=\"white-space:pre;overflow-x:auto;line-height:normal;font-family:Menlo,'DejaVu Sans Mono',consolas,'Courier New',monospace\"><span style=\"font-weight: bold\">[</span><span style=\"color: #008080; text-decoration-color: #008080; font-weight: bold\">62</span><span style=\"font-weight: bold\">]</span> \n",
       "</pre>\n"
      ],
      "text/plain": [
       "\u001b[1m[\u001b[0m\u001b[1;36m62\u001b[0m\u001b[1m]\u001b[0m \n"
      ]
     },
     "metadata": {},
     "output_type": "display_data"
    },
    {
     "data": {
      "text/html": [
       "<pre style=\"white-space:pre;overflow-x:auto;line-height:normal;font-family:Menlo,'DejaVu Sans Mono',consolas,'Courier New',monospace\">Question: what are the rivers of illinois\n",
       "</pre>\n"
      ],
      "text/plain": [
       "Question: what are the rivers of illinois\n"
      ]
     },
     "metadata": {},
     "output_type": "display_data"
    },
    {
     "data": {
      "text/html": [
       "<pre style=\"white-space:pre;overflow-x:auto;line-height:normal;font-family:Menlo,'DejaVu Sans Mono',consolas,'Courier New',monospace\">Gold SQL: SELECT river_name FROM river WHERE traverse  =  <span style=\"color: #008000; text-decoration-color: #008000\">\"illinois\"</span>;\n",
       "</pre>\n"
      ],
      "text/plain": [
       "Gold SQL: SELECT river_name FROM river WHERE traverse  =  \u001b[32m\"illinois\"\u001b[0m;\n"
      ]
     },
     "metadata": {},
     "output_type": "display_data"
    },
    {
     "data": {
      "text/html": [
       "<pre style=\"white-space:pre;overflow-x:auto;line-height:normal;font-family:Menlo,'DejaVu Sans Mono',consolas,'Courier New',monospace\"><span style=\"font-weight: bold\">[</span><span style=\"color: #008080; text-decoration-color: #008080; font-weight: bold\">63</span><span style=\"font-weight: bold\">]</span> \n",
       "</pre>\n"
      ],
      "text/plain": [
       "\u001b[1m[\u001b[0m\u001b[1;36m63\u001b[0m\u001b[1m]\u001b[0m \n"
      ]
     },
     "metadata": {},
     "output_type": "display_data"
    },
    {
     "data": {
      "text/html": [
       "<pre style=\"white-space:pre;overflow-x:auto;line-height:normal;font-family:Menlo,'DejaVu Sans Mono',consolas,'Courier New',monospace\">Question: which rivers are in illinois\n",
       "</pre>\n"
      ],
      "text/plain": [
       "Question: which rivers are in illinois\n"
      ]
     },
     "metadata": {},
     "output_type": "display_data"
    },
    {
     "data": {
      "text/html": [
       "<pre style=\"white-space:pre;overflow-x:auto;line-height:normal;font-family:Menlo,'DejaVu Sans Mono',consolas,'Courier New',monospace\">Gold SQL: SELECT river_name FROM river WHERE traverse  =  <span style=\"color: #008000; text-decoration-color: #008000\">\"illinois\"</span>;\n",
       "</pre>\n"
      ],
      "text/plain": [
       "Gold SQL: SELECT river_name FROM river WHERE traverse  =  \u001b[32m\"illinois\"\u001b[0m;\n"
      ]
     },
     "metadata": {},
     "output_type": "display_data"
    },
    {
     "data": {
      "text/html": [
       "<pre style=\"white-space:pre;overflow-x:auto;line-height:normal;font-family:Menlo,'DejaVu Sans Mono',consolas,'Courier New',monospace\"><span style=\"font-weight: bold\">[</span><span style=\"color: #008080; text-decoration-color: #008080; font-weight: bold\">64</span><span style=\"font-weight: bold\">]</span> \n",
       "</pre>\n"
      ],
      "text/plain": [
       "\u001b[1m[\u001b[0m\u001b[1;36m64\u001b[0m\u001b[1m]\u001b[0m \n"
      ]
     },
     "metadata": {},
     "output_type": "display_data"
    },
    {
     "data": {
      "text/html": [
       "<pre style=\"white-space:pre;overflow-x:auto;line-height:normal;font-family:Menlo,'DejaVu Sans Mono',consolas,'Courier New',monospace\">Question: which rivers flow through illinois\n",
       "</pre>\n"
      ],
      "text/plain": [
       "Question: which rivers flow through illinois\n"
      ]
     },
     "metadata": {},
     "output_type": "display_data"
    },
    {
     "data": {
      "text/html": [
       "<pre style=\"white-space:pre;overflow-x:auto;line-height:normal;font-family:Menlo,'DejaVu Sans Mono',consolas,'Courier New',monospace\">Gold SQL: SELECT river_name FROM river WHERE traverse  =  <span style=\"color: #008000; text-decoration-color: #008000\">\"illinois\"</span>;\n",
       "</pre>\n"
      ],
      "text/plain": [
       "Gold SQL: SELECT river_name FROM river WHERE traverse  =  \u001b[32m\"illinois\"\u001b[0m;\n"
      ]
     },
     "metadata": {},
     "output_type": "display_data"
    },
    {
     "data": {
      "text/html": [
       "<pre style=\"white-space:pre;overflow-x:auto;line-height:normal;font-family:Menlo,'DejaVu Sans Mono',consolas,'Courier New',monospace\"><span style=\"font-weight: bold\">[</span><span style=\"color: #008080; text-decoration-color: #008080; font-weight: bold\">65</span><span style=\"font-weight: bold\">]</span> \n",
       "</pre>\n"
      ],
      "text/plain": [
       "\u001b[1m[\u001b[0m\u001b[1;36m65\u001b[0m\u001b[1m]\u001b[0m \n"
      ]
     },
     "metadata": {},
     "output_type": "display_data"
    },
    {
     "data": {
      "text/html": [
       "<pre style=\"white-space:pre;overflow-x:auto;line-height:normal;font-family:Menlo,'DejaVu Sans Mono',consolas,'Courier New',monospace\">Question: what is the river that cross over illinois\n",
       "</pre>\n"
      ],
      "text/plain": [
       "Question: what is the river that cross over illinois\n"
      ]
     },
     "metadata": {},
     "output_type": "display_data"
    },
    {
     "data": {
      "text/html": [
       "<pre style=\"white-space:pre;overflow-x:auto;line-height:normal;font-family:Menlo,'DejaVu Sans Mono',consolas,'Courier New',monospace\">Gold SQL: SELECT river_name FROM river WHERE traverse  =  <span style=\"color: #008000; text-decoration-color: #008000\">\"illinois\"</span>;\n",
       "</pre>\n"
      ],
      "text/plain": [
       "Gold SQL: SELECT river_name FROM river WHERE traverse  =  \u001b[32m\"illinois\"\u001b[0m;\n"
      ]
     },
     "metadata": {},
     "output_type": "display_data"
    },
    {
     "data": {
      "text/html": [
       "<pre style=\"white-space:pre;overflow-x:auto;line-height:normal;font-family:Menlo,'DejaVu Sans Mono',consolas,'Courier New',monospace\"><span style=\"font-weight: bold\">[</span><span style=\"color: #008080; text-decoration-color: #008080; font-weight: bold\">66</span><span style=\"font-weight: bold\">]</span> \n",
       "</pre>\n"
      ],
      "text/plain": [
       "\u001b[1m[\u001b[0m\u001b[1;36m66\u001b[0m\u001b[1m]\u001b[0m \n"
      ]
     },
     "metadata": {},
     "output_type": "display_data"
    },
    {
     "data": {
      "text/html": [
       "<pre style=\"white-space:pre;overflow-x:auto;line-height:normal;font-family:Menlo,'DejaVu Sans Mono',consolas,'Courier New',monospace\">Question: what river runs through illinois\n",
       "</pre>\n"
      ],
      "text/plain": [
       "Question: what river runs through illinois\n"
      ]
     },
     "metadata": {},
     "output_type": "display_data"
    },
    {
     "data": {
      "text/html": [
       "<pre style=\"white-space:pre;overflow-x:auto;line-height:normal;font-family:Menlo,'DejaVu Sans Mono',consolas,'Courier New',monospace\">Gold SQL: SELECT river_name FROM river WHERE traverse  =  <span style=\"color: #008000; text-decoration-color: #008000\">\"illinois\"</span>;\n",
       "</pre>\n"
      ],
      "text/plain": [
       "Gold SQL: SELECT river_name FROM river WHERE traverse  =  \u001b[32m\"illinois\"\u001b[0m;\n"
      ]
     },
     "metadata": {},
     "output_type": "display_data"
    },
    {
     "data": {
      "text/html": [
       "<pre style=\"white-space:pre;overflow-x:auto;line-height:normal;font-family:Menlo,'DejaVu Sans Mono',consolas,'Courier New',monospace\"><span style=\"font-weight: bold\">[</span><span style=\"color: #008080; text-decoration-color: #008080; font-weight: bold\">67</span><span style=\"font-weight: bold\">]</span> \n",
       "</pre>\n"
      ],
      "text/plain": [
       "\u001b[1m[\u001b[0m\u001b[1;36m67\u001b[0m\u001b[1m]\u001b[0m \n"
      ]
     },
     "metadata": {},
     "output_type": "display_data"
    },
    {
     "data": {
      "text/html": [
       "<pre style=\"white-space:pre;overflow-x:auto;line-height:normal;font-family:Menlo,'DejaVu Sans Mono',consolas,'Courier New',monospace\">Question: what state is springfield in\n",
       "</pre>\n"
      ],
      "text/plain": [
       "Question: what state is springfield in\n"
      ]
     },
     "metadata": {},
     "output_type": "display_data"
    },
    {
     "data": {
      "text/html": [
       "<pre style=\"white-space:pre;overflow-x:auto;line-height:normal;font-family:Menlo,'DejaVu Sans Mono',consolas,'Courier New',monospace\">Gold SQL: SELECT state_name FROM city WHERE city_name  =  <span style=\"color: #008000; text-decoration-color: #008000\">\"springfield\"</span>;\n",
       "</pre>\n"
      ],
      "text/plain": [
       "Gold SQL: SELECT state_name FROM city WHERE city_name  =  \u001b[32m\"springfield\"\u001b[0m;\n"
      ]
     },
     "metadata": {},
     "output_type": "display_data"
    },
    {
     "data": {
      "text/html": [
       "<pre style=\"white-space:pre;overflow-x:auto;line-height:normal;font-family:Menlo,'DejaVu Sans Mono',consolas,'Courier New',monospace\"><span style=\"font-weight: bold\">[</span><span style=\"color: #008080; text-decoration-color: #008080; font-weight: bold\">68</span><span style=\"font-weight: bold\">]</span> \n",
       "</pre>\n"
      ],
      "text/plain": [
       "\u001b[1m[\u001b[0m\u001b[1;36m68\u001b[0m\u001b[1m]\u001b[0m \n"
      ]
     },
     "metadata": {},
     "output_type": "display_data"
    },
    {
     "data": {
      "text/html": [
       "<pre style=\"white-space:pre;overflow-x:auto;line-height:normal;font-family:Menlo,'DejaVu Sans Mono',consolas,'Courier New',monospace\">Question: where is springfield\n",
       "</pre>\n"
      ],
      "text/plain": [
       "Question: where is springfield\n"
      ]
     },
     "metadata": {},
     "output_type": "display_data"
    },
    {
     "data": {
      "text/html": [
       "<pre style=\"white-space:pre;overflow-x:auto;line-height:normal;font-family:Menlo,'DejaVu Sans Mono',consolas,'Courier New',monospace\">Gold SQL: SELECT state_name FROM city WHERE city_name  =  <span style=\"color: #008000; text-decoration-color: #008000\">\"springfield\"</span>;\n",
       "</pre>\n"
      ],
      "text/plain": [
       "Gold SQL: SELECT state_name FROM city WHERE city_name  =  \u001b[32m\"springfield\"\u001b[0m;\n"
      ]
     },
     "metadata": {},
     "output_type": "display_data"
    },
    {
     "data": {
      "text/html": [
       "<pre style=\"white-space:pre;overflow-x:auto;line-height:normal;font-family:Menlo,'DejaVu Sans Mono',consolas,'Courier New',monospace\"><span style=\"font-weight: bold\">[</span><span style=\"color: #008080; text-decoration-color: #008080; font-weight: bold\">69</span><span style=\"font-weight: bold\">]</span> \n",
       "</pre>\n"
      ],
      "text/plain": [
       "\u001b[1m[\u001b[0m\u001b[1;36m69\u001b[0m\u001b[1m]\u001b[0m \n"
      ]
     },
     "metadata": {},
     "output_type": "display_data"
    },
    {
     "data": {
      "text/html": [
       "<pre style=\"white-space:pre;overflow-x:auto;line-height:normal;font-family:Menlo,'DejaVu Sans Mono',consolas,'Courier New',monospace\">Question: springfield is in what state\n",
       "</pre>\n"
      ],
      "text/plain": [
       "Question: springfield is in what state\n"
      ]
     },
     "metadata": {},
     "output_type": "display_data"
    },
    {
     "data": {
      "text/html": [
       "<pre style=\"white-space:pre;overflow-x:auto;line-height:normal;font-family:Menlo,'DejaVu Sans Mono',consolas,'Courier New',monospace\">Gold SQL: SELECT state_name FROM city WHERE city_name  =  <span style=\"color: #008000; text-decoration-color: #008000\">\"springfield\"</span>;\n",
       "</pre>\n"
      ],
      "text/plain": [
       "Gold SQL: SELECT state_name FROM city WHERE city_name  =  \u001b[32m\"springfield\"\u001b[0m;\n"
      ]
     },
     "metadata": {},
     "output_type": "display_data"
    },
    {
     "data": {
      "text/html": [
       "<pre style=\"white-space:pre;overflow-x:auto;line-height:normal;font-family:Menlo,'DejaVu Sans Mono',consolas,'Courier New',monospace\"><span style=\"font-weight: bold\">[</span><span style=\"color: #008080; text-decoration-color: #008080; font-weight: bold\">70</span><span style=\"font-weight: bold\">]</span> \n",
       "</pre>\n"
      ],
      "text/plain": [
       "\u001b[1m[\u001b[0m\u001b[1;36m70\u001b[0m\u001b[1m]\u001b[0m \n"
      ]
     },
     "metadata": {},
     "output_type": "display_data"
    },
    {
     "data": {
      "text/html": [
       "<pre style=\"white-space:pre;overflow-x:auto;line-height:normal;font-family:Menlo,'DejaVu Sans Mono',consolas,'Courier New',monospace\">Question: what states have cities named springfield\n",
       "</pre>\n"
      ],
      "text/plain": [
       "Question: what states have cities named springfield\n"
      ]
     },
     "metadata": {},
     "output_type": "display_data"
    },
    {
     "data": {
      "text/html": [
       "<pre style=\"white-space:pre;overflow-x:auto;line-height:normal;font-family:Menlo,'DejaVu Sans Mono',consolas,'Courier New',monospace\">Gold SQL: SELECT state_name FROM city WHERE city_name  =  <span style=\"color: #008000; text-decoration-color: #008000\">\"springfield\"</span>;\n",
       "</pre>\n"
      ],
      "text/plain": [
       "Gold SQL: SELECT state_name FROM city WHERE city_name  =  \u001b[32m\"springfield\"\u001b[0m;\n"
      ]
     },
     "metadata": {},
     "output_type": "display_data"
    },
    {
     "data": {
      "text/html": [
       "<pre style=\"white-space:pre;overflow-x:auto;line-height:normal;font-family:Menlo,'DejaVu Sans Mono',consolas,'Courier New',monospace\"><span style=\"font-weight: bold\">[</span><span style=\"color: #008080; text-decoration-color: #008080; font-weight: bold\">71</span><span style=\"font-weight: bold\">]</span> \n",
       "</pre>\n"
      ],
      "text/plain": [
       "\u001b[1m[\u001b[0m\u001b[1;36m71\u001b[0m\u001b[1m]\u001b[0m \n"
      ]
     },
     "metadata": {},
     "output_type": "display_data"
    },
    {
     "data": {
      "text/html": [
       "<pre style=\"white-space:pre;overflow-x:auto;line-height:normal;font-family:Menlo,'DejaVu Sans Mono',consolas,'Courier New',monospace\">Question: which states have cities named springfield\n",
       "</pre>\n"
      ],
      "text/plain": [
       "Question: which states have cities named springfield\n"
      ]
     },
     "metadata": {},
     "output_type": "display_data"
    },
    {
     "data": {
      "text/html": [
       "<pre style=\"white-space:pre;overflow-x:auto;line-height:normal;font-family:Menlo,'DejaVu Sans Mono',consolas,'Courier New',monospace\">Gold SQL: SELECT state_name FROM city WHERE city_name  =  <span style=\"color: #008000; text-decoration-color: #008000\">\"springfield\"</span>;\n",
       "</pre>\n"
      ],
      "text/plain": [
       "Gold SQL: SELECT state_name FROM city WHERE city_name  =  \u001b[32m\"springfield\"\u001b[0m;\n"
      ]
     },
     "metadata": {},
     "output_type": "display_data"
    },
    {
     "data": {
      "text/html": [
       "<pre style=\"white-space:pre;overflow-x:auto;line-height:normal;font-family:Menlo,'DejaVu Sans Mono',consolas,'Courier New',monospace\"><span style=\"font-weight: bold\">[</span><span style=\"color: #008080; text-decoration-color: #008080; font-weight: bold\">72</span><span style=\"font-weight: bold\">]</span> \n",
       "</pre>\n"
      ],
      "text/plain": [
       "\u001b[1m[\u001b[0m\u001b[1;36m72\u001b[0m\u001b[1m]\u001b[0m \n"
      ]
     },
     "metadata": {},
     "output_type": "display_data"
    },
    {
     "data": {
      "text/html": [
       "<pre style=\"white-space:pre;overflow-x:auto;line-height:normal;font-family:Menlo,'DejaVu Sans Mono',consolas,'Courier New',monospace\">Question: which state is springfield in\n",
       "</pre>\n"
      ],
      "text/plain": [
       "Question: which state is springfield in\n"
      ]
     },
     "metadata": {},
     "output_type": "display_data"
    },
    {
     "data": {
      "text/html": [
       "<pre style=\"white-space:pre;overflow-x:auto;line-height:normal;font-family:Menlo,'DejaVu Sans Mono',consolas,'Courier New',monospace\">Gold SQL: SELECT state_name FROM city WHERE city_name  =  <span style=\"color: #008000; text-decoration-color: #008000\">\"springfield\"</span>;\n",
       "</pre>\n"
      ],
      "text/plain": [
       "Gold SQL: SELECT state_name FROM city WHERE city_name  =  \u001b[32m\"springfield\"\u001b[0m;\n"
      ]
     },
     "metadata": {},
     "output_type": "display_data"
    },
    {
     "data": {
      "text/html": [
       "<pre style=\"white-space:pre;overflow-x:auto;line-height:normal;font-family:Menlo,'DejaVu Sans Mono',consolas,'Courier New',monospace\"><span style=\"font-weight: bold\">[</span><span style=\"color: #008080; text-decoration-color: #008080; font-weight: bold\">73</span><span style=\"font-weight: bold\">]</span> \n",
       "</pre>\n"
      ],
      "text/plain": [
       "\u001b[1m[\u001b[0m\u001b[1;36m73\u001b[0m\u001b[1m]\u001b[0m \n"
      ]
     },
     "metadata": {},
     "output_type": "display_data"
    },
    {
     "data": {
      "text/html": [
       "<pre style=\"white-space:pre;overflow-x:auto;line-height:normal;font-family:Menlo,'DejaVu Sans Mono',consolas,'Courier New',monospace\">Question: what states have a city named springfield\n",
       "</pre>\n"
      ],
      "text/plain": [
       "Question: what states have a city named springfield\n"
      ]
     },
     "metadata": {},
     "output_type": "display_data"
    },
    {
     "data": {
      "text/html": [
       "<pre style=\"white-space:pre;overflow-x:auto;line-height:normal;font-family:Menlo,'DejaVu Sans Mono',consolas,'Courier New',monospace\">Gold SQL: SELECT state_name FROM city WHERE city_name  =  <span style=\"color: #008000; text-decoration-color: #008000\">\"springfield\"</span>;\n",
       "</pre>\n"
      ],
      "text/plain": [
       "Gold SQL: SELECT state_name FROM city WHERE city_name  =  \u001b[32m\"springfield\"\u001b[0m;\n"
      ]
     },
     "metadata": {},
     "output_type": "display_data"
    },
    {
     "data": {
      "text/html": [
       "<pre style=\"white-space:pre;overflow-x:auto;line-height:normal;font-family:Menlo,'DejaVu Sans Mono',consolas,'Courier New',monospace\"><span style=\"font-weight: bold\">[</span><span style=\"color: #008080; text-decoration-color: #008080; font-weight: bold\">74</span><span style=\"font-weight: bold\">]</span> \n",
       "</pre>\n"
      ],
      "text/plain": [
       "\u001b[1m[\u001b[0m\u001b[1;36m74\u001b[0m\u001b[1m]\u001b[0m \n"
      ]
     },
     "metadata": {},
     "output_type": "display_data"
    },
    {
     "data": {
      "text/html": [
       "<pre style=\"white-space:pre;overflow-x:auto;line-height:normal;font-family:Menlo,'DejaVu Sans Mono',consolas,'Courier New',monospace\">Question: what state has the city springfield\n",
       "</pre>\n"
      ],
      "text/plain": [
       "Question: what state has the city springfield\n"
      ]
     },
     "metadata": {},
     "output_type": "display_data"
    },
    {
     "data": {
      "text/html": [
       "<pre style=\"white-space:pre;overflow-x:auto;line-height:normal;font-family:Menlo,'DejaVu Sans Mono',consolas,'Courier New',monospace\">Gold SQL: SELECT state_name FROM city WHERE city_name  =  <span style=\"color: #008000; text-decoration-color: #008000\">\"springfield\"</span>;\n",
       "</pre>\n"
      ],
      "text/plain": [
       "Gold SQL: SELECT state_name FROM city WHERE city_name  =  \u001b[32m\"springfield\"\u001b[0m;\n"
      ]
     },
     "metadata": {},
     "output_type": "display_data"
    },
    {
     "data": {
      "text/html": [
       "<pre style=\"white-space:pre;overflow-x:auto;line-height:normal;font-family:Menlo,'DejaVu Sans Mono',consolas,'Courier New',monospace\"><span style=\"font-weight: bold\">[</span><span style=\"color: #008080; text-decoration-color: #008080; font-weight: bold\">75</span><span style=\"font-weight: bold\">]</span> \n",
       "</pre>\n"
      ],
      "text/plain": [
       "\u001b[1m[\u001b[0m\u001b[1;36m75\u001b[0m\u001b[1m]\u001b[0m \n"
      ]
     },
     "metadata": {},
     "output_type": "display_data"
    },
    {
     "data": {
      "text/html": [
       "<pre style=\"white-space:pre;overflow-x:auto;line-height:normal;font-family:Menlo,'DejaVu Sans Mono',consolas,'Courier New',monospace\">Question: what states have towns named springfield\n",
       "</pre>\n"
      ],
      "text/plain": [
       "Question: what states have towns named springfield\n"
      ]
     },
     "metadata": {},
     "output_type": "display_data"
    },
    {
     "data": {
      "text/html": [
       "<pre style=\"white-space:pre;overflow-x:auto;line-height:normal;font-family:Menlo,'DejaVu Sans Mono',consolas,'Courier New',monospace\">Gold SQL: SELECT state_name FROM city WHERE city_name  =  <span style=\"color: #008000; text-decoration-color: #008000\">\"springfield\"</span>;\n",
       "</pre>\n"
      ],
      "text/plain": [
       "Gold SQL: SELECT state_name FROM city WHERE city_name  =  \u001b[32m\"springfield\"\u001b[0m;\n"
      ]
     },
     "metadata": {},
     "output_type": "display_data"
    },
    {
     "data": {
      "text/html": [
       "<pre style=\"white-space:pre;overflow-x:auto;line-height:normal;font-family:Menlo,'DejaVu Sans Mono',consolas,'Courier New',monospace\"><span style=\"font-weight: bold\">[</span><span style=\"color: #008080; text-decoration-color: #008080; font-weight: bold\">76</span><span style=\"font-weight: bold\">]</span> \n",
       "</pre>\n"
      ],
      "text/plain": [
       "\u001b[1m[\u001b[0m\u001b[1;36m76\u001b[0m\u001b[1m]\u001b[0m \n"
      ]
     },
     "metadata": {},
     "output_type": "display_data"
    },
    {
     "data": {
      "text/html": [
       "<pre style=\"white-space:pre;overflow-x:auto;line-height:normal;font-family:Menlo,'DejaVu Sans Mono',consolas,'Courier New',monospace\">Question: what state is springfield located in\n",
       "</pre>\n"
      ],
      "text/plain": [
       "Question: what state is springfield located in\n"
      ]
     },
     "metadata": {},
     "output_type": "display_data"
    },
    {
     "data": {
      "text/html": [
       "<pre style=\"white-space:pre;overflow-x:auto;line-height:normal;font-family:Menlo,'DejaVu Sans Mono',consolas,'Courier New',monospace\">Gold SQL: SELECT state_name FROM city WHERE city_name  =  <span style=\"color: #008000; text-decoration-color: #008000\">\"springfield\"</span>;\n",
       "</pre>\n"
      ],
      "text/plain": [
       "Gold SQL: SELECT state_name FROM city WHERE city_name  =  \u001b[32m\"springfield\"\u001b[0m;\n"
      ]
     },
     "metadata": {},
     "output_type": "display_data"
    },
    {
     "data": {
      "text/html": [
       "<pre style=\"white-space:pre;overflow-x:auto;line-height:normal;font-family:Menlo,'DejaVu Sans Mono',consolas,'Courier New',monospace\"><span style=\"font-weight: bold\">[</span><span style=\"color: #008080; text-decoration-color: #008080; font-weight: bold\">77</span><span style=\"font-weight: bold\">]</span> \n",
       "</pre>\n"
      ],
      "text/plain": [
       "\u001b[1m[\u001b[0m\u001b[1;36m77\u001b[0m\u001b[1m]\u001b[0m \n"
      ]
     },
     "metadata": {},
     "output_type": "display_data"
    },
    {
     "data": {
      "text/html": [
       "<pre style=\"white-space:pre;overflow-x:auto;line-height:normal;font-family:Menlo,'DejaVu Sans Mono',consolas,'Courier New',monospace\">Question: in which state is springfield\n",
       "</pre>\n"
      ],
      "text/plain": [
       "Question: in which state is springfield\n"
      ]
     },
     "metadata": {},
     "output_type": "display_data"
    },
    {
     "data": {
      "text/html": [
       "<pre style=\"white-space:pre;overflow-x:auto;line-height:normal;font-family:Menlo,'DejaVu Sans Mono',consolas,'Courier New',monospace\">Gold SQL: SELECT state_name FROM city WHERE city_name  =  <span style=\"color: #008000; text-decoration-color: #008000\">\"springfield\"</span>;\n",
       "</pre>\n"
      ],
      "text/plain": [
       "Gold SQL: SELECT state_name FROM city WHERE city_name  =  \u001b[32m\"springfield\"\u001b[0m;\n"
      ]
     },
     "metadata": {},
     "output_type": "display_data"
    },
    {
     "data": {
      "text/html": [
       "<pre style=\"white-space:pre;overflow-x:auto;line-height:normal;font-family:Menlo,'DejaVu Sans Mono',consolas,'Courier New',monospace\"><span style=\"font-weight: bold\">[</span><span style=\"color: #008080; text-decoration-color: #008080; font-weight: bold\">78</span><span style=\"font-weight: bold\">]</span> \n",
       "</pre>\n"
      ],
      "text/plain": [
       "\u001b[1m[\u001b[0m\u001b[1;36m78\u001b[0m\u001b[1m]\u001b[0m \n"
      ]
     },
     "metadata": {},
     "output_type": "display_data"
    },
    {
     "data": {
      "text/html": [
       "<pre style=\"white-space:pre;overflow-x:auto;line-height:normal;font-family:Menlo,'DejaVu Sans Mono',consolas,'Courier New',monospace\">Question: which state is the city springfield located in\n",
       "</pre>\n"
      ],
      "text/plain": [
       "Question: which state is the city springfield located in\n"
      ]
     },
     "metadata": {},
     "output_type": "display_data"
    },
    {
     "data": {
      "text/html": [
       "<pre style=\"white-space:pre;overflow-x:auto;line-height:normal;font-family:Menlo,'DejaVu Sans Mono',consolas,'Courier New',monospace\">Gold SQL: SELECT state_name FROM city WHERE city_name  =  <span style=\"color: #008000; text-decoration-color: #008000\">\"springfield\"</span>;\n",
       "</pre>\n"
      ],
      "text/plain": [
       "Gold SQL: SELECT state_name FROM city WHERE city_name  =  \u001b[32m\"springfield\"\u001b[0m;\n"
      ]
     },
     "metadata": {},
     "output_type": "display_data"
    },
    {
     "data": {
      "text/html": [
       "<pre style=\"white-space:pre;overflow-x:auto;line-height:normal;font-family:Menlo,'DejaVu Sans Mono',consolas,'Courier New',monospace\"><span style=\"font-weight: bold\">[</span><span style=\"color: #008080; text-decoration-color: #008080; font-weight: bold\">79</span><span style=\"font-weight: bold\">]</span> \n",
       "</pre>\n"
      ],
      "text/plain": [
       "\u001b[1m[\u001b[0m\u001b[1;36m79\u001b[0m\u001b[1m]\u001b[0m \n"
      ]
     },
     "metadata": {},
     "output_type": "display_data"
    },
    {
     "data": {
      "text/html": [
       "<pre style=\"white-space:pre;overflow-x:auto;line-height:normal;font-family:Menlo,'DejaVu Sans Mono',consolas,'Courier New',monospace\">Question: what states in the united states have a city of springfield\n",
       "</pre>\n"
      ],
      "text/plain": [
       "Question: what states in the united states have a city of springfield\n"
      ]
     },
     "metadata": {},
     "output_type": "display_data"
    },
    {
     "data": {
      "text/html": [
       "<pre style=\"white-space:pre;overflow-x:auto;line-height:normal;font-family:Menlo,'DejaVu Sans Mono',consolas,'Courier New',monospace\">Gold SQL: SELECT state_name FROM city WHERE city_name  =  <span style=\"color: #008000; text-decoration-color: #008000\">\"springfield\"</span>;\n",
       "</pre>\n"
      ],
      "text/plain": [
       "Gold SQL: SELECT state_name FROM city WHERE city_name  =  \u001b[32m\"springfield\"\u001b[0m;\n"
      ]
     },
     "metadata": {},
     "output_type": "display_data"
    },
    {
     "data": {
      "text/html": [
       "<pre style=\"white-space:pre;overflow-x:auto;line-height:normal;font-family:Menlo,'DejaVu Sans Mono',consolas,'Courier New',monospace\"><span style=\"font-weight: bold\">[</span><span style=\"color: #008080; text-decoration-color: #008080; font-weight: bold\">80</span><span style=\"font-weight: bold\">]</span> \n",
       "</pre>\n"
      ],
      "text/plain": [
       "\u001b[1m[\u001b[0m\u001b[1;36m80\u001b[0m\u001b[1m]\u001b[0m \n"
      ]
     },
     "metadata": {},
     "output_type": "display_data"
    },
    {
     "data": {
      "text/html": [
       "<pre style=\"white-space:pre;overflow-x:auto;line-height:normal;font-family:Menlo,'DejaVu Sans Mono',consolas,'Courier New',monospace\">Question: what is the population of the state with the largest area\n",
       "</pre>\n"
      ],
      "text/plain": [
       "Question: what is the population of the state with the largest area\n"
      ]
     },
     "metadata": {},
     "output_type": "display_data"
    },
    {
     "data": {
      "text/html": [
       "<pre style=\"white-space:pre;overflow-x:auto;line-height:normal;font-family:Menlo,'DejaVu Sans Mono',consolas,'Courier New',monospace\">Gold SQL: SELECT population FROM state WHERE area  =  <span style=\"font-weight: bold\">(</span> SELECT MAX <span style=\"font-weight: bold\">(</span> area <span style=\"font-weight: bold\">)</span> FROM state <span style=\"font-weight: bold\">)</span>;\n",
       "</pre>\n"
      ],
      "text/plain": [
       "Gold SQL: SELECT population FROM state WHERE area  =  \u001b[1m(\u001b[0m SELECT MAX \u001b[1m(\u001b[0m area \u001b[1m)\u001b[0m FROM state \u001b[1m)\u001b[0m;\n"
      ]
     },
     "metadata": {},
     "output_type": "display_data"
    },
    {
     "data": {
      "text/html": [
       "<pre style=\"white-space:pre;overflow-x:auto;line-height:normal;font-family:Menlo,'DejaVu Sans Mono',consolas,'Courier New',monospace\"><span style=\"font-weight: bold\">[</span><span style=\"color: #008080; text-decoration-color: #008080; font-weight: bold\">81</span><span style=\"font-weight: bold\">]</span> \n",
       "</pre>\n"
      ],
      "text/plain": [
       "\u001b[1m[\u001b[0m\u001b[1;36m81\u001b[0m\u001b[1m]\u001b[0m \n"
      ]
     },
     "metadata": {},
     "output_type": "display_data"
    },
    {
     "data": {
      "text/html": [
       "<pre style=\"white-space:pre;overflow-x:auto;line-height:normal;font-family:Menlo,'DejaVu Sans Mono',consolas,'Courier New',monospace\">Question: what is the population of the largest state\n",
       "</pre>\n"
      ],
      "text/plain": [
       "Question: what is the population of the largest state\n"
      ]
     },
     "metadata": {},
     "output_type": "display_data"
    },
    {
     "data": {
      "text/html": [
       "<pre style=\"white-space:pre;overflow-x:auto;line-height:normal;font-family:Menlo,'DejaVu Sans Mono',consolas,'Courier New',monospace\">Gold SQL: SELECT population FROM state WHERE area  =  <span style=\"font-weight: bold\">(</span> SELECT MAX <span style=\"font-weight: bold\">(</span> area <span style=\"font-weight: bold\">)</span> FROM state <span style=\"font-weight: bold\">)</span>;\n",
       "</pre>\n"
      ],
      "text/plain": [
       "Gold SQL: SELECT population FROM state WHERE area  =  \u001b[1m(\u001b[0m SELECT MAX \u001b[1m(\u001b[0m area \u001b[1m)\u001b[0m FROM state \u001b[1m)\u001b[0m;\n"
      ]
     },
     "metadata": {},
     "output_type": "display_data"
    },
    {
     "data": {
      "text/html": [
       "<pre style=\"white-space:pre;overflow-x:auto;line-height:normal;font-family:Menlo,'DejaVu Sans Mono',consolas,'Courier New',monospace\"><span style=\"font-weight: bold\">[</span><span style=\"color: #008080; text-decoration-color: #008080; font-weight: bold\">82</span><span style=\"font-weight: bold\">]</span> \n",
       "</pre>\n"
      ],
      "text/plain": [
       "\u001b[1m[\u001b[0m\u001b[1;36m82\u001b[0m\u001b[1m]\u001b[0m \n"
      ]
     },
     "metadata": {},
     "output_type": "display_data"
    },
    {
     "data": {
      "text/html": [
       "<pre style=\"white-space:pre;overflow-x:auto;line-height:normal;font-family:Menlo,'DejaVu Sans Mono',consolas,'Courier New',monospace\">Question: how many people live in boulder\n",
       "</pre>\n"
      ],
      "text/plain": [
       "Question: how many people live in boulder\n"
      ]
     },
     "metadata": {},
     "output_type": "display_data"
    },
    {
     "data": {
      "text/html": [
       "<pre style=\"white-space:pre;overflow-x:auto;line-height:normal;font-family:Menlo,'DejaVu Sans Mono',consolas,'Courier New',monospace\">Gold SQL: SELECT population FROM city WHERE city_name  =  <span style=\"color: #008000; text-decoration-color: #008000\">\"boulder\"</span>;\n",
       "</pre>\n"
      ],
      "text/plain": [
       "Gold SQL: SELECT population FROM city WHERE city_name  =  \u001b[32m\"boulder\"\u001b[0m;\n"
      ]
     },
     "metadata": {},
     "output_type": "display_data"
    },
    {
     "data": {
      "text/html": [
       "<pre style=\"white-space:pre;overflow-x:auto;line-height:normal;font-family:Menlo,'DejaVu Sans Mono',consolas,'Courier New',monospace\"><span style=\"font-weight: bold\">[</span><span style=\"color: #008080; text-decoration-color: #008080; font-weight: bold\">83</span><span style=\"font-weight: bold\">]</span> \n",
       "</pre>\n"
      ],
      "text/plain": [
       "\u001b[1m[\u001b[0m\u001b[1;36m83\u001b[0m\u001b[1m]\u001b[0m \n"
      ]
     },
     "metadata": {},
     "output_type": "display_data"
    },
    {
     "data": {
      "text/html": [
       "<pre style=\"white-space:pre;overflow-x:auto;line-height:normal;font-family:Menlo,'DejaVu Sans Mono',consolas,'Courier New',monospace\">Question: what is the population of boulder\n",
       "</pre>\n"
      ],
      "text/plain": [
       "Question: what is the population of boulder\n"
      ]
     },
     "metadata": {},
     "output_type": "display_data"
    },
    {
     "data": {
      "text/html": [
       "<pre style=\"white-space:pre;overflow-x:auto;line-height:normal;font-family:Menlo,'DejaVu Sans Mono',consolas,'Courier New',monospace\">Gold SQL: SELECT population FROM city WHERE city_name  =  <span style=\"color: #008000; text-decoration-color: #008000\">\"boulder\"</span>;\n",
       "</pre>\n"
      ],
      "text/plain": [
       "Gold SQL: SELECT population FROM city WHERE city_name  =  \u001b[32m\"boulder\"\u001b[0m;\n"
      ]
     },
     "metadata": {},
     "output_type": "display_data"
    },
    {
     "data": {
      "text/html": [
       "<pre style=\"white-space:pre;overflow-x:auto;line-height:normal;font-family:Menlo,'DejaVu Sans Mono',consolas,'Courier New',monospace\"><span style=\"font-weight: bold\">[</span><span style=\"color: #008080; text-decoration-color: #008080; font-weight: bold\">84</span><span style=\"font-weight: bold\">]</span> \n",
       "</pre>\n"
      ],
      "text/plain": [
       "\u001b[1m[\u001b[0m\u001b[1;36m84\u001b[0m\u001b[1m]\u001b[0m \n"
      ]
     },
     "metadata": {},
     "output_type": "display_data"
    },
    {
     "data": {
      "text/html": [
       "<pre style=\"white-space:pre;overflow-x:auto;line-height:normal;font-family:Menlo,'DejaVu Sans Mono',consolas,'Courier New',monospace\">Question: how many people lived in boulder\n",
       "</pre>\n"
      ],
      "text/plain": [
       "Question: how many people lived in boulder\n"
      ]
     },
     "metadata": {},
     "output_type": "display_data"
    },
    {
     "data": {
      "text/html": [
       "<pre style=\"white-space:pre;overflow-x:auto;line-height:normal;font-family:Menlo,'DejaVu Sans Mono',consolas,'Courier New',monospace\">Gold SQL: SELECT population FROM city WHERE city_name  =  <span style=\"color: #008000; text-decoration-color: #008000\">\"boulder\"</span>;\n",
       "</pre>\n"
      ],
      "text/plain": [
       "Gold SQL: SELECT population FROM city WHERE city_name  =  \u001b[32m\"boulder\"\u001b[0m;\n"
      ]
     },
     "metadata": {},
     "output_type": "display_data"
    },
    {
     "data": {
      "text/html": [
       "<pre style=\"white-space:pre;overflow-x:auto;line-height:normal;font-family:Menlo,'DejaVu Sans Mono',consolas,'Courier New',monospace\"><span style=\"font-weight: bold\">[</span><span style=\"color: #008080; text-decoration-color: #008080; font-weight: bold\">85</span><span style=\"font-weight: bold\">]</span> \n",
       "</pre>\n"
      ],
      "text/plain": [
       "\u001b[1m[\u001b[0m\u001b[1;36m85\u001b[0m\u001b[1m]\u001b[0m \n"
      ]
     },
     "metadata": {},
     "output_type": "display_data"
    },
    {
     "data": {
      "text/html": [
       "<pre style=\"white-space:pre;overflow-x:auto;line-height:normal;font-family:Menlo,'DejaVu Sans Mono',consolas,'Courier New',monospace\">Question: number of people in boulder\n",
       "</pre>\n"
      ],
      "text/plain": [
       "Question: number of people in boulder\n"
      ]
     },
     "metadata": {},
     "output_type": "display_data"
    },
    {
     "data": {
      "text/html": [
       "<pre style=\"white-space:pre;overflow-x:auto;line-height:normal;font-family:Menlo,'DejaVu Sans Mono',consolas,'Courier New',monospace\">Gold SQL: SELECT population FROM city WHERE city_name  =  <span style=\"color: #008000; text-decoration-color: #008000\">\"boulder\"</span>;\n",
       "</pre>\n"
      ],
      "text/plain": [
       "Gold SQL: SELECT population FROM city WHERE city_name  =  \u001b[32m\"boulder\"\u001b[0m;\n"
      ]
     },
     "metadata": {},
     "output_type": "display_data"
    },
    {
     "data": {
      "text/html": [
       "<pre style=\"white-space:pre;overflow-x:auto;line-height:normal;font-family:Menlo,'DejaVu Sans Mono',consolas,'Courier New',monospace\"><span style=\"font-weight: bold\">[</span><span style=\"color: #008080; text-decoration-color: #008080; font-weight: bold\">86</span><span style=\"font-weight: bold\">]</span> \n",
       "</pre>\n"
      ],
      "text/plain": [
       "\u001b[1m[\u001b[0m\u001b[1;36m86\u001b[0m\u001b[1m]\u001b[0m \n"
      ]
     },
     "metadata": {},
     "output_type": "display_data"
    },
    {
     "data": {
      "text/html": [
       "<pre style=\"white-space:pre;overflow-x:auto;line-height:normal;font-family:Menlo,'DejaVu Sans Mono',consolas,'Courier New',monospace\">Question: what is the population of boulder city\n",
       "</pre>\n"
      ],
      "text/plain": [
       "Question: what is the population of boulder city\n"
      ]
     },
     "metadata": {},
     "output_type": "display_data"
    },
    {
     "data": {
      "text/html": [
       "<pre style=\"white-space:pre;overflow-x:auto;line-height:normal;font-family:Menlo,'DejaVu Sans Mono',consolas,'Courier New',monospace\">Gold SQL: SELECT population FROM city WHERE city_name  =  <span style=\"color: #008000; text-decoration-color: #008000\">\"boulder\"</span>;\n",
       "</pre>\n"
      ],
      "text/plain": [
       "Gold SQL: SELECT population FROM city WHERE city_name  =  \u001b[32m\"boulder\"\u001b[0m;\n"
      ]
     },
     "metadata": {},
     "output_type": "display_data"
    },
    {
     "data": {
      "text/html": [
       "<pre style=\"white-space:pre;overflow-x:auto;line-height:normal;font-family:Menlo,'DejaVu Sans Mono',consolas,'Courier New',monospace\"><span style=\"font-weight: bold\">[</span><span style=\"color: #008080; text-decoration-color: #008080; font-weight: bold\">87</span><span style=\"font-weight: bold\">]</span> \n",
       "</pre>\n"
      ],
      "text/plain": [
       "\u001b[1m[\u001b[0m\u001b[1;36m87\u001b[0m\u001b[1m]\u001b[0m \n"
      ]
     },
     "metadata": {},
     "output_type": "display_data"
    },
    {
     "data": {
      "text/html": [
       "<pre style=\"white-space:pre;overflow-x:auto;line-height:normal;font-family:Menlo,'DejaVu Sans Mono',consolas,'Courier New',monospace\">Question: how big is the city of boulder\n",
       "</pre>\n"
      ],
      "text/plain": [
       "Question: how big is the city of boulder\n"
      ]
     },
     "metadata": {},
     "output_type": "display_data"
    },
    {
     "data": {
      "text/html": [
       "<pre style=\"white-space:pre;overflow-x:auto;line-height:normal;font-family:Menlo,'DejaVu Sans Mono',consolas,'Courier New',monospace\">Gold SQL: SELECT population FROM city WHERE city_name  =  <span style=\"color: #008000; text-decoration-color: #008000\">\"boulder\"</span>;\n",
       "</pre>\n"
      ],
      "text/plain": [
       "Gold SQL: SELECT population FROM city WHERE city_name  =  \u001b[32m\"boulder\"\u001b[0m;\n"
      ]
     },
     "metadata": {},
     "output_type": "display_data"
    },
    {
     "data": {
      "text/html": [
       "<pre style=\"white-space:pre;overflow-x:auto;line-height:normal;font-family:Menlo,'DejaVu Sans Mono',consolas,'Courier New',monospace\"><span style=\"font-weight: bold\">[</span><span style=\"color: #008080; text-decoration-color: #008080; font-weight: bold\">88</span><span style=\"font-weight: bold\">]</span> \n",
       "</pre>\n"
      ],
      "text/plain": [
       "\u001b[1m[\u001b[0m\u001b[1;36m88\u001b[0m\u001b[1m]\u001b[0m \n"
      ]
     },
     "metadata": {},
     "output_type": "display_data"
    },
    {
     "data": {
      "text/html": [
       "<pre style=\"white-space:pre;overflow-x:auto;line-height:normal;font-family:Menlo,'DejaVu Sans Mono',consolas,'Courier New',monospace\">Question: population of boulder\n",
       "</pre>\n"
      ],
      "text/plain": [
       "Question: population of boulder\n"
      ]
     },
     "metadata": {},
     "output_type": "display_data"
    },
    {
     "data": {
      "text/html": [
       "<pre style=\"white-space:pre;overflow-x:auto;line-height:normal;font-family:Menlo,'DejaVu Sans Mono',consolas,'Courier New',monospace\">Gold SQL: SELECT population FROM city WHERE city_name  =  <span style=\"color: #008000; text-decoration-color: #008000\">\"boulder\"</span>;\n",
       "</pre>\n"
      ],
      "text/plain": [
       "Gold SQL: SELECT population FROM city WHERE city_name  =  \u001b[32m\"boulder\"\u001b[0m;\n"
      ]
     },
     "metadata": {},
     "output_type": "display_data"
    },
    {
     "data": {
      "text/html": [
       "<pre style=\"white-space:pre;overflow-x:auto;line-height:normal;font-family:Menlo,'DejaVu Sans Mono',consolas,'Courier New',monospace\"><span style=\"font-weight: bold\">[</span><span style=\"color: #008080; text-decoration-color: #008080; font-weight: bold\">89</span><span style=\"font-weight: bold\">]</span> \n",
       "</pre>\n"
      ],
      "text/plain": [
       "\u001b[1m[\u001b[0m\u001b[1;36m89\u001b[0m\u001b[1m]\u001b[0m \n"
      ]
     },
     "metadata": {},
     "output_type": "display_data"
    },
    {
     "data": {
      "text/html": [
       "<pre style=\"white-space:pre;overflow-x:auto;line-height:normal;font-family:Menlo,'DejaVu Sans Mono',consolas,'Courier New',monospace\">Question: what is the population in boulder\n",
       "</pre>\n"
      ],
      "text/plain": [
       "Question: what is the population in boulder\n"
      ]
     },
     "metadata": {},
     "output_type": "display_data"
    },
    {
     "data": {
      "text/html": [
       "<pre style=\"white-space:pre;overflow-x:auto;line-height:normal;font-family:Menlo,'DejaVu Sans Mono',consolas,'Courier New',monospace\">Gold SQL: SELECT population FROM city WHERE city_name  =  <span style=\"color: #008000; text-decoration-color: #008000\">\"boulder\"</span>;\n",
       "</pre>\n"
      ],
      "text/plain": [
       "Gold SQL: SELECT population FROM city WHERE city_name  =  \u001b[32m\"boulder\"\u001b[0m;\n"
      ]
     },
     "metadata": {},
     "output_type": "display_data"
    },
    {
     "data": {
      "text/html": [
       "<pre style=\"white-space:pre;overflow-x:auto;line-height:normal;font-family:Menlo,'DejaVu Sans Mono',consolas,'Courier New',monospace\"><span style=\"font-weight: bold\">[</span><span style=\"color: #008080; text-decoration-color: #008080; font-weight: bold\">90</span><span style=\"font-weight: bold\">]</span> \n",
       "</pre>\n"
      ],
      "text/plain": [
       "\u001b[1m[\u001b[0m\u001b[1;36m90\u001b[0m\u001b[1m]\u001b[0m \n"
      ]
     },
     "metadata": {},
     "output_type": "display_data"
    },
    {
     "data": {
      "text/html": [
       "<pre style=\"white-space:pre;overflow-x:auto;line-height:normal;font-family:Menlo,'DejaVu Sans Mono',consolas,'Courier New',monospace\">Question: people in boulder\n",
       "</pre>\n"
      ],
      "text/plain": [
       "Question: people in boulder\n"
      ]
     },
     "metadata": {},
     "output_type": "display_data"
    },
    {
     "data": {
      "text/html": [
       "<pre style=\"white-space:pre;overflow-x:auto;line-height:normal;font-family:Menlo,'DejaVu Sans Mono',consolas,'Courier New',monospace\">Gold SQL: SELECT population FROM city WHERE city_name  =  <span style=\"color: #008000; text-decoration-color: #008000\">\"boulder\"</span>;\n",
       "</pre>\n"
      ],
      "text/plain": [
       "Gold SQL: SELECT population FROM city WHERE city_name  =  \u001b[32m\"boulder\"\u001b[0m;\n"
      ]
     },
     "metadata": {},
     "output_type": "display_data"
    },
    {
     "data": {
      "text/html": [
       "<pre style=\"white-space:pre;overflow-x:auto;line-height:normal;font-family:Menlo,'DejaVu Sans Mono',consolas,'Courier New',monospace\"><span style=\"font-weight: bold\">[</span><span style=\"color: #008080; text-decoration-color: #008080; font-weight: bold\">91</span><span style=\"font-weight: bold\">]</span> \n",
       "</pre>\n"
      ],
      "text/plain": [
       "\u001b[1m[\u001b[0m\u001b[1;36m91\u001b[0m\u001b[1m]\u001b[0m \n"
      ]
     },
     "metadata": {},
     "output_type": "display_data"
    },
    {
     "data": {
      "text/html": [
       "<pre style=\"white-space:pre;overflow-x:auto;line-height:normal;font-family:Menlo,'DejaVu Sans Mono',consolas,'Courier New',monospace\">Question: how many people in boulder\n",
       "</pre>\n"
      ],
      "text/plain": [
       "Question: how many people in boulder\n"
      ]
     },
     "metadata": {},
     "output_type": "display_data"
    },
    {
     "data": {
      "text/html": [
       "<pre style=\"white-space:pre;overflow-x:auto;line-height:normal;font-family:Menlo,'DejaVu Sans Mono',consolas,'Courier New',monospace\">Gold SQL: SELECT population FROM city WHERE city_name  =  <span style=\"color: #008000; text-decoration-color: #008000\">\"boulder\"</span>;\n",
       "</pre>\n"
      ],
      "text/plain": [
       "Gold SQL: SELECT population FROM city WHERE city_name  =  \u001b[32m\"boulder\"\u001b[0m;\n"
      ]
     },
     "metadata": {},
     "output_type": "display_data"
    },
    {
     "data": {
      "text/html": [
       "<pre style=\"white-space:pre;overflow-x:auto;line-height:normal;font-family:Menlo,'DejaVu Sans Mono',consolas,'Courier New',monospace\"><span style=\"font-weight: bold\">[</span><span style=\"color: #008080; text-decoration-color: #008080; font-weight: bold\">92</span><span style=\"font-weight: bold\">]</span> \n",
       "</pre>\n"
      ],
      "text/plain": [
       "\u001b[1m[\u001b[0m\u001b[1;36m92\u001b[0m\u001b[1m]\u001b[0m \n"
      ]
     },
     "metadata": {},
     "output_type": "display_data"
    },
    {
     "data": {
      "text/html": [
       "<pre style=\"white-space:pre;overflow-x:auto;line-height:normal;font-family:Menlo,'DejaVu Sans Mono',consolas,'Courier New',monospace\">Question: how many inhabitants does boulder have\n",
       "</pre>\n"
      ],
      "text/plain": [
       "Question: how many inhabitants does boulder have\n"
      ]
     },
     "metadata": {},
     "output_type": "display_data"
    },
    {
     "data": {
      "text/html": [
       "<pre style=\"white-space:pre;overflow-x:auto;line-height:normal;font-family:Menlo,'DejaVu Sans Mono',consolas,'Courier New',monospace\">Gold SQL: SELECT population FROM city WHERE city_name  =  <span style=\"color: #008000; text-decoration-color: #008000\">\"boulder\"</span>;\n",
       "</pre>\n"
      ],
      "text/plain": [
       "Gold SQL: SELECT population FROM city WHERE city_name  =  \u001b[32m\"boulder\"\u001b[0m;\n"
      ]
     },
     "metadata": {},
     "output_type": "display_data"
    },
    {
     "data": {
      "text/html": [
       "<pre style=\"white-space:pre;overflow-x:auto;line-height:normal;font-family:Menlo,'DejaVu Sans Mono',consolas,'Courier New',monospace\"><span style=\"font-weight: bold\">[</span><span style=\"color: #008080; text-decoration-color: #008080; font-weight: bold\">93</span><span style=\"font-weight: bold\">]</span> \n",
       "</pre>\n"
      ],
      "text/plain": [
       "\u001b[1m[\u001b[0m\u001b[1;36m93\u001b[0m\u001b[1m]\u001b[0m \n"
      ]
     },
     "metadata": {},
     "output_type": "display_data"
    },
    {
     "data": {
      "text/html": [
       "<pre style=\"white-space:pre;overflow-x:auto;line-height:normal;font-family:Menlo,'DejaVu Sans Mono',consolas,'Courier New',monospace\">Question: number of citizens in boulder\n",
       "</pre>\n"
      ],
      "text/plain": [
       "Question: number of citizens in boulder\n"
      ]
     },
     "metadata": {},
     "output_type": "display_data"
    },
    {
     "data": {
      "text/html": [
       "<pre style=\"white-space:pre;overflow-x:auto;line-height:normal;font-family:Menlo,'DejaVu Sans Mono',consolas,'Courier New',monospace\">Gold SQL: SELECT population FROM city WHERE city_name  =  <span style=\"color: #008000; text-decoration-color: #008000\">\"boulder\"</span>;\n",
       "</pre>\n"
      ],
      "text/plain": [
       "Gold SQL: SELECT population FROM city WHERE city_name  =  \u001b[32m\"boulder\"\u001b[0m;\n"
      ]
     },
     "metadata": {},
     "output_type": "display_data"
    },
    {
     "data": {
      "text/html": [
       "<pre style=\"white-space:pre;overflow-x:auto;line-height:normal;font-family:Menlo,'DejaVu Sans Mono',consolas,'Courier New',monospace\"><span style=\"font-weight: bold\">[</span><span style=\"color: #008080; text-decoration-color: #008080; font-weight: bold\">94</span><span style=\"font-weight: bold\">]</span> \n",
       "</pre>\n"
      ],
      "text/plain": [
       "\u001b[1m[\u001b[0m\u001b[1;36m94\u001b[0m\u001b[1m]\u001b[0m \n"
      ]
     },
     "metadata": {},
     "output_type": "display_data"
    },
    {
     "data": {
      "text/html": [
       "<pre style=\"white-space:pre;overflow-x:auto;line-height:normal;font-family:Menlo,'DejaVu Sans Mono',consolas,'Courier New',monospace\">Question: how many citizens in boulder\n",
       "</pre>\n"
      ],
      "text/plain": [
       "Question: how many citizens in boulder\n"
      ]
     },
     "metadata": {},
     "output_type": "display_data"
    },
    {
     "data": {
      "text/html": [
       "<pre style=\"white-space:pre;overflow-x:auto;line-height:normal;font-family:Menlo,'DejaVu Sans Mono',consolas,'Courier New',monospace\">Gold SQL: SELECT population FROM city WHERE city_name  =  <span style=\"color: #008000; text-decoration-color: #008000\">\"boulder\"</span>;\n",
       "</pre>\n"
      ],
      "text/plain": [
       "Gold SQL: SELECT population FROM city WHERE city_name  =  \u001b[32m\"boulder\"\u001b[0m;\n"
      ]
     },
     "metadata": {},
     "output_type": "display_data"
    },
    {
     "data": {
      "text/html": [
       "<pre style=\"white-space:pre;overflow-x:auto;line-height:normal;font-family:Menlo,'DejaVu Sans Mono',consolas,'Courier New',monospace\"><span style=\"font-weight: bold\">[</span><span style=\"color: #008080; text-decoration-color: #008080; font-weight: bold\">95</span><span style=\"font-weight: bold\">]</span> \n",
       "</pre>\n"
      ],
      "text/plain": [
       "\u001b[1m[\u001b[0m\u001b[1;36m95\u001b[0m\u001b[1m]\u001b[0m \n"
      ]
     },
     "metadata": {},
     "output_type": "display_data"
    },
    {
     "data": {
      "text/html": [
       "<pre style=\"white-space:pre;overflow-x:auto;line-height:normal;font-family:Menlo,'DejaVu Sans Mono',consolas,'Courier New',monospace\">Question: what is the smallest city in alaska\n",
       "</pre>\n"
      ],
      "text/plain": [
       "Question: what is the smallest city in alaska\n"
      ]
     },
     "metadata": {},
     "output_type": "display_data"
    },
    {
     "data": {
      "text/html": [
       "<pre style=\"white-space:pre;overflow-x:auto;line-height:normal;font-family:Menlo,'DejaVu Sans Mono',consolas,'Courier New',monospace\">Gold SQL: SELECT city_name FROM city WHERE population  =  <span style=\"font-weight: bold\">(</span> SELECT MIN <span style=\"font-weight: bold\">(</span> population <span style=\"font-weight: bold\">)</span> FROM city WHERE state_name  =\n",
       "<span style=\"color: #008000; text-decoration-color: #008000\">\"alaska\"</span> <span style=\"font-weight: bold\">)</span> AND state_name  =  <span style=\"color: #008000; text-decoration-color: #008000\">\"alaska\"</span>;\n",
       "</pre>\n"
      ],
      "text/plain": [
       "Gold SQL: SELECT city_name FROM city WHERE population  =  \u001b[1m(\u001b[0m SELECT MIN \u001b[1m(\u001b[0m population \u001b[1m)\u001b[0m FROM city WHERE state_name  =\n",
       "\u001b[32m\"alaska\"\u001b[0m \u001b[1m)\u001b[0m AND state_name  =  \u001b[32m\"alaska\"\u001b[0m;\n"
      ]
     },
     "metadata": {},
     "output_type": "display_data"
    },
    {
     "data": {
      "text/html": [
       "<pre style=\"white-space:pre;overflow-x:auto;line-height:normal;font-family:Menlo,'DejaVu Sans Mono',consolas,'Courier New',monospace\"><span style=\"font-weight: bold\">[</span><span style=\"color: #008080; text-decoration-color: #008080; font-weight: bold\">96</span><span style=\"font-weight: bold\">]</span> \n",
       "</pre>\n"
      ],
      "text/plain": [
       "\u001b[1m[\u001b[0m\u001b[1;36m96\u001b[0m\u001b[1m]\u001b[0m \n"
      ]
     },
     "metadata": {},
     "output_type": "display_data"
    },
    {
     "data": {
      "text/html": [
       "<pre style=\"white-space:pre;overflow-x:auto;line-height:normal;font-family:Menlo,'DejaVu Sans Mono',consolas,'Courier New',monospace\">Question: which states lie on the largest river in the united states\n",
       "</pre>\n"
      ],
      "text/plain": [
       "Question: which states lie on the largest river in the united states\n"
      ]
     },
     "metadata": {},
     "output_type": "display_data"
    },
    {
     "data": {
      "text/html": [
       "<pre style=\"white-space:pre;overflow-x:auto;line-height:normal;font-family:Menlo,'DejaVu Sans Mono',consolas,'Courier New',monospace\">Gold SQL: SELECT traverse FROM river WHERE LENGTH  =  <span style=\"font-weight: bold\">(</span> SELECT MAX <span style=\"font-weight: bold\">(</span> LENGTH <span style=\"font-weight: bold\">)</span> FROM river <span style=\"font-weight: bold\">)</span>;\n",
       "</pre>\n"
      ],
      "text/plain": [
       "Gold SQL: SELECT traverse FROM river WHERE LENGTH  =  \u001b[1m(\u001b[0m SELECT MAX \u001b[1m(\u001b[0m LENGTH \u001b[1m)\u001b[0m FROM river \u001b[1m)\u001b[0m;\n"
      ]
     },
     "metadata": {},
     "output_type": "display_data"
    },
    {
     "data": {
      "text/html": [
       "<pre style=\"white-space:pre;overflow-x:auto;line-height:normal;font-family:Menlo,'DejaVu Sans Mono',consolas,'Courier New',monospace\"><span style=\"font-weight: bold\">[</span><span style=\"color: #008080; text-decoration-color: #008080; font-weight: bold\">97</span><span style=\"font-weight: bold\">]</span> \n",
       "</pre>\n"
      ],
      "text/plain": [
       "\u001b[1m[\u001b[0m\u001b[1;36m97\u001b[0m\u001b[1m]\u001b[0m \n"
      ]
     },
     "metadata": {},
     "output_type": "display_data"
    },
    {
     "data": {
      "text/html": [
       "<pre style=\"white-space:pre;overflow-x:auto;line-height:normal;font-family:Menlo,'DejaVu Sans Mono',consolas,'Courier New',monospace\">Question: which states does the longest river run through\n",
       "</pre>\n"
      ],
      "text/plain": [
       "Question: which states does the longest river run through\n"
      ]
     },
     "metadata": {},
     "output_type": "display_data"
    },
    {
     "data": {
      "text/html": [
       "<pre style=\"white-space:pre;overflow-x:auto;line-height:normal;font-family:Menlo,'DejaVu Sans Mono',consolas,'Courier New',monospace\">Gold SQL: SELECT traverse FROM river WHERE LENGTH  =  <span style=\"font-weight: bold\">(</span> SELECT MAX <span style=\"font-weight: bold\">(</span> LENGTH <span style=\"font-weight: bold\">)</span> FROM river <span style=\"font-weight: bold\">)</span>;\n",
       "</pre>\n"
      ],
      "text/plain": [
       "Gold SQL: SELECT traverse FROM river WHERE LENGTH  =  \u001b[1m(\u001b[0m SELECT MAX \u001b[1m(\u001b[0m LENGTH \u001b[1m)\u001b[0m FROM river \u001b[1m)\u001b[0m;\n"
      ]
     },
     "metadata": {},
     "output_type": "display_data"
    },
    {
     "data": {
      "text/html": [
       "<pre style=\"white-space:pre;overflow-x:auto;line-height:normal;font-family:Menlo,'DejaVu Sans Mono',consolas,'Courier New',monospace\"><span style=\"font-weight: bold\">[</span><span style=\"color: #008080; text-decoration-color: #008080; font-weight: bold\">98</span><span style=\"font-weight: bold\">]</span> \n",
       "</pre>\n"
      ],
      "text/plain": [
       "\u001b[1m[\u001b[0m\u001b[1;36m98\u001b[0m\u001b[1m]\u001b[0m \n"
      ]
     },
     "metadata": {},
     "output_type": "display_data"
    },
    {
     "data": {
      "text/html": [
       "<pre style=\"white-space:pre;overflow-x:auto;line-height:normal;font-family:Menlo,'DejaVu Sans Mono',consolas,'Courier New',monospace\">Question: which state has the longest river\n",
       "</pre>\n"
      ],
      "text/plain": [
       "Question: which state has the longest river\n"
      ]
     },
     "metadata": {},
     "output_type": "display_data"
    },
    {
     "data": {
      "text/html": [
       "<pre style=\"white-space:pre;overflow-x:auto;line-height:normal;font-family:Menlo,'DejaVu Sans Mono',consolas,'Courier New',monospace\">Gold SQL: SELECT traverse FROM river WHERE LENGTH  =  <span style=\"font-weight: bold\">(</span> SELECT MAX <span style=\"font-weight: bold\">(</span> LENGTH <span style=\"font-weight: bold\">)</span> FROM river <span style=\"font-weight: bold\">)</span>;\n",
       "</pre>\n"
      ],
      "text/plain": [
       "Gold SQL: SELECT traverse FROM river WHERE LENGTH  =  \u001b[1m(\u001b[0m SELECT MAX \u001b[1m(\u001b[0m LENGTH \u001b[1m)\u001b[0m FROM river \u001b[1m)\u001b[0m;\n"
      ]
     },
     "metadata": {},
     "output_type": "display_data"
    },
    {
     "data": {
      "text/html": [
       "<pre style=\"white-space:pre;overflow-x:auto;line-height:normal;font-family:Menlo,'DejaVu Sans Mono',consolas,'Courier New',monospace\"><span style=\"font-weight: bold\">[</span><span style=\"color: #008080; text-decoration-color: #008080; font-weight: bold\">99</span><span style=\"font-weight: bold\">]</span> \n",
       "</pre>\n"
      ],
      "text/plain": [
       "\u001b[1m[\u001b[0m\u001b[1;36m99\u001b[0m\u001b[1m]\u001b[0m \n"
      ]
     },
     "metadata": {},
     "output_type": "display_data"
    },
    {
     "data": {
      "text/html": [
       "<pre style=\"white-space:pre;overflow-x:auto;line-height:normal;font-family:Menlo,'DejaVu Sans Mono',consolas,'Courier New',monospace\">Question: what are the states through which the longest river runs\n",
       "</pre>\n"
      ],
      "text/plain": [
       "Question: what are the states through which the longest river runs\n"
      ]
     },
     "metadata": {},
     "output_type": "display_data"
    },
    {
     "data": {
      "text/html": [
       "<pre style=\"white-space:pre;overflow-x:auto;line-height:normal;font-family:Menlo,'DejaVu Sans Mono',consolas,'Courier New',monospace\">Gold SQL: SELECT traverse FROM river WHERE LENGTH  =  <span style=\"font-weight: bold\">(</span> SELECT MAX <span style=\"font-weight: bold\">(</span> LENGTH <span style=\"font-weight: bold\">)</span> FROM river <span style=\"font-weight: bold\">)</span>;\n",
       "</pre>\n"
      ],
      "text/plain": [
       "Gold SQL: SELECT traverse FROM river WHERE LENGTH  =  \u001b[1m(\u001b[0m SELECT MAX \u001b[1m(\u001b[0m LENGTH \u001b[1m)\u001b[0m FROM river \u001b[1m)\u001b[0m;\n"
      ]
     },
     "metadata": {},
     "output_type": "display_data"
    },
    {
     "data": {
      "text/html": [
       "<pre style=\"white-space:pre;overflow-x:auto;line-height:normal;font-family:Menlo,'DejaVu Sans Mono',consolas,'Courier New',monospace\">Final Execution Accuracy: <span style=\"color: #008080; text-decoration-color: #008080; font-weight: bold\">66.67</span>%\n",
       "</pre>\n"
      ],
      "text/plain": [
       "Final Execution Accuracy: \u001b[1;36m66.67\u001b[0m%\n"
      ]
     },
     "metadata": {},
     "output_type": "display_data"
    }
   ],
   "source": [
    "NUM_EVAL =100\n",
    "total_accuracy = 0\n",
    "\n",
    "for i, h in enumerate(data[:NUM_EVAL]):\n",
    "    db_id = h['db_id']\n",
    "    conn = get_conn(db_id)\n",
    "    schema = get_db_schema(conn)\n",
    "    question = h['question']\n",
    "    gen = inference(question, schema)\n",
    "    gold = h['query']\n",
    "    \n",
    "    sub_accuracy = compare_sql(gold, gen, conn)\n",
    "    total_accuracy += sub_accuracy\n",
    "\n",
    "    \n",
    "    print(f\"[{i}] \")\n",
    "    print(f\"Question: {question}\")\n",
    "    print(f\"Gold SQL: {sqlparse.format(gold, reident=True)}\")\n",
    "\n",
    "final_accuracy = total_accuracy / NUM_EVAL\n",
    "print(f\"Final Execution Accuracy: {final_accuracy * 100:.2f}%\")"
   ]
  },
  {
   "cell_type": "code",
   "execution_count": null,
   "metadata": {},
   "outputs": [],
   "source": []
  }
 ],
 "metadata": {
  "kaggle": {
   "accelerator": "nvidiaTeslaT4",
   "dataSources": [
    {
     "datasetId": 491586,
     "sourceId": 914551,
     "sourceType": "datasetVersion"
    }
   ],
   "isGpuEnabled": true,
   "isInternetEnabled": true,
   "language": "python",
   "sourceType": "notebook"
  },
  "kernelspec": {
   "display_name": "Python 3 (ipykernel)",
   "language": "python",
   "name": "python3"
  },
  "language_info": {
   "codemirror_mode": {
    "name": "ipython",
    "version": 3
   },
   "file_extension": ".py",
   "mimetype": "text/x-python",
   "name": "python",
   "nbconvert_exporter": "python",
   "pygments_lexer": "ipython3",
   "version": "3.11.4"
  }
 },
 "nbformat": 4,
 "nbformat_minor": 4
}
